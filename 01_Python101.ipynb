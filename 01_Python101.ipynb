{
 "cells": [
  {
   "cell_type": "markdown",
   "metadata": {
    "slideshow": {
     "slide_type": "slide"
    }
   },
   "source": [
    "\n",
    "<center>\n",
    "<span style=\"font-family:Papyrus;  line-height= 0; font-size:2em;\">  Spatial Data Analysis </span>\n",
    "    <img src=\"images/head.png\" height=400 padding = 0px/>\n",
    "<center>"
   ]
  },
  {
   "cell_type": "markdown",
   "metadata": {
    "slideshow": {
     "slide_type": "slide"
    }
   },
   "source": [
    "## What you'll learn in this course\n",
    "\n",
    "- Basic Python\n",
    "    \n",
    "- Data analysis and visualization (Numpy, Pandas, Matplotlib), \n",
    " \n",
    "- Working with spatial data in Python (Vector, Raster, Remote Sensing)\n",
    "    \n",
    "- Insight into advanced use cases (OpenDataCube)\n"
   ]
  },
  {
   "cell_type": "markdown",
   "metadata": {
    "slideshow": {
     "slide_type": "slide"
    }
   },
   "source": [
    "## What I expect from you\n",
    "\n",
    "In general\n",
    "\n",
    "- Paying attention\n",
    "- Active participation\n",
    "- Independent working\n",
    "\n",
    "In order to pass the course\n",
    "\n",
    "- Final Project work"
   ]
  },
  {
   "cell_type": "markdown",
   "metadata": {
    "slideshow": {
     "slide_type": "slide"
    }
   },
   "source": [
    "## Personal request\n",
    "\n",
    "**Please help me to improve the course !**\n",
    "\n",
    "&rightarrow; Don't be shy with feedback\n",
    "\n",
    "&rightarrow; Tell me if I proceed to fast or to slow\n",
    "\n",
    "&rightarrow; If you have ideas for improvement just tell me\n"
   ]
  },
  {
   "cell_type": "markdown",
   "metadata": {
    "slideshow": {
     "slide_type": "slide"
    }
   },
   "source": [
    "# What is python?"
   ]
  },
  {
   "cell_type": "markdown",
   "metadata": {
    "slideshow": {
     "slide_type": "slide"
    }
   },
   "source": [
    "\n",
    "\n",
    "\n",
    "\n",
    "Python is \n",
    "    \n",
    "   <img src=\"https://www.python.org/static/community_logos/python-powered-h-140x182.png\"  width=100 align=right />    \n",
    "    \n",
    "- an interpreted, \n",
    "    \n",
    "- high-level, \n",
    "    \n",
    "- general purpose programming language \n",
    "    \n",
    "- created by Guido van Rossum \n",
    "    \n",
    "- and released in 1991 \n",
    "  \n"
   ]
  },
  {
   "cell_type": "markdown",
   "metadata": {
    "slideshow": {
     "slide_type": "slide"
    }
   },
   "source": [
    "*\"Over six years ago, in December 1989, I was looking for a \"hobby\" programming project that would keep me occupied during the week around Christmas. My office (a government-run research lab in Amsterdam) would be closed, but I had a home computer, and not much else on my hands. I decided to write an interpreter for the new scripting language I had been thinking about lately: a descendant of ABC that would appeal to Unix/C hackers. I chose Python as a title for the project, being in a slightly irreverent mood (and a big fan of Monty Python's Flying Circus).\"*\n",
    "\n",
    "- Guido van Rossum"
   ]
  },
  {
   "cell_type": "markdown",
   "metadata": {
    "slideshow": {
     "slide_type": "slide"
    }
   },
   "source": [
    "Python is an **interpreted** language\n",
    "\n",
    "- **compiled language**: a compiler will translate the program into machine code before being executed (e.g. C, Pascal, Fortran, Go)\n",
    "\n",
    "- **interpreted language**: the instructions are not directly executed by the target machine, but instead read and executed by some other program (Python, R , JavaScript)\n"
   ]
  },
  {
   "cell_type": "markdown",
   "metadata": {
    "slideshow": {
     "slide_type": "slide"
    }
   },
   "source": [
    "Python is open source\n",
    "\n",
    "  <img src=\"images/open_source.png\"  width=300 align=right />  \n",
    "\n",
    "- no costs\n",
    "- free redistribution \n",
    "- source code access\n",
    "- crowdsourcing\n",
    " \n"
   ]
  },
  {
   "cell_type": "markdown",
   "metadata": {
    "slideshow": {
     "slide_type": "slide"
    }
   },
   "source": [
    " \n",
    "Cross-platform\n",
    " <img src=\"images/os.png\"  width=300 align=right /> \n",
    " - Windows, Mac, Linux\n",
    " \n",
    " - Android, Raspberry, Nintendo, Playstation, Xbox\n",
    " "
   ]
  },
  {
   "cell_type": "markdown",
   "metadata": {
    "slideshow": {
     "slide_type": "slide"
    }
   },
   "source": [
    "Multiple programming paradigms\n",
    "- procedural\n",
    "- object-oriented\n",
    "- functional"
   ]
  },
  {
   "cell_type": "markdown",
   "metadata": {
    "slideshow": {
     "slide_type": "slide"
    }
   },
   "source": [
    "Zen of Python - PEP 20\n",
    "\n",
    "- Beautiful is better than ugly\n",
    "- Explicit is better than implicit\n",
    "- Simple is better than complex\n",
    "- Complex is better than complicated\n",
    "- Readability counts"
   ]
  },
  {
   "cell_type": "code",
   "execution_count": 1,
   "metadata": {
    "slideshow": {
     "slide_type": "slide"
    }
   },
   "outputs": [
    {
     "name": "stdout",
     "output_type": "stream",
     "text": [
      "The Zen of Python, by Tim Peters\n",
      "\n",
      "Beautiful is better than ugly.\n",
      "Explicit is better than implicit.\n",
      "Simple is better than complex.\n",
      "Complex is better than complicated.\n",
      "Flat is better than nested.\n",
      "Sparse is better than dense.\n",
      "Readability counts.\n",
      "Special cases aren't special enough to break the rules.\n",
      "Although practicality beats purity.\n",
      "Errors should never pass silently.\n",
      "Unless explicitly silenced.\n",
      "In the face of ambiguity, refuse the temptation to guess.\n",
      "There should be one-- and preferably only one --obvious way to do it.\n",
      "Although that way may not be obvious at first unless you're Dutch.\n",
      "Now is better than never.\n",
      "Although never is often better than *right* now.\n",
      "If the implementation is hard to explain, it's a bad idea.\n",
      "If the implementation is easy to explain, it may be a good idea.\n",
      "Namespaces are one honking great idea -- let's do more of those!\n"
     ]
    }
   ],
   "source": [
    "import this"
   ]
  },
  {
   "cell_type": "markdown",
   "metadata": {
    "slideshow": {
     "slide_type": "slide"
    }
   },
   "source": [
    "# Why using python?"
   ]
  },
  {
   "cell_type": "markdown",
   "metadata": {
    "slideshow": {
     "slide_type": "slide"
    }
   },
   "source": [
    "- Simple and easy to learn (based on ABC)\n",
    "- Focus on readability (PEP 20)"
   ]
  },
  {
   "cell_type": "markdown",
   "metadata": {
    "slideshow": {
     "slide_type": "slide"
    }
   },
   "source": [
    "##### Hello World! in Java\n",
    "```java\n",
    "class Main{\n",
    "\n",
    "    public static void main(String... args) {\n",
    " \n",
    "        System.out.println(\"Hello World!\");\n",
    "    }\n",
    "}\n",
    "```\n",
    "##### Hello World! in C++\n",
    "```c++\n",
    "#include <iostream>\n",
    "using namespace std;\n",
    "\n",
    "int main() \n",
    "{\n",
    "    cout << \"Hello, World!\";\n",
    "    return 0;\n",
    "}\n",
    "```\n"
   ]
  },
  {
   "cell_type": "markdown",
   "metadata": {
    "slideshow": {
     "slide_type": "slide"
    }
   },
   "source": [
    "##### Hello World! in Python"
   ]
  },
  {
   "cell_type": "code",
   "execution_count": 1,
   "metadata": {
    "slideshow": {
     "slide_type": "fragment"
    }
   },
   "outputs": [
    {
     "name": "stdout",
     "output_type": "stream",
     "text": [
      "Hello World!\n"
     ]
    }
   ],
   "source": [
    "print(\"Hello World!\")"
   ]
  },
  {
   "cell_type": "markdown",
   "metadata": {
    "slideshow": {
     "slide_type": "slide"
    }
   },
   "source": [
    "- Simple and easy to learn (based on ABC)\n",
    "- Focus on readability (PEP 20)\n",
    "- Huge user community (e.g github, stackoverflow)"
   ]
  },
  {
   "cell_type": "markdown",
   "metadata": {
    "slideshow": {
     "slide_type": "slide"
    }
   },
   "source": [
    "<img src=\"images/python_stack.png\" width=800 />\n",
    "https://stackoverflow.blog"
   ]
  },
  {
   "cell_type": "markdown",
   "metadata": {
    "slideshow": {
     "slide_type": "slide"
    }
   },
   "source": [
    "https://trends.google.de/trends/explore?cat=5&date=today%205-y&q=R%20Data%20Science,Python%20Data%20Science"
   ]
  },
  {
   "cell_type": "markdown",
   "metadata": {
    "slideshow": {
     "slide_type": "slide"
    }
   },
   "source": [
    "- Simple and easy to learn (based on ABC)\n",
    "- Focus on readability (PEP 20)\n",
    "- Huge user community (e.g github, stackoverflow)\n",
    "- Versatile (many applications)"
   ]
  },
  {
   "cell_type": "markdown",
   "metadata": {
    "slideshow": {
     "slide_type": "slide"
    }
   },
   "source": [
    "<img src=\"images/Python_info3.png\"  />"
   ]
  },
  {
   "cell_type": "markdown",
   "metadata": {
    "slideshow": {
     "slide_type": "slide"
    }
   },
   "source": [
    "- Simple and easy to learn (based on ABC)\n",
    "- Focus on readability (PEP 20)\n",
    "- Huge user community (e.g github, stackoverflow)\n",
    "- Versatile (many applications)\n",
    "- Incredible number of modules and extensive libraries"
   ]
  },
  {
   "cell_type": "markdown",
   "metadata": {
    "slideshow": {
     "slide_type": "slide"
    }
   },
   "source": [
    "<img src=\"images/Python_info4.png\" width=800 align=\"center\"  />"
   ]
  },
  {
   "cell_type": "code",
   "execution_count": 3,
   "metadata": {
    "slideshow": {
     "slide_type": "slide"
    }
   },
   "outputs": [
    {
     "name": "stdout",
     "output_type": "stream",
     "text": [
      "Total python packages in the official repository: 254236\n"
     ]
    }
   ],
   "source": [
    "import urllib\n",
    "import re\n",
    "req = urllib.request.Request(\"https://pypi.org/simple/\")\n",
    "with urllib.request.urlopen(req) as response:\n",
    "            if 200 == response.code:\n",
    "                html_content = str(response.read())\n",
    "                match = re.findall('<a +href=\"(.+?)\" *>', html_content)\n",
    "                packages= [x[8 : len(x) - 1] for x in match]\n",
    "                \n",
    "print('Total python packages in the official repository: ' + str(len(packages)))"
   ]
  },
  {
   "cell_type": "markdown",
   "metadata": {
    "slideshow": {
     "slide_type": "slide"
    }
   },
   "source": [
    "<img src=\"https://qph.fs.quoracdn.net/main-qimg-c7295797296f039f8b383ed5eadc171c.webp\" width=800 align=\"center\"  />"
   ]
  },
  {
   "cell_type": "code",
   "execution_count": 2,
   "metadata": {
    "slideshow": {
     "slide_type": "slide"
    }
   },
   "outputs": [],
   "source": [
    "import antigravity"
   ]
  },
  {
   "cell_type": "markdown",
   "metadata": {
    "slideshow": {
     "slide_type": "slide"
    }
   },
   "source": [
    "##### Why Python for GIS/Remote Sensing\n",
    "\n",
    "\n",
    "- **Efficiency**: Quick, easy-to-use, reproducible\n",
    "- **Automation**: No need for clicking around in GIS software\n",
    "- **Workflow**: Create your own workflow\n",
    "- **Flexibility**:  Supports all data formats that you can imagine\n",
    "- **Extensibility**: Use and chain different third-party software \n",
    "\n",
    "<img src=\"images/spatialpython.png\"  width=550 align=right />"
   ]
  },
  {
   "cell_type": "markdown",
   "metadata": {
    "slideshow": {
     "slide_type": "slide"
    }
   },
   "source": [
    "## Examples\n",
    "\n",
    "- Spatial Mapping\n",
    "\n",
    "- GEE QGIS\n",
    "\n",
    "- QGIS Classification Plugin"
   ]
  },
  {
   "cell_type": "markdown",
   "metadata": {
    "slideshow": {
     "slide_type": "slide"
    }
   },
   "source": [
    "## Installing Python:\n",
    "\n",
    "- Python has three major versions (1.x,2.x,3.x) \n",
    "- Python 3.x is the present and future of the language\n",
    "- Because of Problems with the backward compatibility Python 2.x is still used. \n",
    "\n",
    "&rightarrow; In this course we will use Python 3.x.\n",
    "\n",
    "Please go to https://www.python.org/downloads/, download python and install.\n"
   ]
  },
  {
   "cell_type": "markdown",
   "metadata": {
    "slideshow": {
     "slide_type": "slide"
    }
   },
   "source": [
    "### Anaconda Distribution:\n",
    "\n",
    "<img src=\"images/anaconda.png\" width=500 align=right />\n",
    "\n",
    "Anaconda is a open-source distribution for programming languages, including Python, R, Ruby, Lua, Scala, Java, JavaScript, C/ C++, FORTRAN. Conda is an open source package management system and environment management system that runs on Windows, macOS and Linux.\n",
    "\n",
    "Please go to https://www.anaconda.com/distribution/, download python and install.\n",
    "\n"
   ]
  },
  {
   "cell_type": "markdown",
   "metadata": {
    "slideshow": {
     "slide_type": "slide"
    }
   },
   "source": [
    "### Virtual Environments (recommended):\n",
    "\n",
    "A virtual environment is a isolated copy of Python that maintains its own files, directories, and paths.\n",
    "This allows you to work with specific versions of Python and libraries without affecting other projects. \n",
    "For the creation and activation of environments use following terminal commands:\n",
    "    \n",
    "```conda create --name myenv```\n",
    "\n",
    "Examples: \n",
    "\n",
    "```conda create --name eagles-python```\n",
    "\n",
    "In order to activate your conda environment use:\n",
    "\n",
    "```conda activate eagles-python```\n"
   ]
  },
  {
   "cell_type": "markdown",
   "metadata": {
    "slideshow": {
     "slide_type": "slide"
    }
   },
   "source": [
    "### Jupyter Notebook (IPython)\n",
    "<img src=\"images/jupyter.png\" width=300 align=right />\n",
    "\n",
    "Jupyter Notebook is open-source web application which makes it easy to create and share documents.With jupyter notebook you can nicely combine live code, equations, visualizations and narrative text.\n",
    "\n",
    "You can install jupyter notebook using following command:\n",
    "\n",
    "```conda install -c anaconda jupyter ```\n"
   ]
  },
  {
   "cell_type": "markdown",
   "metadata": {
    "slideshow": {
     "slide_type": "slide"
    }
   },
   "source": [
    "### Other IDE´s\n",
    "\n",
    "If you want to use another IDE (Integrated Development Environment) than IPython you can use one of the \n",
    "various other Python IDE´s, which offer you an easy way to write your code and visualize your data: \n",
    "\n",
    "Common IDE´s:\n",
    "- Spyder https://github.com/spyder-ide\n",
    "- PyCharm https://www.jetbrains.com/pycharm/\n",
    "- Atom https://atom.io"
   ]
  },
  {
   "cell_type": "markdown",
   "metadata": {
    "slideshow": {
     "slide_type": "slide"
    }
   },
   "source": [
    "# Basics\n"
   ]
  },
  {
   "cell_type": "markdown",
   "metadata": {
    "slideshow": {
     "slide_type": "slide"
    }
   },
   "source": [
    "## Get started: Your first \"program\"\n",
    "\n",
    "In order to create your first program in Python, just open your preferred text editor and enter for example:"
   ]
  },
  {
   "cell_type": "code",
   "execution_count": 3,
   "metadata": {
    "code_folding": [],
    "scrolled": true,
    "slideshow": {
     "slide_type": "fragment"
    }
   },
   "outputs": [
    {
     "name": "stdout",
     "output_type": "stream",
     "text": [
      "Hello World\n"
     ]
    }
   ],
   "source": [
    "#! /usr/bin/env python3 \n",
    "\n",
    "#This code prints 'Hello World'\n",
    "#Author: Steven Hill\n",
    "\n",
    "print('Hello World')"
   ]
  },
  {
   "cell_type": "code",
   "execution_count": 5,
   "metadata": {
    "slideshow": {
     "slide_type": "fragment"
    }
   },
   "outputs": [
    {
     "name": "stdout",
     "output_type": "stream",
     "text": [
      "python: can't open file 'helloworld.py': [Errno 2] No such file or directory\r\n"
     ]
    }
   ],
   "source": [
    "!python helloworld.py"
   ]
  },
  {
   "cell_type": "markdown",
   "metadata": {
    "slideshow": {
     "slide_type": "slide"
    }
   },
   "source": [
    "### Now the same in jupyter notebook"
   ]
  },
  {
   "cell_type": "markdown",
   "metadata": {
    "slideshow": {
     "slide_type": "slide"
    }
   },
   "source": [
    "#### Running (executing) a cell\n",
    "\n",
    "Jupyter Notebooks allow code to be separated into sections that can be executed independent of one another. These sections are called \"cells\".\n",
    "\n",
    "Running a cell means that you will execute the cell’s contents. To execute a cell, you can just select the cell and click the Run button that is in the row of buttons along the top. It’s towards the middle. If you prefer using your keyboard, you can just press SHIFT + ENTER\n",
    "\n",
    "To automatically run all cells in a notebook, navigate to the \"Run\" tab of the menu bar at the top of JupyterLab and select \"Run All Cells\" (or the option that best suits your needs). When a cell is run, the cell's content is executed. Any output produced from running the cell will appear directly below it."
   ]
  },
  {
   "cell_type": "code",
   "execution_count": 6,
   "metadata": {
    "slideshow": {
     "slide_type": "slide"
    }
   },
   "outputs": [
    {
     "name": "stdout",
     "output_type": "stream",
     "text": [
      "Hello World\n"
     ]
    }
   ],
   "source": [
    "print('Hello World')"
   ]
  },
  {
   "cell_type": "markdown",
   "metadata": {
    "slideshow": {
     "slide_type": "fragment"
    }
   },
   "source": [
    "#### Cell status\n",
    "\n",
    "The [ ]: symbol to the left of each Code cell describes the state of the cell:\n",
    "\n",
    "    [ ]: means that the cell has not been run yet.\n",
    "    [*]: means that the cell is currently running.\n",
    "    [1]: means that the cell has finished running and was the first cell run."
   ]
  },
  {
   "cell_type": "markdown",
   "metadata": {
    "slideshow": {
     "slide_type": "slide"
    }
   },
   "source": [
    "### Mathematical Operations\n",
    "\n",
    "Now we can try some basic mathematical operations"
   ]
  },
  {
   "cell_type": "code",
   "execution_count": 7,
   "metadata": {
    "slideshow": {
     "slide_type": "fragment"
    }
   },
   "outputs": [
    {
     "data": {
      "text/plain": [
       "246"
      ]
     },
     "execution_count": 7,
     "metadata": {},
     "output_type": "execute_result"
    }
   ],
   "source": [
    "243 + 3"
   ]
  },
  {
   "cell_type": "code",
   "execution_count": 8,
   "metadata": {
    "slideshow": {
     "slide_type": "fragment"
    }
   },
   "outputs": [
    {
     "data": {
      "text/plain": [
       "4422"
      ]
     },
     "execution_count": 8,
     "metadata": {},
     "output_type": "execute_result"
    }
   ],
   "source": [
    "4454 - 32"
   ]
  },
  {
   "cell_type": "code",
   "execution_count": 9,
   "metadata": {
    "slideshow": {
     "slide_type": "fragment"
    }
   },
   "outputs": [
    {
     "data": {
      "text/plain": [
       "111.0"
      ]
     },
     "execution_count": 9,
     "metadata": {},
     "output_type": "execute_result"
    }
   ],
   "source": [
    "222 / 2 "
   ]
  },
  {
   "cell_type": "code",
   "execution_count": 10,
   "metadata": {
    "slideshow": {
     "slide_type": "fragment"
    }
   },
   "outputs": [
    {
     "name": "stdout",
     "output_type": "stream",
     "text": [
      "189781812\n"
     ]
    },
    {
     "data": {
      "text/plain": [
       "1896"
      ]
     },
     "execution_count": 10,
     "metadata": {},
     "output_type": "execute_result"
    }
   ],
   "source": [
    "print(4 * 47445453)\n",
    "4 * 474"
   ]
  },
  {
   "cell_type": "markdown",
   "metadata": {
    "slideshow": {
     "slide_type": "slide"
    }
   },
   "source": [
    "### Variables and Datatypes\n",
    "\n",
    "The idea of variables is fundamental to any programming. A variable allows you to store a value by assigning it to a defined name. \n",
    "To assign a variable a name, use one equal sign."
   ]
  },
  {
   "cell_type": "code",
   "execution_count": 3,
   "metadata": {
    "slideshow": {
     "slide_type": "fragment"
    }
   },
   "outputs": [],
   "source": [
    "x = 5 "
   ]
  },
  {
   "cell_type": "markdown",
   "metadata": {
    "slideshow": {
     "slide_type": "fragment"
    }
   },
   "source": [
    "The name 'x' now refers to the value 5. To print out the actual value of 'x' use the print() command"
   ]
  },
  {
   "cell_type": "code",
   "execution_count": 2,
   "metadata": {
    "slideshow": {
     "slide_type": "fragment"
    }
   },
   "outputs": [
    {
     "name": "stdout",
     "output_type": "stream",
     "text": [
      "5\n"
     ]
    }
   ],
   "source": [
    "print(x)"
   ]
  },
  {
   "cell_type": "markdown",
   "metadata": {
    "slideshow": {
     "slide_type": "slide"
    }
   },
   "source": [
    "Python directly recognizes a variety of data types. So we don´t need to initialize each variable beforehand. If you want to know the type of a variable use the function 'type()'"
   ]
  },
  {
   "cell_type": "code",
   "execution_count": 4,
   "metadata": {
    "slideshow": {
     "slide_type": "fragment"
    }
   },
   "outputs": [],
   "source": [
    "my_string = 'Hello, World!'\n",
    "my_float = 45.06\n",
    "my_bool = 5 > 9 #A Boolean value will return either True or False\n",
    "my_list = ['item_1', 'item_2', 'item_3', 'item_4']\n",
    "my_tuple = ('one', 'two', 'three')\n",
    "my_dict = {'letter': 'g', 'number': 'seven', 'symbol': '&'}"
   ]
  },
  {
   "cell_type": "code",
   "execution_count": 5,
   "metadata": {
    "slideshow": {
     "slide_type": "slide"
    }
   },
   "outputs": [
    {
     "name": "stdout",
     "output_type": "stream",
     "text": [
      "Hello, World!\n",
      "45.06\n",
      "False\n",
      "['item_1', 'item_2', 'item_3', 'item_4']\n",
      "('one', 'two', 'three')\n",
      "{'letter': 'g', 'number': 'seven', 'symbol': '&'}\n",
      "<class 'str'>\n",
      "<class 'float'>\n",
      "<class 'bool'>\n",
      "<class 'list'>\n",
      "<class 'tuple'>\n",
      "<class 'dict'>\n"
     ]
    }
   ],
   "source": [
    "print(my_string)\n",
    "print(my_float)\n",
    "print(my_bool)\n",
    "print(my_list)\n",
    "print(my_tuple)\n",
    "print(my_dict)\n",
    "\n",
    "print(type(my_string))\n",
    "print(type(my_float))\n",
    "print(type(my_bool))\n",
    "print(type(my_list))\n",
    "print(type(my_tuple))\n",
    "print(type(my_dict))"
   ]
  },
  {
   "cell_type": "markdown",
   "metadata": {
    "slideshow": {
     "slide_type": "slide"
    }
   },
   "source": [
    "In python variables can be easily reassigned. This means that you can connect a different value with a previously assigned variable, even if the variable is of different type."
   ]
  },
  {
   "cell_type": "code",
   "execution_count": 6,
   "metadata": {
    "slideshow": {
     "slide_type": "fragment"
    }
   },
   "outputs": [
    {
     "name": "stdout",
     "output_type": "stream",
     "text": [
      "7\n",
      "False\n"
     ]
    }
   ],
   "source": [
    "x = 7\n",
    "print(x)\n",
    "\n",
    "x = 3 > 4\n",
    "print(x)"
   ]
  },
  {
   "cell_type": "markdown",
   "metadata": {
    "slideshow": {
     "slide_type": "slide"
    }
   },
   "source": [
    "### Assignment\n",
    "\n",
    "In python the '=' is used to assign a value to a variable. Besides a single equal sign you can also use combinations with other operators."
   ]
  },
  {
   "cell_type": "code",
   "execution_count": 7,
   "metadata": {
    "slideshow": {
     "slide_type": "fragment"
    }
   },
   "outputs": [
    {
     "name": "stdout",
     "output_type": "stream",
     "text": [
      "12\n",
      "24\n",
      "12.0\n",
      "7.0\n",
      "12.0\n"
     ]
    }
   ],
   "source": [
    "x=7\n",
    "x = 12\n",
    "print(x)\n",
    "x *= 2   # multiply x by 2\n",
    "print(x)\n",
    "x /= 2   # divide x by 2\n",
    "print(x)\n",
    "x -= 5   # subtract x by 5\n",
    "print(x)\n",
    "x += 5   # add 5 to x\n",
    "print(x)"
   ]
  },
  {
   "cell_type": "markdown",
   "metadata": {
    "slideshow": {
     "slide_type": "slide"
    }
   },
   "source": [
    "### Python libraries\n",
    "\n",
    "One of the main advantages in python is the extensive standard library (already included in python) and the huge number of third party libraries.\n",
    "In order to use these libraries you have to import them. Therefor you just need the 'import' command.\n"
   ]
  },
  {
   "cell_type": "code",
   "execution_count": 1,
   "metadata": {
    "slideshow": {
     "slide_type": "fragment"
    }
   },
   "outputs": [
    {
     "data": {
      "text/plain": [
       "5"
      ]
     },
     "execution_count": 1,
     "metadata": {},
     "output_type": "execute_result"
    }
   ],
   "source": [
    "import math\n",
    "math.ceil(4.445)"
   ]
  },
  {
   "cell_type": "markdown",
   "metadata": {
    "slideshow": {
     "slide_type": "slide"
    }
   },
   "source": [
    "When using the import command, python only loads the name of this module (e.g. math) and not the names of the single functions. <br>\n",
    "If you want to use individual classes or functions within the module you have to enter the name of the module and the name of the function separated by a dot:"
   ]
  },
  {
   "cell_type": "code",
   "execution_count": 9,
   "metadata": {
    "slideshow": {
     "slide_type": "fragment"
    }
   },
   "outputs": [
    {
     "data": {
      "text/plain": [
       "2"
      ]
     },
     "execution_count": 9,
     "metadata": {},
     "output_type": "execute_result"
    }
   ],
   "source": [
    "import math\n",
    "math.ceil(1.34) # math = module name , ceil = function name"
   ]
  },
  {
   "cell_type": "markdown",
   "metadata": {
    "slideshow": {
     "slide_type": "slide"
    }
   },
   "source": [
    "You can also assign a function to variable to a variable name"
   ]
  },
  {
   "cell_type": "code",
   "execution_count": 10,
   "metadata": {
    "slideshow": {
     "slide_type": "fragment"
    }
   },
   "outputs": [
    {
     "data": {
      "text/plain": [
       "2"
      ]
     },
     "execution_count": 10,
     "metadata": {},
     "output_type": "execute_result"
    }
   ],
   "source": [
    "import math\n",
    "ceil = math.ceil\n",
    "ceil(1.34)"
   ]
  },
  {
   "cell_type": "markdown",
   "metadata": {
    "slideshow": {
     "slide_type": "slide"
    }
   },
   "source": [
    "If you want to load only one or more specific function you can use the term from ... import ..."
   ]
  },
  {
   "cell_type": "code",
   "execution_count": 11,
   "metadata": {
    "slideshow": {
     "slide_type": "fragment"
    }
   },
   "outputs": [],
   "source": [
    "from math import ceil\n",
    "from math import ceil, fabs, trunc\n",
    "from math import*      # import all functions of the module"
   ]
  },
  {
   "cell_type": "markdown",
   "metadata": {
    "slideshow": {
     "slide_type": "subslide"
    }
   },
   "source": [
    "You can also assign a new name to the a module or function while importing"
   ]
  },
  {
   "cell_type": "code",
   "execution_count": 12,
   "metadata": {
    "slideshow": {
     "slide_type": "fragment"
    }
   },
   "outputs": [
    {
     "name": "stdout",
     "output_type": "stream",
     "text": [
      "2\n",
      "2\n"
     ]
    }
   ],
   "source": [
    "import math as m\n",
    "print(m.ceil(1.34))\n",
    "\n",
    "from math import ceil as c\n",
    "print(c(1.34))"
   ]
  },
  {
   "cell_type": "markdown",
   "metadata": {
    "slideshow": {
     "slide_type": "slide"
    }
   },
   "source": [
    "### Help \n",
    "\n",
    "If you want to know more about a function/library or what they are exactly doing you can use the 'help()' function."
   ]
  },
  {
   "cell_type": "code",
   "execution_count": 13,
   "metadata": {
    "slideshow": {
     "slide_type": "fragment"
    }
   },
   "outputs": [
    {
     "name": "stdout",
     "output_type": "stream",
     "text": [
      "Help on built-in function cos in module math:\n",
      "\n",
      "cos(x, /)\n",
      "    Return the cosine of x (measured in radians).\n",
      "\n"
     ]
    }
   ],
   "source": [
    "import math\n",
    "help(math.cos)"
   ]
  },
  {
   "cell_type": "markdown",
   "metadata": {
    "slideshow": {
     "slide_type": "slide"
    }
   },
   "source": [
    "### Keywords\n",
    "\n",
    "Like most of the other programming languages python has several,so called, 'Keywords'. These statements have a special meaning in python codes. Most of these keywords will be explained in course of this tutorial."
   ]
  },
  {
   "cell_type": "code",
   "execution_count": 14,
   "metadata": {
    "slideshow": {
     "slide_type": "fragment"
    }
   },
   "outputs": [
    {
     "name": "stdout",
     "output_type": "stream",
     "text": [
      "['False', 'None', 'True', 'and', 'as', 'assert', 'async', 'await', 'break', 'class', 'continue', 'def', 'del', 'elif', 'else', 'except', 'finally', 'for', 'from', 'global', 'if', 'import', 'in', 'is', 'lambda', 'nonlocal', 'not', 'or', 'pass', 'raise', 'return', 'try', 'while', 'with', 'yield']\n"
     ]
    }
   ],
   "source": [
    "import keyword\n",
    "print(keyword.kwlist)"
   ]
  },
  {
   "cell_type": "markdown",
   "metadata": {
    "slideshow": {
     "slide_type": "slide"
    }
   },
   "source": [
    "### Numbers\n",
    "\n",
    "Just try some simple calculations (the operators +, -, * and / work just like other programming languages)\n"
   ]
  },
  {
   "cell_type": "code",
   "execution_count": 15,
   "metadata": {
    "slideshow": {
     "slide_type": "fragment"
    }
   },
   "outputs": [
    {
     "name": "stdout",
     "output_type": "stream",
     "text": [
      "13 46 63.333333333333336 16 6\n"
     ]
    }
   ],
   "source": [
    "a = 8+5 \n",
    "b = 6+4*10\n",
    "c = 64-4/6\n",
    "d = 2**4      \n",
    "e = (-7+9)*3\n",
    "\n",
    "print(a,b,c,d,e)"
   ]
  },
  {
   "cell_type": "markdown",
   "metadata": {
    "slideshow": {
     "slide_type": "fragment"
    }
   },
   "source": [
    "Integer numbers (e.g 1,2,4,5,95) have the type 'int'. Another number type in  python is 'float', which can be created directly by entering a number with a decimal point (e.g. 1.0, 3.6, 32.6). \n",
    "\n",
    "Why is this important? "
   ]
  },
  {
   "cell_type": "code",
   "execution_count": 16,
   "metadata": {
    "slideshow": {
     "slide_type": "fragment"
    }
   },
   "outputs": [
    {
     "data": {
      "text/plain": [
       "float"
      ]
     },
     "execution_count": 16,
     "metadata": {},
     "output_type": "execute_result"
    }
   ],
   "source": [
    "x = 19/2\n",
    "type(x)\n",
    "#int(x)"
   ]
  },
  {
   "cell_type": "markdown",
   "metadata": {
    "slideshow": {
     "slide_type": "slide"
    }
   },
   "source": [
    "In this case divisor and dividend are both of type 'int'. The return type of a division (/) operation depends on its operands. Because of this python assumes that also the result must be of type 'int'. \n",
    "So, if we want to get a result with a fractional part, we have to use type 'float'."
   ]
  },
  {
   "cell_type": "code",
   "execution_count": 17,
   "metadata": {
    "slideshow": {
     "slide_type": "fragment"
    }
   },
   "outputs": [
    {
     "name": "stdout",
     "output_type": "stream",
     "text": [
      "9.5\n",
      "9.5\n",
      "9.5\n",
      "9\n",
      "1.0\n"
     ]
    }
   ],
   "source": [
    "# Careful Python 2 behavior would be\n",
    "\n",
    "a = 19/2  # int / int -> int\n",
    "b = 19.0/2.0 # float / float -> float\n",
    "c = 19.0/2 # if only one operand is float, the result is also float\n",
    "\n",
    "# Careful Python 3 behavior\n",
    "\n",
    "a = 19/2  # int / int -> float\n",
    "b = 19.0/2.0 # float / float -> float\n",
    "c = 19.0/2 # if only one operand is float, the result is also float\n",
    "\n",
    "\n",
    "d = 18//2    # int // int -> int (integer division)\n",
    "e = 19.0%2  #T The % (modulo) operator returns the remainder of the division   \n",
    "\n",
    "\n",
    "print(a)\n",
    "print(b)\n",
    "print(c)\n",
    "print(d)\n",
    "print(e)"
   ]
  },
  {
   "cell_type": "markdown",
   "metadata": {
    "slideshow": {
     "slide_type": "slide"
    }
   },
   "source": [
    "Other number types are 'long' and 'complex'.\n",
    "\n",
    "Numbers of the type 'long' (long integers) are integers of unlimited size. This type is written like integers followed by an uppercase or lowercase L (e.g. 0122L, 51924361L).\n",
    "\n",
    "Complex numbers have a real and imaginary part, which are each a floating point number (e.g. 3.14j, -.6545+0J, 45.j)"
   ]
  },
  {
   "cell_type": "markdown",
   "metadata": {
    "slideshow": {
     "slide_type": "slide"
    }
   },
   "source": [
    "Below is a list of operations for these build-in numeric types:"
   ]
  },
  {
   "cell_type": "markdown",
   "metadata": {
    "slideshow": {
     "slide_type": "fragment"
    }
   },
   "source": [
    "| Operation      | Result      |\n",
    "|---------------|--------------|\n",
    "|x + y          |sum of x and y|\n",
    "|x - y          |difference of x and y| \n",
    "|x * y          |product of x and y|\n",
    "|x / y          |quotient of x and y|\n",
    "|x // y         |(floored) quotient of x and y           |\n",
    "|x % y          |remainder of x / y                      |\n",
    "|-x             |x negated                               |\n",
    "|+x             |x unchanged                             | \n",
    "|abs(x)         |absolute value or magnitude of x        |\n",
    "|int(x)         |x converted to integer                  |\n",
    "|long(x)        |x converted to long integer             |\n",
    "|float(x)       |x converted to floating point           |\n",
    "|complex(re,im) |a complex number with real part re,     |\n",
    "|               |imaginary part im (im defaults to zero) |\n",
    "|c.conjugate()  |conjugate of the complex number c       |\n",
    "|divmod(x, y)   |the pair (x // y, x % y)                |\n",
    "|pow(x, y)      |x to the power y                        | \n",
    "|x ** y         |x to the power y                        |"
   ]
  },
  {
   "cell_type": "markdown",
   "metadata": {
    "slideshow": {
     "slide_type": "slide"
    }
   },
   "source": [
    "### Booleans and comparison\n",
    "\n",
    "Another type in python is the so called boolean type. This type has two values: True and false. Booleans can be assign to a variable name or created for example when comparing values using the equal operator '=='. Another way to compare values is the not equal operator '!=' and the operators for greater '>' or smaller '<'."
   ]
  },
  {
   "cell_type": "code",
   "execution_count": 1,
   "metadata": {
    "slideshow": {
     "slide_type": "fragment"
    }
   },
   "outputs": [
    {
     "name": "stdout",
     "output_type": "stream",
     "text": [
      "True\n",
      "False\n",
      "True\n",
      "True\n",
      "True\n",
      "True\n",
      "False\n"
     ]
    }
   ],
   "source": [
    "x = True\n",
    "print(x)\n",
    "y = False\n",
    "print(y)\n",
    "\n",
    "print(9 == 9)\n",
    "print('hello' == 'hello') \n",
    "print(9 > 7)\n",
    "print('spam' != 'eggs')\n",
    "print(8 <= 2)"
   ]
  },
  {
   "cell_type": "markdown",
   "metadata": {},
   "source": [
    "Additionally, following some built in functions which are always available in your namespace once you open a python interpreter\n",
    "\n",
    "abs() dict() help() min() setattr() all() dir() hex() next() slice() any()\n",
    "divmod() id() object() sorted() ascii() enumerate() input() oct() staticmethod()\n",
    "bin() eval() int() open() str() bool() exec() isinstance() ord() sum() bytearray()\n",
    "filter() issubclass() pow() super() bytes() float() iter() print() tuple()\n",
    "callable() format() len() property() type() chr() frozenset() list() range()\n",
    "vars() classmethod() getattr() locals() repr() zip() compile() globals() map()\n",
    "reversed() __import__() complex() hasattr() max() round() delattr() hash()\n",
    "memoryview() set()"
   ]
  },
  {
   "cell_type": "markdown",
   "metadata": {},
   "source": [
    "- Is x = y = 1 a legal assignment in Python? \n",
    "- What about 42 = n? \n",
    "- Does it make a difference if you write n=100 instead of n = 100?\n",
    "- What is the difference between = and == ?\n",
    "- What does the % operator do?\n",
    "- What type is the result, when you multiply a float and an int? What happens when you divide by zero?\n",
    "- What happens when you type 5.0∗∗1000 ?\n",
    "- How can you calculate the square root using the operator ∗∗?\n",
    "- Convert 7.999999999 to an int\n",
    "- Subtract 5 to the 3rd power, which is 5**3, from 100 and divide the result by 5\n",
    "- Calculate the square root of the imaginary unit j\n",
    "- Convert 90 degrees to radians\n",
    "- Calculate the area of a trapeziod with base1=5, base2=6, hieght=6\n"
   ]
  },
  {
   "cell_type": "code",
   "execution_count": 55,
   "metadata": {},
   "outputs": [
    {
     "name": "stdout",
     "output_type": "stream",
     "text": [
      "1\n",
      "1\n"
     ]
    }
   ],
   "source": [
    "#it is a legal assignment\n",
    "x=y=1\n",
    "print(x)\n",
    "print(y)"
   ]
  },
  {
   "cell_type": "code",
   "execution_count": 4,
   "metadata": {},
   "outputs": [
    {
     "ename": "SyntaxError",
     "evalue": "cannot assign to literal (<ipython-input-4-f0c37ed646fc>, line 1)",
     "output_type": "error",
     "traceback": [
      "\u001b[0;36m  File \u001b[0;32m\"<ipython-input-4-f0c37ed646fc>\"\u001b[0;36m, line \u001b[0;32m1\u001b[0m\n\u001b[0;31m    42 = n\u001b[0m\n\u001b[0m    ^\u001b[0m\n\u001b[0;31mSyntaxError\u001b[0m\u001b[0;31m:\u001b[0m cannot assign to literal\n"
     ]
    }
   ],
   "source": [
    "#it is not a legal assignmment\n",
    "42 = n"
   ]
  },
  {
   "cell_type": "code",
   "execution_count": 57,
   "metadata": {},
   "outputs": [
    {
     "name": "stdout",
     "output_type": "stream",
     "text": [
      "100\n"
     ]
    }
   ],
   "source": [
    "n=100\n",
    "print(n)"
   ]
  },
  {
   "cell_type": "code",
   "execution_count": 56,
   "metadata": {},
   "outputs": [
    {
     "name": "stdout",
     "output_type": "stream",
     "text": [
      "100\n"
     ]
    }
   ],
   "source": [
    "n = 100\n",
    "print(n)"
   ]
  },
  {
   "cell_type": "code",
   "execution_count": 11,
   "metadata": {},
   "outputs": [
    {
     "name": "stdout",
     "output_type": "stream",
     "text": [
      "9\n",
      "True\n"
     ]
    }
   ],
   "source": [
    "#= is an assignment statement but == is comparison statement\n",
    "n = 9\n",
    "print (n)\n",
    "print (n == 9)"
   ]
  },
  {
   "cell_type": "code",
   "execution_count": 60,
   "metadata": {},
   "outputs": [
    {
     "name": "stdout",
     "output_type": "stream",
     "text": [
      "1\n"
     ]
    }
   ],
   "source": [
    "#gives you the remainder after a division operation has been performed\n",
    "y=9 % 2\n",
    "print(y)"
   ]
  },
  {
   "cell_type": "code",
   "execution_count": 63,
   "metadata": {},
   "outputs": [
    {
     "name": "stdout",
     "output_type": "stream",
     "text": [
      "11.7\n"
     ]
    },
    {
     "data": {
      "text/plain": [
       "float"
      ]
     },
     "execution_count": 63,
     "metadata": {},
     "output_type": "execute_result"
    }
   ],
   "source": [
    "#when you multiply a float and an integer, you get a float\n",
    "z=2.34 * 5\n",
    "print(z)\n",
    "type(z)"
   ]
  },
  {
   "cell_type": "code",
   "execution_count": 64,
   "metadata": {},
   "outputs": [
    {
     "ename": "ZeroDivisionError",
     "evalue": "float division by zero",
     "output_type": "error",
     "traceback": [
      "\u001b[0;31m---------------------------------------------------------------------------\u001b[0m",
      "\u001b[0;31mZeroDivisionError\u001b[0m                         Traceback (most recent call last)",
      "\u001b[0;32m<ipython-input-64-07383cf4d2a5>\u001b[0m in \u001b[0;36m<module>\u001b[0;34m\u001b[0m\n\u001b[1;32m      1\u001b[0m \u001b[0;31m#when you divide by zero, you will get an error since this is not possible\u001b[0m\u001b[0;34m\u001b[0m\u001b[0;34m\u001b[0m\u001b[0;34m\u001b[0m\u001b[0m\n\u001b[0;32m----> 2\u001b[0;31m \u001b[0;36m11.7\u001b[0m \u001b[0;34m/\u001b[0m \u001b[0;36m0\u001b[0m\u001b[0;34m\u001b[0m\u001b[0;34m\u001b[0m\u001b[0m\n\u001b[0m",
      "\u001b[0;31mZeroDivisionError\u001b[0m: float division by zero"
     ]
    }
   ],
   "source": [
    "#when you divide by zero, you will get an error since this is not possible\n",
    "11.7 / 0"
   ]
  },
  {
   "cell_type": "code",
   "execution_count": 65,
   "metadata": {},
   "outputs": [
    {
     "ename": "OverflowError",
     "evalue": "(34, 'Numerical result out of range')",
     "output_type": "error",
     "traceback": [
      "\u001b[0;31m---------------------------------------------------------------------------\u001b[0m",
      "\u001b[0;31mOverflowError\u001b[0m                             Traceback (most recent call last)",
      "\u001b[0;32m<ipython-input-65-7253bf31bb8e>\u001b[0m in \u001b[0;36m<module>\u001b[0;34m\u001b[0m\n\u001b[1;32m      1\u001b[0m \u001b[0;31m#you will get an error message saying that the result is out of range\u001b[0m\u001b[0;34m\u001b[0m\u001b[0;34m\u001b[0m\u001b[0;34m\u001b[0m\u001b[0m\n\u001b[0;32m----> 2\u001b[0;31m \u001b[0;36m5.0\u001b[0m \u001b[0;34m**\u001b[0m \u001b[0;36m1000\u001b[0m\u001b[0;34m\u001b[0m\u001b[0;34m\u001b[0m\u001b[0m\n\u001b[0m\u001b[1;32m      3\u001b[0m \u001b[0;36m5\u001b[0m\u001b[0;34m**\u001b[0m\u001b[0;36m1000\u001b[0m\u001b[0;34m\u001b[0m\u001b[0;34m\u001b[0m\u001b[0m\n",
      "\u001b[0;31mOverflowError\u001b[0m: (34, 'Numerical result out of range')"
     ]
    }
   ],
   "source": [
    "#you will get an error message saying that the result is out of range\n",
    "5.0 ** 1000\n",
    "5**1000"
   ]
  },
  {
   "cell_type": "code",
   "execution_count": 16,
   "metadata": {},
   "outputs": [
    {
     "data": {
      "text/plain": [
       "125"
      ]
     },
     "execution_count": 16,
     "metadata": {},
     "output_type": "execute_result"
    }
   ],
   "source": [
    "#to calculate square root, the number comes first and the power second\n",
    "5 ** 3"
   ]
  },
  {
   "cell_type": "code",
   "execution_count": 18,
   "metadata": {},
   "outputs": [
    {
     "name": "stdout",
     "output_type": "stream",
     "text": [
      "7.999999999\n"
     ]
    },
    {
     "data": {
      "text/plain": [
       "7"
      ]
     },
     "execution_count": 18,
     "metadata": {},
     "output_type": "execute_result"
    }
   ],
   "source": [
    "#to do this, I will assign a variable to the value and use it to convert\n",
    "n = 7.999999999\n",
    "print(n)\n",
    "int(n)"
   ]
  },
  {
   "cell_type": "code",
   "execution_count": 19,
   "metadata": {},
   "outputs": [
    {
     "data": {
      "text/plain": [
       "-5.0"
      ]
     },
     "execution_count": 19,
     "metadata": {},
     "output_type": "execute_result"
    }
   ],
   "source": [
    "(100-5**3)/5"
   ]
  },
  {
   "cell_type": "code",
   "execution_count": 20,
   "metadata": {},
   "outputs": [
    {
     "data": {
      "text/plain": [
       "(1.4758048651498614+1.4758048651498612j)"
      ]
     },
     "execution_count": 20,
     "metadata": {},
     "output_type": "execute_result"
    }
   ],
   "source": [
    "4.356j**0.5"
   ]
  },
  {
   "cell_type": "code",
   "execution_count": 33,
   "metadata": {},
   "outputs": [
    {
     "name": "stdout",
     "output_type": "stream",
     "text": [
      "1.571 radian\n"
     ]
    }
   ],
   "source": [
    "a=(90 / 180)*3.142 \n",
    "print(a,'radian')"
   ]
  },
  {
   "cell_type": "code",
   "execution_count": 1,
   "metadata": {},
   "outputs": [
    {
     "name": "stdout",
     "output_type": "stream",
     "text": [
      "33.0 metre square\n"
     ]
    }
   ],
   "source": [
    "base1=5\n",
    "base2=6\n",
    "height=6\n",
    "area=((base1+base2)/2)*height\n",
    "print(area, 'metre square')"
   ]
  },
  {
   "cell_type": "markdown",
   "metadata": {
    "slideshow": {
     "slide_type": "slide"
    }
   },
   "source": [
    "\n",
    "### Naming conventions\n",
    "\n",
    "- Variables names must start with a letter or an underscore, such as: \\_underscore, underscore\\_\n",
    "- The remainder of your variable name may consist of letters, numbers and underscores.\n",
    "- Names are case sensitive.\n",
    "- Avoid using names that are too wordy. Use meaningful names\n",
    "- Never use mathematical signs in your name\n",
    "- Use CamelCase only when it makes sense \n",
    "- Bad: my_list, rrr, raster_modis_number_234_fin_final_end, moDISndVI\n",
    "\n",
    "- Good: user_profile, menu_options, modis_h22v04_2014297, modisNDVI\n",
    "- Don’t be a jackass and name things “O”, “l”, or “I” . "
   ]
  },
  {
   "cell_type": "markdown",
   "metadata": {
    "slideshow": {
     "slide_type": "slide"
    }
   },
   "source": [
    "### Strings\n",
    "\n",
    "If you want to use text in python, you have to use 'strings'. A string is created by writing your desired text between two single '(...)' or double quotation marks \"(...)\". For printing text (or numbers) use the 'print()' function."
   ]
  },
  {
   "cell_type": "code",
   "execution_count": 3,
   "metadata": {
    "slideshow": {
     "slide_type": "fragment"
    }
   },
   "outputs": [
    {
     "name": "stdout",
     "output_type": "stream",
     "text": [
      "hello\n",
      "spam and eggs\n",
      "hello\n",
      "spam and eggs\n"
     ]
    }
   ],
   "source": [
    "print('hello')\n",
    "print ('spam and eggs')\n",
    "print (\"hello\")\n",
    "print(\"spam and eggs\")"
   ]
  },
  {
   "cell_type": "markdown",
   "metadata": {
    "slideshow": {
     "slide_type": "fragment"
    }
   },
   "source": [
    "But there are some characters which can not entered directly into strings. For example, double quotes, newlines or backslashes."
   ]
  },
  {
   "cell_type": "code",
   "execution_count": 4,
   "metadata": {
    "slideshow": {
     "slide_type": "fragment"
    }
   },
   "outputs": [
    {
     "name": "stdout",
     "output_type": "stream",
     "text": [
      " eggs\n"
     ]
    }
   ],
   "source": [
    "print(\"spam \"and\" eggs\")"
   ]
  },
  {
   "cell_type": "markdown",
   "metadata": {
    "slideshow": {
     "slide_type": "slide"
    }
   },
   "source": [
    "In order to use these special characters you have to put an backslash in front of the term. If you want to begin a new line, you can use 'slash n' or triple quotes.\n",
    "You can also use 'r' in front of a string to create a raw string."
   ]
  },
  {
   "cell_type": "code",
   "execution_count": 5,
   "metadata": {
    "slideshow": {
     "slide_type": "fragment"
    }
   },
   "outputs": [
    {
     "name": "stdout",
     "output_type": "stream",
     "text": [
      "spam \"and\" eggs\n",
      "Python's\n",
      "Python\"s\n",
      "spam and \n",
      " eggs\n",
      "spam \n",
      "and\n",
      "eggs\n",
      "C:\\user\\name\\files\n"
     ]
    }
   ],
   "source": [
    "print(\"spam \\\"and\\\" eggs\")\n",
    "print(\"Python's\");print('Python\"s') # You can use double quotes inside single quotes and the other way round\n",
    "print(\"spam and \\n eggs\")\n",
    "print(\"\"\"spam \n",
    "and\n",
    "eggs\"\"\")\n",
    "print(r\"C:\\user\\name\\files\") # raw string"
   ]
  },
  {
   "cell_type": "markdown",
   "metadata": {
    "slideshow": {
     "slide_type": "slide"
    }
   },
   "source": [
    "Backslashes can be also used to escape other special characters, e.g. tabs, arbitrary unicode and other characters which can cause problems inside a string (so called, escape characters). \n",
    "<br>\n",
    "Strings can be concatenated with the + operator and even multiplied with numbers using an asterix (*)."
   ]
  },
  {
   "cell_type": "code",
   "execution_count": 6,
   "metadata": {
    "slideshow": {
     "slide_type": "fragment"
    }
   },
   "outputs": [
    {
     "name": "stdout",
     "output_type": "stream",
     "text": [
      "spamandeggs\n",
      "spamspamspamspamspam\n",
      "spamandeggs\n"
     ]
    }
   ],
   "source": [
    "print(\"spam\" + \"and\" + \"eggs\")\n",
    "print(\"spam\" * 5)\n",
    "print('spam' 'and' 'eggs') # also a row of strings will be concatenated\n"
   ]
  },
  {
   "cell_type": "markdown",
   "metadata": {
    "slideshow": {
     "slide_type": "slide"
    }
   },
   "source": [
    "Strings in python can also be indexed and sliced. Always remember that in python the first index is 0."
   ]
  },
  {
   "cell_type": "code",
   "execution_count": 1,
   "metadata": {
    "slideshow": {
     "slide_type": "fragment"
    }
   },
   "outputs": [
    {
     "name": "stdout",
     "output_type": "stream",
     "text": [
      "H\n",
      "W\n",
      "d\n",
      "r\n"
     ]
    }
   ],
   "source": [
    "# Using index\n",
    "hello = 'Hello World'\n",
    "ind0 = hello[0]  # character in position 0\n",
    "ind1 = hello[6]  # character in position 5\n",
    "\n",
    "print(ind0)\n",
    "print(ind1)\n",
    "\n",
    "ind2 = hello[-1]  # last character\n",
    "ind3 = hello[-3]  # second-last character\n",
    "\n",
    "print(ind2)\n",
    "print(ind3)"
   ]
  },
  {
   "cell_type": "markdown",
   "metadata": {
    "slideshow": {
     "slide_type": "slide"
    }
   },
   "source": [
    "<img src=\"images/indexing.png\" width=600 />"
   ]
  },
  {
   "cell_type": "code",
   "execution_count": 2,
   "metadata": {
    "slideshow": {
     "slide_type": "slide"
    }
   },
   "outputs": [
    {
     "name": "stdout",
     "output_type": "stream",
     "text": [
      "He\n",
      "llo\n",
      "He\n",
      "o World\n",
      "ld\n"
     ]
    }
   ],
   "source": [
    "# Slicing\n",
    "hello = 'Hello World'\n",
    "sliceA = hello[0:2]  # from position 0 (included) to 2 (excluded)\n",
    "print(sliceA)\n",
    "\n",
    "sliceB = hello[2:5]  # from position 2 (included) to 5 (excluded)\n",
    "print(sliceB)\n",
    "\n",
    "sliceC = hello[:2]   # from the beginning to position 2 (excluded)\n",
    "print(sliceC)\n",
    "\n",
    "sliceD = hello[4:]   # from position 4 (included) to the end\n",
    "print(sliceD)\n",
    "\n",
    "sliceE = hello[-2:]  # from the second-last (included) to the endpr\n",
    "print(sliceE)\n"
   ]
  },
  {
   "cell_type": "markdown",
   "metadata": {
    "slideshow": {
     "slide_type": "slide"
    }
   },
   "source": [
    "<img src=\"images/slicing.png\" width=600 />"
   ]
  },
  {
   "cell_type": "markdown",
   "metadata": {
    "slideshow": {
     "slide_type": "slide"
    }
   },
   "source": [
    "Python also provides many built-in functions and methods for strings. Below are just a few examples"
   ]
  },
  {
   "cell_type": "code",
   "execution_count": 3,
   "metadata": {
    "slideshow": {
     "slide_type": "fragment"
    }
   },
   "outputs": [],
   "source": [
    "string1 = 'hello'\n",
    "string2 = 'World'"
   ]
  },
  {
   "cell_type": "code",
   "execution_count": 4,
   "metadata": {
    "slideshow": {
     "slide_type": "fragment"
    }
   },
   "outputs": [
    {
     "name": "stdout",
     "output_type": "stream",
     "text": [
      "5\n"
     ]
    }
   ],
   "source": [
    "# Length\n",
    "print(len(string1))"
   ]
  },
  {
   "cell_type": "code",
   "execution_count": 6,
   "metadata": {
    "slideshow": {
     "slide_type": "fragment"
    }
   },
   "outputs": [
    {
     "name": "stdout",
     "output_type": "stream",
     "text": [
      "str.count(sub) :  2\n",
      "str.count(sub, 1, 4) :  2\n",
      "str.count(sub) :  3\n"
     ]
    }
   ],
   "source": [
    "# Count\n",
    "str = \"hello, world\";\n",
    "sub = \"o\"\n",
    "print(\"str.count(sub) : \", str.count(sub))\n",
    "sub = \"l\"\n",
    "print(\"str.count(sub, 1, 4) : \", str.count(sub, 1, 4))\n",
    "print (\"str.count(sub) : \", str.count(sub))"
   ]
  },
  {
   "cell_type": "code",
   "execution_count": 7,
   "metadata": {
    "slideshow": {
     "slide_type": "subslide"
    }
   },
   "outputs": [
    {
     "name": "stdout",
     "output_type": "stream",
     "text": [
      "HELLO\n",
      "world\n"
     ]
    }
   ],
   "source": [
    "# uppercase/ lowercase\n",
    "print(string1.upper())\n",
    "print(string2.lower())"
   ]
  },
  {
   "cell_type": "code",
   "execution_count": 11,
   "metadata": {
    "slideshow": {
     "slide_type": "fragment"
    }
   },
   "outputs": [
    {
     "name": "stdout",
     "output_type": "stream",
     "text": [
      "hello World\n",
      "hello ,you\n",
      "hello  you\n"
     ]
    }
   ],
   "source": [
    "# replace\n",
    "string3  = string1 + \" \" + string2\n",
    "print(string3)\n",
    "print(string3.replace('World',',you'))\n",
    "print(string3.replace('World',' you'))"
   ]
  },
  {
   "cell_type": "markdown",
   "metadata": {
    "slideshow": {
     "slide_type": "slide"
    }
   },
   "source": [
    "### Exercise 2\n",
    "\n",
    "- How does an empty string look like?\n",
    "- How would you write a string that contains all three characters ', \" and \\ ?\n",
    "- Can you multiply an int with a string? Or a string with a float? \n",
    "- Can you reconvert a string into int or float?\n",
    "- What is the result of \"Mississippi\".split(\"i\")?\n",
    "- Does the upper method also work with German umlauts ä,ö,ü,ß ?"
   ]
  },
  {
   "cell_type": "code",
   "execution_count": 66,
   "metadata": {},
   "outputs": [
    {
     "data": {
      "text/plain": [
       "''"
      ]
     },
     "execution_count": 66,
     "metadata": {},
     "output_type": "execute_result"
    }
   ],
   "source": [
    "#an empty string\n",
    "string4=''\n",
    "string4"
   ]
  },
  {
   "cell_type": "code",
   "execution_count": 38,
   "metadata": {},
   "outputs": [
    {
     "name": "stdout",
     "output_type": "stream",
     "text": [
      "\"\",'' and \\\n"
     ]
    }
   ],
   "source": [
    "string5='\"\"'\n",
    "string6=\"''\"\n",
    "string7='\\\\'\n",
    "print(string5+\",\"+string6+\" and \"+string7)"
   ]
  },
  {
   "cell_type": "code",
   "execution_count": 41,
   "metadata": {},
   "outputs": [
    {
     "name": "stdout",
     "output_type": "stream",
     "text": [
      "princeprinceprinceprinceprinceprinceprinceprince\n"
     ]
    },
    {
     "ename": "TypeError",
     "evalue": "can't multiply sequence by non-int of type 'float'",
     "output_type": "error",
     "traceback": [
      "\u001b[0;31m---------------------------------------------------------------------------\u001b[0m",
      "\u001b[0;31mTypeError\u001b[0m                                 Traceback (most recent call last)",
      "\u001b[0;32m<ipython-input-41-5594ea758ab8>\u001b[0m in \u001b[0;36m<module>\u001b[0;34m\u001b[0m\n\u001b[1;32m      1\u001b[0m \u001b[0;31m#possible with integer numbers but not floating numbers\u001b[0m\u001b[0;34m\u001b[0m\u001b[0;34m\u001b[0m\u001b[0;34m\u001b[0m\u001b[0m\n\u001b[1;32m      2\u001b[0m \u001b[0mprint\u001b[0m\u001b[0;34m(\u001b[0m\u001b[0;34m'prince'\u001b[0m\u001b[0;34m*\u001b[0m\u001b[0;36m8\u001b[0m\u001b[0;34m)\u001b[0m\u001b[0;34m\u001b[0m\u001b[0;34m\u001b[0m\u001b[0m\n\u001b[0;32m----> 3\u001b[0;31m \u001b[0mprint\u001b[0m\u001b[0;34m(\u001b[0m\u001b[0;34m'abokye'\u001b[0m\u001b[0;34m*\u001b[0m\u001b[0;36m4.5\u001b[0m\u001b[0;34m)\u001b[0m\u001b[0;34m\u001b[0m\u001b[0;34m\u001b[0m\u001b[0m\n\u001b[0m",
      "\u001b[0;31mTypeError\u001b[0m: can't multiply sequence by non-int of type 'float'"
     ]
    }
   ],
   "source": [
    "#possible with integer numbers but not floating numbers\n",
    "print('prince'*8)\n",
    "print('abokye'*4.5)"
   ]
  },
  {
   "cell_type": "code",
   "execution_count": 68,
   "metadata": {},
   "outputs": [
    {
     "data": {
      "text/plain": [
       "9"
      ]
     },
     "execution_count": 68,
     "metadata": {},
     "output_type": "execute_result"
    }
   ],
   "source": [
    "#possible to convert a string to int or float\n",
    "string8='9'\n",
    "int(string8)"
   ]
  },
  {
   "cell_type": "code",
   "execution_count": 69,
   "metadata": {},
   "outputs": [
    {
     "data": {
      "text/plain": [
       "9.0"
      ]
     },
     "execution_count": 69,
     "metadata": {},
     "output_type": "execute_result"
    }
   ],
   "source": [
    "float(string8)"
   ]
  },
  {
   "cell_type": "code",
   "execution_count": 53,
   "metadata": {},
   "outputs": [
    {
     "name": "stdout",
     "output_type": "stream",
     "text": [
      "['M', 'ss', 'ss', 'pp', '']\n"
     ]
    }
   ],
   "source": [
    "#i has been removed and used for the splitting\n",
    "print(\"Mississippi\".split(\"i\"))"
   ]
  },
  {
   "cell_type": "markdown",
   "metadata": {
    "slideshow": {
     "slide_type": "slide"
    }
   },
   "source": [
    "### Lists\n",
    "Another data type are so called lists. Lists can be created putting several comma-separated values between square brackets. You can use lists to generate sequences of values, which can be of the same or different datatype.\n"
   ]
  },
  {
   "cell_type": "code",
   "execution_count": 1,
   "metadata": {
    "slideshow": {
     "slide_type": "fragment"
    }
   },
   "outputs": [
    {
     "name": "stdout",
     "output_type": "stream",
     "text": [
      "['a', 'b', 'c', 'd', 'e', 'f']\n",
      "[1, 2, 3, 4, 5, 6, 7]\n",
      "['hello', 2.45, 3, 'a', (-0.6545+0j)]\n"
     ]
    }
   ],
   "source": [
    "letter_list = ['a','b','c','d','e','f'] #list of stringd\n",
    "print(letter_list)\n",
    "\n",
    "list_of_numbers = [1,2,3,4,5,6,7] #list of numbers\n",
    "print(list_of_numbers)\n",
    "\n",
    "mixed_list = ['hello', 2.45, 3, 'a', -.6545+0J] #mixing different data types\n",
    "print(mixed_list)"
   ]
  },
  {
   "cell_type": "markdown",
   "metadata": {
    "slideshow": {
     "slide_type": "slide"
    }
   },
   "source": [
    "Accessing the values in a list can be done using indexing or slicing. "
   ]
  },
  {
   "cell_type": "code",
   "execution_count": 2,
   "metadata": {
    "slideshow": {
     "slide_type": "fragment"
    }
   },
   "outputs": [
    {
     "name": "stdout",
     "output_type": "stream",
     "text": [
      "3\n",
      "[2, 3, 4, 'a']\n",
      "4\n",
      "[3, 4, 'a', 'b', 'c', 'd']\n",
      "[1, 2]\n"
     ]
    }
   ],
   "source": [
    "list1 = [1, 2, 3, 4, 'a', 'b','c','d']\n",
    "\n",
    "print(list1[2])\n",
    "print(list1[1:5])  # slice from 1 (included) to 5 (included)\n",
    "print(list1[-5])   # count from behind\n",
    "print(list1[2:])   # from 2 (included) to end\n",
    "print(list1[:2])   # from begin to 2 (!not included!)"
   ]
  },
  {
   "cell_type": "markdown",
   "metadata": {
    "slideshow": {
     "slide_type": "subslide"
    }
   },
   "source": [
    "You can also update lists  with one or more elements by giving the slice on the left-hand side. It´s also possible to append new elements to the list or delete list elements with the function."
   ]
  },
  {
   "cell_type": "code",
   "execution_count": 3,
   "metadata": {
    "slideshow": {
     "slide_type": "fragment"
    }
   },
   "outputs": [
    {
     "name": "stdout",
     "output_type": "stream",
     "text": [
      "Ryan\n",
      "Jimmy\n",
      "['Mark', 'James', 'Pete', 'Jimmy', 'Ben', 'Mad']\n"
     ]
    }
   ],
   "source": [
    "list_names = ['Mark', 'James','Pete','Ryan','Ben','Mad']\n",
    "print(list_names[3])\n",
    "\n",
    "# Update list\n",
    "list_names[3] = 'Jimmy'\n",
    "print(list_names[3])\n",
    "print(list_names)"
   ]
  },
  {
   "cell_type": "code",
   "execution_count": 4,
   "metadata": {
    "slideshow": {
     "slide_type": "fragment"
    }
   },
   "outputs": [
    {
     "name": "stdout",
     "output_type": "stream",
     "text": [
      "Jimmy\n",
      "['Mark', 'James', 'Pete', 'Ben', 'Mad']\n"
     ]
    }
   ],
   "source": [
    "# deleting elemants\n",
    "print(list_names[3])\n",
    "del(list_names[3])\n",
    "print(list_names)"
   ]
  },
  {
   "cell_type": "code",
   "execution_count": 5,
   "metadata": {
    "slideshow": {
     "slide_type": "fragment"
    }
   },
   "outputs": [
    {
     "name": "stdout",
     "output_type": "stream",
     "text": [
      "['Mark', 'James', 'Pete', 'Ben', 'Mad', 'Steve']\n"
     ]
    }
   ],
   "source": [
    "# append elemnts\n",
    "list_names.append('Steve')\n",
    "print(list_names)"
   ]
  },
  {
   "cell_type": "markdown",
   "metadata": {
    "slideshow": {
     "slide_type": "slide"
    }
   },
   "source": [
    "And there a several other basic list operations and built-in list functions and methods. Below are just a few examples."
   ]
  },
  {
   "cell_type": "code",
   "execution_count": 7,
   "metadata": {
    "slideshow": {
     "slide_type": "fragment"
    }
   },
   "outputs": [
    {
     "name": "stdout",
     "output_type": "stream",
     "text": [
      "[1, 2, 3, 4]\n"
     ]
    }
   ],
   "source": [
    "list1 = [1,2,3,4] \n",
    "list2 = [5,6,7,8]\n",
    "list3 = [5,3,7,8,2,3,5,5,2]\n",
    "print(list1)"
   ]
  },
  {
   "cell_type": "code",
   "execution_count": 8,
   "metadata": {
    "slideshow": {
     "slide_type": "fragment"
    }
   },
   "outputs": [
    {
     "name": "stdout",
     "output_type": "stream",
     "text": [
      "[1, 2, 3, 4, 5, 6, 7, 8]\n",
      "[1, 2, 3, 4, 5, 6, 7, 8]\n"
     ]
    }
   ],
   "source": [
    "# Concatenation\n",
    "print([1,2,3,4] + [5,6,7,8])\n",
    "print(list1 + list2)"
   ]
  },
  {
   "cell_type": "code",
   "execution_count": 9,
   "metadata": {
    "slideshow": {
     "slide_type": "fragment"
    }
   },
   "outputs": [
    {
     "name": "stdout",
     "output_type": "stream",
     "text": [
      "[1, 2, 3, 4, 1, 2, 3, 4]\n",
      "[1, 2, 3, 4, 1, 2, 3, 4]\n"
     ]
    }
   ],
   "source": [
    "# Repetition\n",
    "print([1,2,3,4] *2)\n",
    "print(list1 * 2)"
   ]
  },
  {
   "cell_type": "code",
   "execution_count": 10,
   "metadata": {
    "slideshow": {
     "slide_type": "slide"
    }
   },
   "outputs": [
    {
     "name": "stdout",
     "output_type": "stream",
     "text": [
      "1\n",
      "2\n",
      "3\n",
      "4\n",
      "1\n",
      "2\n",
      "3\n",
      "4\n"
     ]
    }
   ],
   "source": [
    "# Iteration\n",
    "for x in [1,2,3,4]: print(x)\n",
    "for x in list1: print(x)"
   ]
  },
  {
   "cell_type": "code",
   "execution_count": 12,
   "metadata": {
    "slideshow": {
     "slide_type": "fragment"
    }
   },
   "outputs": [
    {
     "name": "stdout",
     "output_type": "stream",
     "text": [
      "True\n",
      "True\n",
      "False\n"
     ]
    }
   ],
   "source": [
    "# Membership\n",
    "print(3 in [1,2,3,4]) \n",
    "print(3 in list1)\n",
    "print(8 in list1)"
   ]
  },
  {
   "cell_type": "code",
   "execution_count": 18,
   "metadata": {
    "slideshow": {
     "slide_type": "fragment"
    }
   },
   "outputs": [
    {
     "name": "stdout",
     "output_type": "stream",
     "text": [
      "4\n",
      "9\n"
     ]
    }
   ],
   "source": [
    "# Length\n",
    "len([1,2,3,4] )\n",
    "print(len(list1))\n",
    "print(len(list3))"
   ]
  },
  {
   "cell_type": "code",
   "execution_count": 19,
   "metadata": {
    "slideshow": {
     "slide_type": "fragment"
    }
   },
   "outputs": [
    {
     "name": "stdout",
     "output_type": "stream",
     "text": [
      "4\n",
      "1\n"
     ]
    }
   ],
   "source": [
    "# Max/Min\n",
    "print(max(list1))        # returns max/min value of the list\n",
    "print(min([1,2,3,4]))"
   ]
  },
  {
   "cell_type": "markdown",
   "metadata": {},
   "source": [
    "There are many different ways to interact with lists. Exploring them is part of the fun of python.\n",
    "\n",
    "**list.append(x)** Add an item to the end of the list. Equivalent to a[len(a):] = [x].\n",
    "\n",
    "**list.extend(L)** Extend the list by appending all the items in the given list. Equivalent to a[len(a):] = L.\n",
    "\n",
    "**list.insert(i, x)** Insert an item at a given position. The first argument is the index of the element before which to insert, so a.insert(0, x) inserts at the front of the list, and a.insert(len(a), x) is equivalent to a.append(x).\n",
    "\n",
    "**list.remove(x)** Remove the first item from the list whose value is x. It is an error if there is no such item.\n",
    "\n",
    "**list.pop([i])** Remove the item at the given position in the list, and return it. If no index is specified, a.pop() removes and returns the last item in the list.\n",
    "\n",
    "**list.clear()** Remove all items from the list. Equivalent to del a[:].\n",
    "\n",
    "**list.index(x)** Return the index in the list of the first item whose value is x. It is an error if there is no such item.\n",
    "\n",
    "**list.count(x)** Return the number of times x appears in the list.\n",
    "\n",
    "**list.sort()** Sort the items of the list in place.\n",
    "\n",
    "**list.reverse()** Reverse the elements of the list in place.\n",
    "\n",
    "**list.copy()** Return a shallow copy of the list. Equivalent to a[:]."
   ]
  },
  {
   "cell_type": "code",
   "execution_count": 20,
   "metadata": {
    "slideshow": {
     "slide_type": "slide"
    }
   },
   "outputs": [
    {
     "name": "stdout",
     "output_type": "stream",
     "text": [
      "3\n",
      "0\n"
     ]
    }
   ],
   "source": [
    "# Count\n",
    "print(list3.count(5)) # How often is 5 in the list\n",
    "print(list3.count(10))"
   ]
  },
  {
   "cell_type": "code",
   "execution_count": 21,
   "metadata": {
    "slideshow": {
     "slide_type": "fragment"
    }
   },
   "outputs": [
    {
     "name": "stdout",
     "output_type": "stream",
     "text": [
      "[5, 3, 7, 8, 2, 3, 5, 5, 2]\n",
      "[2, 5, 5, 3, 2, 8, 7, 3, 5]\n"
     ]
    }
   ],
   "source": [
    "# Reverse\n",
    "print(list3)\n",
    "list3.reverse()\n",
    "print(list3)"
   ]
  },
  {
   "cell_type": "code",
   "execution_count": 22,
   "metadata": {
    "slideshow": {
     "slide_type": "fragment"
    }
   },
   "outputs": [
    {
     "name": "stdout",
     "output_type": "stream",
     "text": [
      "[2, 5, 5, 3, 2, 8, 7, 3, 5]\n",
      "[2, 2, 3, 3, 5, 5, 5, 7, 8]\n"
     ]
    }
   ],
   "source": [
    "# Sort\n",
    "print(list3)\n",
    "list3.sort()\n",
    "print(list3)"
   ]
  },
  {
   "cell_type": "markdown",
   "metadata": {
    "slideshow": {
     "slide_type": "slide"
    }
   },
   "source": [
    "### Tuples\n",
    " Tuples are sequences, just like lists. The difference is that tuples are immutable. Which means that they can´t be changed like lists. Tuples can be created without brackets (optionally you can use parenthesis)."
   ]
  },
  {
   "cell_type": "code",
   "execution_count": 23,
   "metadata": {
    "slideshow": {
     "slide_type": "fragment"
    }
   },
   "outputs": [
    {
     "name": "stdout",
     "output_type": "stream",
     "text": [
      "('a', 'b', 'c')\n",
      "(1, 2, 3, 4, 5)\n",
      "('a', 'b', 'c', 'd', 2)\n"
     ]
    }
   ],
   "source": [
    "tup1 = \"a\", \"b\",\"c\"\n",
    "tup2 = (1, 2, 3, 4, 5 )\n",
    "tup3 = (\"a\", \"b\", \"c\", \"d\",2)\n",
    "print(tup1)\n",
    "print(tup2)\n",
    "print(tup3)"
   ]
  },
  {
   "cell_type": "markdown",
   "metadata": {
    "slideshow": {
     "slide_type": "slide"
    }
   },
   "source": [
    "You can access elements in the same way as lists. But due to the fact that tuples are **immutable**, you cannot update or change the values of tuple elements."
   ]
  },
  {
   "cell_type": "code",
   "execution_count": 24,
   "metadata": {
    "slideshow": {
     "slide_type": "fragment"
    }
   },
   "outputs": [
    {
     "name": "stdout",
     "output_type": "stream",
     "text": [
      "3\n",
      "(2, 3, 4, 'a')\n",
      "4\n",
      "(3, 4, 'a', 'b', 'c', 'd')\n",
      "(1, 2)\n"
     ]
    }
   ],
   "source": [
    "# Access elements\n",
    "tup1 = 1, 2, 3, 4, 'a', 'b','c','d'\n",
    "\n",
    "print(tup1[2])\n",
    "print(tup1[1:5])  # slice from 1 (included) to 5 (included)\n",
    "print(tup1[-5])   # count from behind\n",
    "print(tup1[2:])   # from 2 (included) to end\n",
    "print(tup1[:2])   # from begin to 2 (!not included!)"
   ]
  },
  {
   "cell_type": "code",
   "execution_count": 26,
   "metadata": {
    "slideshow": {
     "slide_type": "fragment"
    }
   },
   "outputs": [
    {
     "name": "stdout",
     "output_type": "stream",
     "text": [
      "(123, 4554, 5, 454, 34.56, 'abc', 'def', 'ghi', 'xyz')\n"
     ]
    }
   ],
   "source": [
    "tup1 = (123,4554,5,454, 34.56)\n",
    "tup2 = ('abc','def', 'ghi' ,'xyz')\n",
    "\n",
    "#tup1[0] = 10 #This action is not allowed for tuples\n",
    "\n",
    "# But we can concatenate tuples\n",
    "tup3 = tup1 + tup2\n",
    "print(tup3)"
   ]
  },
  {
   "cell_type": "markdown",
   "metadata": {
    "slideshow": {
     "slide_type": "slide"
    }
   },
   "source": [
    "Deleting individual tuple elements is not possible, but you can delete the whole tuple"
   ]
  },
  {
   "cell_type": "code",
   "execution_count": 35,
   "metadata": {
    "slideshow": {
     "slide_type": "fragment"
    }
   },
   "outputs": [
    {
     "name": "stdout",
     "output_type": "stream",
     "text": [
      "(123, 4554, 5, 454, 34.56)\n"
     ]
    },
    {
     "ename": "NameError",
     "evalue": "name 'tup1' is not defined",
     "output_type": "error",
     "traceback": [
      "\u001b[0;31m---------------------------------------------------------------------------\u001b[0m",
      "\u001b[0;31mNameError\u001b[0m                                 Traceback (most recent call last)",
      "\u001b[0;32m<ipython-input-35-d639fadf3772>\u001b[0m in \u001b[0;36m<module>\u001b[0;34m\u001b[0m\n\u001b[1;32m      3\u001b[0m \u001b[0;31m#del tup1[2] # not possible only deleting the whole tuple\u001b[0m\u001b[0;34m\u001b[0m\u001b[0;34m\u001b[0m\u001b[0;34m\u001b[0m\u001b[0m\n\u001b[1;32m      4\u001b[0m \u001b[0;32mdel\u001b[0m \u001b[0mtup1\u001b[0m\u001b[0;34m\u001b[0m\u001b[0;34m\u001b[0m\u001b[0m\n\u001b[0;32m----> 5\u001b[0;31m \u001b[0mprint\u001b[0m\u001b[0;34m(\u001b[0m\u001b[0mtup1\u001b[0m\u001b[0;34m)\u001b[0m\u001b[0;34m\u001b[0m\u001b[0;34m\u001b[0m\u001b[0m\n\u001b[0m",
      "\u001b[0;31mNameError\u001b[0m: name 'tup1' is not defined"
     ]
    }
   ],
   "source": [
    "tup1 = (123,4554,5,454, 34.56)\n",
    "print(tup1)\n",
    "#del tup1[2] # not possible only deleting the whole tuple\n",
    "del tup1\n",
    "print(tup1)"
   ]
  },
  {
   "cell_type": "markdown",
   "metadata": {
    "slideshow": {
     "slide_type": "slide"
    }
   },
   "source": [
    "Tuples also have some built-in functions"
   ]
  },
  {
   "cell_type": "code",
   "execution_count": 36,
   "metadata": {
    "scrolled": true,
    "slideshow": {
     "slide_type": "fragment"
    }
   },
   "outputs": [
    {
     "name": "stdout",
     "output_type": "stream",
     "text": [
      "5\n",
      "5\n",
      "4554\n"
     ]
    }
   ],
   "source": [
    "tup1 = (123,4554,5,454, 34.56)\n",
    "print(len(tup1))\n",
    "print(min(tup1))\n",
    "print(max(tup1))"
   ]
  },
  {
   "cell_type": "markdown",
   "metadata": {
    "slideshow": {
     "slide_type": "slide"
    }
   },
   "source": [
    "### Dictionaries\n",
    "\n",
    "Strings, lists and tuples are so called sequential datatypes. Dictionaries belong to python’s built-in mapping type. Sequential datatypes use integers as indices to access the values they contain within them. Dictionaries allows to use map keys. The values of a dictionary can be of any type, but the keys must be of an immutable data type (strings, numbers, tuples). \n",
    "Dictionaries are constructed with curly brackets {}. Key and values are separated by colons ':'and square brackets are used to index it. It´s not allowed more entries per key, which also means that duplicate keys are also not allowed."
   ]
  },
  {
   "cell_type": "markdown",
   "metadata": {
    "slideshow": {
     "slide_type": "slide"
    }
   },
   "source": [
    "<img src=\"images/dict.png\" width=600 />"
   ]
  },
  {
   "cell_type": "code",
   "execution_count": 2,
   "metadata": {
    "slideshow": {
     "slide_type": "slide"
    }
   },
   "outputs": [
    {
     "name": "stdout",
     "output_type": "stream",
     "text": [
      "Name:  John\n",
      "Age:  25\n",
      "Weight:  75\n"
     ]
    }
   ],
   "source": [
    "dict = {'Name': 'John', 'Age': 25, 'Weight': 75}\n",
    "print(\"Name: \", dict['Name'])\n",
    "print(\"Age: \", dict['Age'])\n",
    "print(\"Weight: \", dict['Weight'])"
   ]
  },
  {
   "cell_type": "markdown",
   "metadata": {
    "slideshow": {
     "slide_type": "slide"
    }
   },
   "source": [
    "Dictionaries can be updated and elements can be removed. "
   ]
  },
  {
   "cell_type": "code",
   "execution_count": 3,
   "metadata": {
    "slideshow": {
     "slide_type": "fragment"
    }
   },
   "outputs": [
    {
     "name": "stdout",
     "output_type": "stream",
     "text": [
      "Age:  26\n",
      "Hair color:  brown\n"
     ]
    }
   ],
   "source": [
    "# Update dictionaries\n",
    "dict = {'Name': 'John', 'Age': 25, 'Weight': 75}\n",
    "dict['Age'] = 26;                                # update existing entry\n",
    "dict['Hair color'] = \"brown\";                    # Add new entry\n",
    "\n",
    "print(\"Age: \", dict['Age'])\n",
    "print(\"Hair color: \", dict['Hair color'])"
   ]
  },
  {
   "cell_type": "code",
   "execution_count": 6,
   "metadata": {
    "slideshow": {
     "slide_type": "fragment"
    }
   },
   "outputs": [
    {
     "name": "stdout",
     "output_type": "stream",
     "text": [
      "{'Name': 'John', 'Weight': 75}\n",
      "{}\n"
     ]
    }
   ],
   "source": [
    "# Update dictionaries\n",
    "dict = {'Name': 'John', 'Age': 25, 'Weight': 75}\n",
    "del dict['Age']                           # delete one element\n",
    "print(dict)\n",
    "\n",
    "dict.clear()                                # remove all entries \n",
    "print(dict)\n",
    "del dict                                  # delete complete dictionary"
   ]
  },
  {
   "cell_type": "markdown",
   "metadata": {
    "slideshow": {
     "slide_type": "slide"
    }
   },
   "source": [
    "Few examples of built-in functions and methods."
   ]
  },
  {
   "cell_type": "code",
   "execution_count": 7,
   "metadata": {
    "slideshow": {
     "slide_type": "fragment"
    }
   },
   "outputs": [
    {
     "name": "stdout",
     "output_type": "stream",
     "text": [
      "length: 3\n",
      "values:  dict_values(['John', 25, 75])\n"
     ]
    }
   ],
   "source": [
    "dict = {'Name': 'John', 'Age': 25, 'Weight': 75}\n",
    "\n",
    "# Length\n",
    "print('length:', len(dict))\n",
    "\n",
    "# values\n",
    "print('values: ', dict.values())"
   ]
  },
  {
   "cell_type": "markdown",
   "metadata": {
    "slideshow": {
     "slide_type": "slide"
    }
   },
   "source": [
    "### Exercise 3\n",
    "\n",
    "- Create a string that, when indexed by $[$3::2$]$ gives the string 'easter egg'\n",
    "- If L is a list, what is the difference between L.reverse() and $L[ : :-1]$ ?\n",
    "- Create a list of empty dictionaries\n",
    "- Can you use numbers as dictionary keys?\n",
    "- Can you use lists as dictionary keys?"
   ]
  },
  {
   "cell_type": "code",
   "execution_count": 9,
   "metadata": {},
   "outputs": [
    {
     "data": {
      "text/plain": [
       "'easter egg'"
      ]
     },
     "execution_count": 9,
     "metadata": {},
     "output_type": "execute_result"
    }
   ],
   "source": [
    "pri = \"!!!e!a!s!t!e!r! !e!g!g\"\n",
    "#print(pri[0:10])\n",
    "pri[3::2]"
   ]
  },
  {
   "cell_type": "code",
   "execution_count": 29,
   "metadata": {},
   "outputs": [
    {
     "name": "stdout",
     "output_type": "stream",
     "text": [
      "['PRINCE', 'ERIC', 'SAMUEL', 'ERICA']\n"
     ]
    },
    {
     "data": {
      "text/plain": [
       "['ERICA', 'SAMUEL', 'ERIC', 'PRINCE']"
      ]
     },
     "execution_count": 29,
     "metadata": {},
     "output_type": "execute_result"
    }
   ],
   "source": [
    "#L.reverse() and L[:: -1] have the same function\n",
    "list_L=['PRINCE','ERIC','SAMUEL','ERICA']\n",
    "print(list_L)\n",
    "#list_L.reverse()\n",
    "#print(list_L)\n",
    "list_L[:: -1]"
   ]
  },
  {
   "cell_type": "code",
   "execution_count": 11,
   "metadata": {},
   "outputs": [
    {
     "data": {
      "text/plain": [
       "{}"
      ]
     },
     "execution_count": 11,
     "metadata": {},
     "output_type": "execute_result"
    }
   ],
   "source": [
    "list_dic={}\n",
    "list_dic"
   ]
  },
  {
   "cell_type": "code",
   "execution_count": 14,
   "metadata": {},
   "outputs": [
    {
     "data": {
      "text/plain": [
       "'prince'"
      ]
     },
     "execution_count": 14,
     "metadata": {},
     "output_type": "execute_result"
    }
   ],
   "source": [
    "#you can use numbers as dictionary keys\n",
    "dict = {1:'prince',2: 20}\n",
    "#print('name :',dict[1])\n",
    "dict[1]"
   ]
  },
  {
   "cell_type": "code",
   "execution_count": 15,
   "metadata": {},
   "outputs": [
    {
     "ename": "TypeError",
     "evalue": "unhashable type: 'list'",
     "output_type": "error",
     "traceback": [
      "\u001b[0;31m---------------------------------------------------------------------------\u001b[0m",
      "\u001b[0;31mTypeError\u001b[0m                                 Traceback (most recent call last)",
      "\u001b[0;32m<ipython-input-15-ed799c631e9a>\u001b[0m in \u001b[0;36m<module>\u001b[0;34m\u001b[0m\n\u001b[1;32m      3\u001b[0m \u001b[0;31m#dict={list_numbers[0]:'prince'}\u001b[0m\u001b[0;34m\u001b[0m\u001b[0;34m\u001b[0m\u001b[0;34m\u001b[0m\u001b[0m\n\u001b[1;32m      4\u001b[0m \u001b[0;31m#print('name :',dict[list_numbers[0]])\u001b[0m\u001b[0;34m\u001b[0m\u001b[0;34m\u001b[0m\u001b[0;34m\u001b[0m\u001b[0m\n\u001b[0;32m----> 5\u001b[0;31m \u001b[0mdict1\u001b[0m\u001b[0;34m=\u001b[0m\u001b[0;34m{\u001b[0m\u001b[0;34m[\u001b[0m\u001b[0;36m1\u001b[0m\u001b[0;34m,\u001b[0m\u001b[0;36m2\u001b[0m\u001b[0;34m]\u001b[0m\u001b[0;34m:\u001b[0m\u001b[0;34m'Ama'\u001b[0m\u001b[0;34m,\u001b[0m\u001b[0;34m[\u001b[0m\u001b[0;36m3\u001b[0m\u001b[0;34m,\u001b[0m\u001b[0;36m4\u001b[0m\u001b[0;34m]\u001b[0m\u001b[0;34m:\u001b[0m\u001b[0;34m'Kojo'\u001b[0m\u001b[0;34m,\u001b[0m\u001b[0;34m[\u001b[0m\u001b[0;36m5\u001b[0m\u001b[0;34m,\u001b[0m\u001b[0;36m6\u001b[0m\u001b[0;34m]\u001b[0m\u001b[0;34m:\u001b[0m\u001b[0;34m'Esi'\u001b[0m\u001b[0;34m}\u001b[0m\u001b[0;34m\u001b[0m\u001b[0;34m\u001b[0m\u001b[0m\n\u001b[0m",
      "\u001b[0;31mTypeError\u001b[0m: unhashable type: 'list'"
     ]
    }
   ],
   "source": [
    "#you can't use list as dictionary key\n",
    "#list_numbers=['1','2','3']\n",
    "#dict={list_numbers[0]:'prince'}\n",
    "#print('name :',dict[list_numbers[0]])\n",
    "dict1={[1,2]:'Ama',[3,4]:'Kojo',[5,6]:'Esi'}"
   ]
  },
  {
   "cell_type": "markdown",
   "metadata": {
    "slideshow": {
     "slide_type": "slide"
    }
   },
   "source": [
    "### Input/Output\n",
    "\n",
    "So far we’ve encountered two ways of writing values: expression statements and the print() function. Some times you want to have more control over the format of the output.  "
   ]
  },
  {
   "cell_type": "code",
   "execution_count": 16,
   "metadata": {
    "slideshow": {
     "slide_type": "fragment"
    }
   },
   "outputs": [
    {
     "name": "stdout",
     "output_type": "stream",
     "text": [
      "Hello, world\n",
      "Hello, world.\n"
     ]
    }
   ],
   "source": [
    "'Hello, world'\n",
    "s = 'Hello, world.'\n",
    "s\n",
    "print('Hello, world')\n",
    "print(s)"
   ]
  },
  {
   "cell_type": "markdown",
   "metadata": {
    "slideshow": {
     "slide_type": "slide"
    }
   },
   "source": [
    "Sometimes we would like to format our output to make it look attractive. To do so, you can use curly brackets '{}' as placeholders"
   ]
  },
  {
   "cell_type": "code",
   "execution_count": 17,
   "metadata": {
    "slideshow": {
     "slide_type": "fragment"
    }
   },
   "outputs": [
    {
     "name": "stdout",
     "output_type": "stream",
     "text": [
      "I love Python\n",
      "Pete and Judy are going to the mall\n",
      "Hello John, Goodmorning\n"
     ]
    }
   ],
   "source": [
    "print('I love {0}'.format('Python'))\n",
    "\n",
    "print('{0} and {1} are going to the mall'.format('Pete','Judy'))\n",
    "\n",
    "print('Hello {name}, {greeting}'.format(greeting = 'Goodmorning', name = 'John'))"
   ]
  },
  {
   "cell_type": "markdown",
   "metadata": {
    "slideshow": {
     "slide_type": "slide"
    }
   },
   "source": [
    "Until now the python code we have used was static. All the values and variables either defined or hard coded. \n",
    "But often we don´t want a static program. For example, if we want a that everybody who uses the program can use own variables without changing the code. In this case, we can use the 'input()' function, which allows us to input our own values, for each run. "
   ]
  },
  {
   "cell_type": "code",
   "execution_count": 18,
   "metadata": {
    "slideshow": {
     "slide_type": "fragment"
    }
   },
   "outputs": [
    {
     "name": "stdout",
     "output_type": "stream",
     "text": [
      "Enter a number: 2\n",
      "2\n"
     ]
    }
   ],
   "source": [
    "num = input('Enter a number: ')\n",
    "print(num)"
   ]
  },
  {
   "cell_type": "code",
   "execution_count": 19,
   "metadata": {
    "slideshow": {
     "slide_type": "fragment"
    }
   },
   "outputs": [
    {
     "name": "stdout",
     "output_type": "stream",
     "text": [
      "Enter the applicant's name: prince\n",
      "Enter the interviewer's name: abokye\n",
      "Enter the appointment time: 3\n",
      "abokye will interview prince at 3\n"
     ]
    }
   ],
   "source": [
    "appli = input(\"Enter the applicant's name: \")\n",
    "inter = input(\"Enter the interviewer's name: \")\n",
    "time = input(\"Enter the appointment time: \")\n",
    "print(\"{1} will interview {0} at {2}\".format(appli,inter,time))"
   ]
  },
  {
   "cell_type": "markdown",
   "metadata": {
    "slideshow": {
     "slide_type": "slide"
    }
   },
   "source": [
    "### Indentation\n",
    "\n",
    "A python program is structured through indentation. Indentations are used to separate different code block. This make it´s easier to read and understand your own code and the code of others. While in other programming languages indentation is a matter of style, in python it´s a language requirement.\n"
   ]
  },
  {
   "cell_type": "code",
   "execution_count": 20,
   "metadata": {
    "slideshow": {
     "slide_type": "fragment"
    }
   },
   "outputs": [
    {
     "data": {
      "text/plain": [
       "'F'"
      ]
     },
     "execution_count": 20,
     "metadata": {},
     "output_type": "execute_result"
    }
   ],
   "source": [
    "def letterGrade(score):\n",
    "    if score >= 90:\n",
    "        letter = 'A'\n",
    "    else:   # grade must be B, C, D or F\n",
    "        if score >= 80:\n",
    "            letter = 'B'\n",
    "        else:  # grade must be C, D or F\n",
    "            if score >= 70:\n",
    "                letter = 'C'\n",
    "            else:    # grade must D or F\n",
    "                if score >= 60:\n",
    "                    letter = 'D'\n",
    "                else:\n",
    "                    letter = 'F'\n",
    "    return letter\n",
    "\n",
    "letterGrade(9)"
   ]
  },
  {
   "cell_type": "markdown",
   "metadata": {
    "slideshow": {
     "slide_type": "slide"
    }
   },
   "source": [
    "## Control flow statements\n",
    "### While, if, else\n",
    "\n",
    "\n",
    "Decision making is required when we want to execute a code only if a certain condition holds. This means e.g. that some statements are only carried out if an expression is True. The 'while' statement repeatedly tests the given expression and executes the code block as long as the expression is True"
   ]
  },
  {
   "cell_type": "code",
   "execution_count": 22,
   "metadata": {
    "scrolled": true,
    "slideshow": {
     "slide_type": "fragment"
    }
   },
   "outputs": [
    {
     "name": "stdout",
     "output_type": "stream",
     "text": [
      "Enter password: python2017\n",
      "Welcome\n"
     ]
    }
   ],
   "source": [
    "password = \"python2017\"\n",
    "attempt = input(\"Enter password: \")\n",
    "if attempt == password:\n",
    "    print(\"Welcome\")"
   ]
  },
  {
   "cell_type": "markdown",
   "metadata": {
    "slideshow": {
     "slide_type": "slide"
    }
   },
   "source": [
    "In this case, the if statement is used to evaluates the input of the user and the following code block will only be executed if the expression is True.  If the expression is False, the statement(s) is not executed. \n",
    "But if we want that the program does something else, even when the if-statement evaluates to false, we can add the 'else' statement."
   ]
  },
  {
   "cell_type": "code",
   "execution_count": 24,
   "metadata": {
    "slideshow": {
     "slide_type": "fragment"
    }
   },
   "outputs": [
    {
     "name": "stdout",
     "output_type": "stream",
     "text": [
      "Enter password: python2017\n",
      "Welcome\n"
     ]
    }
   ],
   "source": [
    "password = \"python2017\"\n",
    "attempt = input(\"Enter password: \")\n",
    " \n",
    "if attempt == password:\n",
    "    print(\"Welcome\")\n",
    "else:\n",
    "    print(\"Incorrect password!\")"
   ]
  },
  {
   "cell_type": "markdown",
   "metadata": {
    "slideshow": {
     "slide_type": "slide"
    }
   },
   "source": [
    "You can also use multiple if...else statements nested into each other"
   ]
  },
  {
   "cell_type": "code",
   "execution_count": 29,
   "metadata": {
    "slideshow": {
     "slide_type": "fragment"
    }
   },
   "outputs": [
    {
     "name": "stdout",
     "output_type": "stream",
     "text": [
      "What is your username? Steve\n",
      "What’s the password? python2017\n",
      "Welcome Steve\n"
     ]
    }
   ],
   "source": [
    "name = input(\"What is your username? \")\n",
    "if name == 'Steve':\n",
    "    password = input(\"What’s the password? \")\n",
    "    #did they enter the correct password?\n",
    "    if password == 'python2017':\n",
    "        print(\"Welcome {0}\".format(name))\n",
    "    else:\n",
    "        print(\"Incorrect password\")\n",
    "else:\n",
    "    print(\"Invalid username\")    "
   ]
  },
  {
   "cell_type": "markdown",
   "metadata": {
    "slideshow": {
     "slide_type": "slide"
    }
   },
   "source": [
    "In the next example will want a program that evaluates more than two possible outcomes. For this, we will use an else if statement. In python else if statment is written as 'elif'."
   ]
  },
  {
   "cell_type": "code",
   "execution_count": 33,
   "metadata": {
    "slideshow": {
     "slide_type": "fragment"
    }
   },
   "outputs": [
    {
     "name": "stdout",
     "output_type": "stream",
     "text": [
      "What is your username? Dave\n",
      "What’s the password? python1234\n",
      "Welcome Dave\n"
     ]
    }
   ],
   "source": [
    "name = input(\"What is your username? \")\n",
    "password = input(\"What’s the password? \")\n",
    "if name == 'Steve':\n",
    "    if password == 'python2017':\n",
    "        print(\"Welcome {0}\".format(name))\n",
    "    else:\n",
    "        print(\"Incorrect password\")\n",
    "elif name == 'Dave':\n",
    "    if password == 'python1234':\n",
    "        print(\"Welcome {0}\".format(name))\n",
    "    else:\n",
    "        print(\"Incorrect password\")\n",
    "elif name == 'Lucy':\n",
    "    if password == 'ILovePython':\n",
    "        print(\"Welcome {0}\".format(name))\n",
    "    else:\n",
    "        print(\"Incorrect password\")\n",
    "else:\n",
    "    print(\"No valid username\") "
   ]
  },
  {
   "cell_type": "markdown",
   "metadata": {
    "slideshow": {
     "slide_type": "slide"
    }
   },
   "source": [
    "Sometimes you want that a specific code block is carried out repeatedly. This can be accomplished creating so called loops. A loop allows you to execute a statement or even a group of statements multiple times. For example, the 'while' statement, allows you to run the code within the loop as long as the expression is True."
   ]
  },
  {
   "cell_type": "code",
   "execution_count": 34,
   "metadata": {
    "slideshow": {
     "slide_type": "fragment"
    }
   },
   "outputs": [
    {
     "name": "stdout",
     "output_type": "stream",
     "text": [
      "The count is: 0\n",
      "The count is: 1\n",
      "The count is: 2\n",
      "The count is: 3\n",
      "The count is: 4\n",
      "The count is: 5\n",
      "The count is: 6\n",
      "The count is: 7\n",
      "The count is: 8\n",
      "Count maximum is reached!\n"
     ]
    }
   ],
   "source": [
    "count = 0\n",
    "while (count < 9):\n",
    "    print('The count is:', count)\n",
    "    count = count + 1\n",
    "print(\"Count maximum is reached!\")"
   ]
  },
  {
   "cell_type": "markdown",
   "metadata": {
    "slideshow": {
     "slide_type": "slide"
    }
   },
   "source": [
    "You can also create infinite loops"
   ]
  },
  {
   "cell_type": "code",
   "execution_count": null,
   "metadata": {
    "slideshow": {
     "slide_type": "fragment"
    }
   },
   "outputs": [
    {
     "name": "stdout",
     "output_type": "stream",
     "text": [
      "Enter a number  :1\n",
      "You entered:  1\n",
      "Enter a number  :2\n",
      "You entered:  2\n",
      "Enter a number  :3\n",
      "You entered:  3\n",
      "Enter a number  :4\n",
      "You entered:  4\n",
      "Enter a number  :5\n",
      "You entered:  5\n"
     ]
    }
   ],
   "source": [
    "var = 1\n",
    "while var == 1 :  # This constructs an infinite loop\n",
    "    num = int(input(\"Enter a number  :\"))\n",
    "    print(\"You entered: \", num)\n",
    "\n",
    "print('Thanks')"
   ]
  },
  {
   "cell_type": "markdown",
   "metadata": {
    "slideshow": {
     "slide_type": "slide"
    }
   },
   "source": [
    "Just like the 'if-statement', you can also combine 'while' with 'else'"
   ]
  },
  {
   "cell_type": "code",
   "execution_count": 1,
   "metadata": {
    "slideshow": {
     "slide_type": "fragment"
    }
   },
   "outputs": [
    {
     "name": "stdout",
     "output_type": "stream",
     "text": [
      "0  is  less than 12\n",
      "1  is  less than 12\n",
      "2  is  less than 12\n",
      "3  is  less than 12\n",
      "4  is  less than 12\n",
      "5  is  less than 12\n",
      "6  is  less than 12\n",
      "7  is  less than 12\n",
      "8  is  less than 12\n",
      "9  is  less than 12\n",
      "10  is  less than 12\n",
      "11  is  less than 12\n",
      "12  is not less than 12\n"
     ]
    }
   ],
   "source": [
    "count = 0\n",
    "while count < 12:\n",
    "    print(count, \" is  less than 12\")\n",
    "    count = count + 1\n",
    "else:\n",
    "    print(count, \" is not less than 12\")"
   ]
  },
  {
   "cell_type": "markdown",
   "metadata": {
    "slideshow": {
     "slide_type": "slide"
    }
   },
   "source": [
    "Another statement you can use is break(). It terminates the enclosing loop. A premature termination of the current loop can be useful when some external condition is triggered requiring an exit from a loop."
   ]
  },
  {
   "cell_type": "code",
   "execution_count": 2,
   "metadata": {
    "slideshow": {
     "slide_type": "fragment"
    }
   },
   "outputs": [
    {
     "name": "stdout",
     "output_type": "stream",
     "text": [
      "Guess a number between 1 and 15:\n",
      "15\n",
      "Your guess is too high\n",
      "Guess a number between 1 and 15:\n",
      "8\n",
      "Your guess is too high\n",
      "Guess a number between 1 and 15:\n",
      "4\n",
      "Your guess is too low\n",
      "Guess a number between 1 and 15:\n",
      "5\n",
      "You guessed the number in  4  tries!\n"
     ]
    }
   ],
   "source": [
    "import random\n",
    "number = random.randint(1, 15)\n",
    "\n",
    "number_of_guesses = 0\n",
    "\n",
    "while number_of_guesses < 5:\n",
    "    print('Guess a number between 1 and 15:')\n",
    "    guess = input()\n",
    "    guess = int(guess)\n",
    "\n",
    "    number_of_guesses = number_of_guesses + 1\n",
    "\n",
    "    if guess < number:\n",
    "        print('Your guess is too low')\n",
    "\n",
    "    if guess > number:\n",
    "        print('Your guess is too high')\n",
    "\n",
    "    if guess == number:\n",
    "        break\n",
    "\n",
    "if guess == number:\n",
    "    print('You guessed the number in ' , number_of_guesses,' tries!')\n",
    "\n",
    "else:\n",
    "    print('You did not guess the number. The number was ' , number)"
   ]
  },
  {
   "cell_type": "markdown",
   "metadata": {
    "slideshow": {
     "slide_type": "slide"
    }
   },
   "source": [
    "Sometimes, you want to perform code on each item on a list. This can be accomplished with a while loop and counter variable."
   ]
  },
  {
   "cell_type": "code",
   "execution_count": 6,
   "metadata": {
    "slideshow": {
     "slide_type": "fragment"
    }
   },
   "outputs": [
    {
     "name": "stdout",
     "output_type": "stream",
     "text": [
      "one!\n",
      "two!\n",
      "three!\n",
      "four!\n",
      "five!\n"
     ]
    }
   ],
   "source": [
    "words = ['one', 'two', 'three', 'four','five' ]\n",
    "count = 0\n",
    "max_count = len(words) - 1\n",
    "\n",
    "while count <= max_count:\n",
    "    word = words[count]\n",
    "    print(word +'!')\n",
    "    count = count + 1"
   ]
  },
  {
   "cell_type": "markdown",
   "metadata": {
    "slideshow": {
     "slide_type": "slide"
    }
   },
   "source": [
    "Using a while loop for iterating through list requires quite a lot of code. Python also provides the for-loop as shortcut that accomplishes the same task. Let´s do the same code as above with a for-loop "
   ]
  },
  {
   "cell_type": "code",
   "execution_count": 5,
   "metadata": {
    "slideshow": {
     "slide_type": "fragment"
    }
   },
   "outputs": [
    {
     "name": "stdout",
     "output_type": "stream",
     "text": [
      "one!\n",
      "two!\n",
      "three!\n",
      "four!\n",
      "five!\n"
     ]
    }
   ],
   "source": [
    "words = ['one', 'two', 'three', 'four','five' ]\n",
    "for word in words:\n",
    "    print(word + '!')"
   ]
  },
  {
   "cell_type": "markdown",
   "metadata": {
    "slideshow": {
     "slide_type": "slide"
    }
   },
   "source": [
    "If you want to repeat some code a certain numbers of time, you can combine the for-loop with a range object."
   ]
  },
  {
   "cell_type": "code",
   "execution_count": 9,
   "metadata": {
    "slideshow": {
     "slide_type": "fragment"
    }
   },
   "outputs": [
    {
     "name": "stdout",
     "output_type": "stream",
     "text": [
      "0 Go !\n",
      "1 Go !\n",
      "2 Go !\n",
      "3 Go !\n",
      "4 Go !\n",
      "5 Go !\n",
      "6 Go !\n",
      "7 Go !\n",
      "8 Go !\n"
     ]
    }
   ],
   "source": [
    "for i in range(9):\n",
    "    print(i,\"Go !\")"
   ]
  },
  {
   "cell_type": "markdown",
   "metadata": {
    "slideshow": {
     "slide_type": "slide"
    }
   },
   "source": [
    "Now we can use our gained knowledge to program e.g. a simple calculator."
   ]
  },
  {
   "cell_type": "code",
   "execution_count": 13,
   "metadata": {
    "slideshow": {
     "slide_type": "fragment"
    }
   },
   "outputs": [
    {
     "name": "stdout",
     "output_type": "stream",
     "text": [
      "1.Add\n",
      "2.Subtract\n",
      "3.Multiply\n",
      "4.Divide\n",
      "Enter choice(1/2/3/4):1\n",
      "Enter first number: 2\n",
      "Enter second number: 3\n",
      "2 + 3 = 5\n"
     ]
    }
   ],
   "source": [
    "print(\"1.Add\")\n",
    "print(\"2.Subtract\")\n",
    "print(\"3.Multiply\")\n",
    "print(\"4.Divide\")\n",
    "\n",
    "# Take input from the user \n",
    "choice = input(\"Enter choice(1/2/3/4):\")\n",
    "\n",
    "num1 = int(input(\"Enter first number: \"))\n",
    "num2 = int(input(\"Enter second number: \"))\n",
    "\n",
    "if choice == '1':\n",
    "    result = num1 + num2\n",
    "    print(\"{0} + {1} = {2}\".format(num1,num2,result))\n",
    "elif choice == '2':\n",
    "    result = num1 - num2\n",
    "    print(\"{0} - {1} = {2}\".format(num1,num2,result))\n",
    "          \n",
    "elif choice == '3':\n",
    "    result = num1*num2\n",
    "    print(\"{0} * {1} = {2}\".format(num1,num2,result))\n",
    "\n",
    "elif choice == '4':\n",
    "    result = num1/num2\n",
    "    print(\"{0} / {1} = {2}\".format(num1,num2,result))\n",
    "else:\n",
    "    print(\"Invalid input\") "
   ]
  },
  {
   "cell_type": "markdown",
   "metadata": {
    "slideshow": {
     "slide_type": "slide"
    }
   },
   "source": [
    "#### Comprehensions\n",
    "\n",
    "\n",
    "Comprehensions are constructs that allow sequences to be built from other sequences. Let's assume we have a list with temperature values in Celsius and we want to convert them to Fahrenheit"
   ]
  },
  {
   "cell_type": "code",
   "execution_count": 14,
   "metadata": {
    "slideshow": {
     "slide_type": "fragment"
    }
   },
   "outputs": [],
   "source": [
    "T_in_celsius = [3, 12, 18, 9, 10, 20]"
   ]
  },
  {
   "cell_type": "markdown",
   "metadata": {
    "slideshow": {
     "slide_type": "fragment"
    }
   },
   "source": [
    "We could write a for loop for this problem"
   ]
  },
  {
   "cell_type": "code",
   "execution_count": 15,
   "metadata": {
    "slideshow": {
     "slide_type": "fragment"
    }
   },
   "outputs": [
    {
     "data": {
      "text/plain": [
       "[37.4, 53.6, 64.4, 48.2, 50.0, 68.0]"
      ]
     },
     "execution_count": 15,
     "metadata": {},
     "output_type": "execute_result"
    }
   ],
   "source": [
    "fahrenheit = []\n",
    "for temp in T_in_celsius:\n",
    "    fahrenheit.append((temp * 9 / 5) + 32)\n",
    "\n",
    "fahrenheit"
   ]
  },
  {
   "cell_type": "markdown",
   "metadata": {
    "slideshow": {
     "slide_type": "slide"
    }
   },
   "source": [
    "Or, we could use a list comprehension:"
   ]
  },
  {
   "cell_type": "code",
   "execution_count": 16,
   "metadata": {
    "slideshow": {
     "slide_type": "fragment"
    }
   },
   "outputs": [
    {
     "data": {
      "text/plain": [
       "[37.4, 53.6, 64.4, 48.2, 50.0, 68.0]"
      ]
     },
     "execution_count": 16,
     "metadata": {},
     "output_type": "execute_result"
    }
   ],
   "source": [
    "fahrenheit = [(temp * 9 / 5) + 32 for temp in T_in_celsius]\n",
    "fahrenheit"
   ]
  },
  {
   "cell_type": "markdown",
   "metadata": {
    "slideshow": {
     "slide_type": "slide"
    }
   },
   "source": [
    "We can also go one step further and also include a if statement"
   ]
  },
  {
   "cell_type": "code",
   "execution_count": 17,
   "metadata": {
    "slideshow": {
     "slide_type": "fragment"
    }
   },
   "outputs": [
    {
     "data": {
      "text/plain": [
       "[(3, 4, 5),\n",
       " (4, 3, 5),\n",
       " (5, 12, 13),\n",
       " (6, 8, 10),\n",
       " (7, 24, 25),\n",
       " (8, 6, 10),\n",
       " (8, 15, 17),\n",
       " (9, 12, 15),\n",
       " (10, 24, 26),\n",
       " (12, 5, 13),\n",
       " (12, 9, 15),\n",
       " (12, 16, 20),\n",
       " (15, 8, 17),\n",
       " (15, 20, 25),\n",
       " (16, 12, 20),\n",
       " (20, 15, 25),\n",
       " (20, 21, 29),\n",
       " (21, 20, 29),\n",
       " (24, 7, 25),\n",
       " (24, 10, 26)]"
      ]
     },
     "execution_count": 17,
     "metadata": {},
     "output_type": "execute_result"
    }
   ],
   "source": [
    "# Pythagorean triple\n",
    "# consists of three positive integers a, b, and c, such that a2 + b2 = c2\n",
    "\n",
    "[(a,b,c) for a in range(1,30) for b in range(1,30) for c in range(1,30)if a**2 + b**2 == c**2]"
   ]
  },
  {
   "cell_type": "markdown",
   "metadata": {
    "slideshow": {
     "slide_type": "slide"
    }
   },
   "source": [
    "You can even create nested comprehensions"
   ]
  },
  {
   "cell_type": "code",
   "execution_count": 18,
   "metadata": {
    "slideshow": {
     "slide_type": "fragment"
    }
   },
   "outputs": [
    {
     "data": {
      "text/plain": [
       "[[0, 1, 4, 9], [1, 2, 5, 10], [2, 3, 6, 11]]"
      ]
     },
     "execution_count": 18,
     "metadata": {},
     "output_type": "execute_result"
    }
   ],
   "source": [
    "matrix = [[j * j+i for j in range(4)] for i in range(3)]\n",
    "matrix"
   ]
  },
  {
   "cell_type": "markdown",
   "metadata": {
    "slideshow": {
     "slide_type": "fragment"
    }
   },
   "source": [
    "Of course you can use comprehensions also for dictionaries"
   ]
  },
  {
   "cell_type": "code",
   "execution_count": 19,
   "metadata": {
    "slideshow": {
     "slide_type": "fragment"
    }
   },
   "outputs": [
    {
     "data": {
      "text/plain": [
       "{'apple': 5, 'mango': 5, 'banana': 6, 'cherry': 6}"
      ]
     },
     "execution_count": 19,
     "metadata": {},
     "output_type": "execute_result"
    }
   ],
   "source": [
    "fruits = ['apple', 'mango', 'banana','cherry']\n",
    "{f:len(f) for f in fruits}"
   ]
  },
  {
   "cell_type": "markdown",
   "metadata": {
    "slideshow": {
     "slide_type": "slide"
    }
   },
   "source": [
    "### Functions\n",
    "\n",
    "In this chapter, we will learn how to write your own functions. A function   can be used as kind of a structuring element in programming languages to group a set of statements so you can reuse them. Decreasing code size by using functions make it more readable and easier to maintain. And of course it saves a lot of typing. In python a function call is a statement consisting of a function name followed by information between parentheses. You have already used functions in the previous chapters"
   ]
  },
  {
   "cell_type": "markdown",
   "metadata": {
    "slideshow": {
     "slide_type": "slide"
    }
   },
   "source": [
    "A function consists of several parts: \n",
    "- **Name**: What you call the function by\n",
    "- **Parameters**: You can provide functions with variables.\n",
    "- **Docstring**: A docstring allows you to write a little documentation were you explain how the function works \n",
    "- **Body**: This is were the magic happens, as here is the place for the code itself\n",
    "- **Return values**: You usually create functions to do something that create a result. "
   ]
  },
  {
   "cell_type": "markdown",
   "metadata": {
    "slideshow": {
     "slide_type": "fragment"
    }
   },
   "source": [
    "<img src=\"images/function.png\" width=600 />"
   ]
  },
  {
   "cell_type": "markdown",
   "metadata": {
    "slideshow": {
     "slide_type": "slide"
    }
   },
   "source": [
    "Let´s start with a very simple function"
   ]
  },
  {
   "cell_type": "code",
   "execution_count": 20,
   "metadata": {
    "slideshow": {
     "slide_type": "fragment"
    }
   },
   "outputs": [
    {
     "name": "stdout",
     "output_type": "stream",
     "text": [
      "I love python!\n"
     ]
    }
   ],
   "source": [
    "def my_function():\n",
    "    print(\"I love python!\")\n",
    "\n",
    "my_function()"
   ]
  },
  {
   "cell_type": "markdown",
   "metadata": {
    "slideshow": {
     "slide_type": "slide"
    }
   },
   "source": [
    "You can also create functions which receive arguments"
   ]
  },
  {
   "cell_type": "code",
   "execution_count": 21,
   "metadata": {
    "slideshow": {
     "slide_type": "fragment"
    }
   },
   "outputs": [
    {
     "name": "stdout",
     "output_type": "stream",
     "text": [
      "Area: 18\n"
     ]
    }
   ],
   "source": [
    "def area(width, height):\n",
    "    print(\"Area: {0}\".format(width*height))\n",
    "\n",
    "area(3,6)"
   ]
  },
  {
   "cell_type": "markdown",
   "metadata": {
    "slideshow": {
     "slide_type": "slide"
    }
   },
   "source": [
    "If the function should return a result (not only print) you can use the 'return' statement. The return statement exits the function and can contain a expression which gets evaluated or a value is returned. If there is no expression or value the function returns the 'None' object "
   ]
  },
  {
   "cell_type": "code",
   "execution_count": 22,
   "metadata": {
    "slideshow": {
     "slide_type": "fragment"
    }
   },
   "outputs": [
    {
     "data": {
      "text/plain": [
       "95.0"
      ]
     },
     "execution_count": 22,
     "metadata": {},
     "output_type": "execute_result"
    }
   ],
   "source": [
    "def fahrenheit(T_in_celsius):\n",
    "    \"\"\" returns the temperature in degrees Fahrenheit \"\"\"\n",
    "    return (T_in_celsius * 9 / 5) + 32\n",
    "\n",
    "fahrenheit(35) "
   ]
  },
  {
   "cell_type": "markdown",
   "metadata": {
    "slideshow": {
     "slide_type": "slide"
    }
   },
   "source": [
    "Now we can rewrite our simple calculator. But this time we define our functions in front."
   ]
  },
  {
   "cell_type": "code",
   "execution_count": 27,
   "metadata": {
    "slideshow": {
     "slide_type": "fragment"
    }
   },
   "outputs": [
    {
     "name": "stdout",
     "output_type": "stream",
     "text": [
      "1.Add\n",
      "2.Subtract\n",
      "3.Multiply\n",
      "4.Divide\n",
      "Enter choice(1/2/3/4):5\n",
      "Enter first number: 2\n",
      "Enter second number: 3\n",
      "Invalid input\n"
     ]
    }
   ],
   "source": [
    "def add(x,y):\n",
    "    return x+y\n",
    "\n",
    "def diff(x,y):\n",
    "    return x-y\n",
    "\n",
    "def multiply(x,y):\n",
    "    return x*y\n",
    "\n",
    "def divide(x,y):\n",
    "    return x/y\n",
    "\n",
    "print(\"1.Add\")\n",
    "print(\"2.Subtract\")\n",
    "print(\"3.Multiply\")\n",
    "print(\"4.Divide\")\n",
    "\n",
    "# Take input from the user \n",
    "choice = eval(input(\"Enter choice(1/2/3/4):\"))\n",
    "\n",
    "num1 = eval(input(\"Enter first number: \"))\n",
    "num2 = eval(input(\"Enter second number: \"))\n",
    "\n",
    "if choice == 1:\n",
    "    print(\"{0} + {1} = {2}\".format(num1,num2,add(num1,num2)))\n",
    "\n",
    "elif choice == 2:\n",
    "    #result = num1 - num2\n",
    "    print(\"{0} - {1} = {2}\".format(num1,num2,diff(num1,num2)))\n",
    "          \n",
    "elif choice == 3:\n",
    "    #result = num1*num2\n",
    "    print(\"{0} * {1} = {2}\".format(num1,num2,multiply(num1,num2)))\n",
    "\n",
    "elif choice == 4:\n",
    "    #result = num1/num2\n",
    "    print(\"{0} / {1} = {2}\".format(num1,num2,divide(num1,num2)))\n",
    "else:\n",
    "    print(\"Invalid input\") "
   ]
  },
  {
   "cell_type": "markdown",
   "metadata": {
    "slideshow": {
     "slide_type": "slide"
    }
   },
   "source": [
    "Sometimes you need to define a function that may accept an argument and shall behave differently whether or not the argument is present. Therefore you can also define default values for arguments. "
   ]
  },
  {
   "cell_type": "code",
   "execution_count": 28,
   "metadata": {
    "slideshow": {
     "slide_type": "fragment"
    }
   },
   "outputs": [
    {
     "name": "stdout",
     "output_type": "stream",
     "text": [
      "Hello Bob, nice to see you!\n",
      "Hello Dave, How do you do?\n"
     ]
    }
   ],
   "source": [
    "def greeting(name, message= \"nice to see you!\"):\n",
    "    print(\"Hello \" + name + ', ' + message) \n",
    "\n",
    "greeting(\"Bob\")\n",
    "greeting(\"Dave\",\"How do you do?\")"
   ]
  },
  {
   "cell_type": "markdown",
   "metadata": {
    "slideshow": {
     "slide_type": "slide"
    }
   },
   "source": [
    "You can write your functions without even knowing what parameters will be passed in! The * args and * * kwargs is a common idiom to allow arbitrary number of arguments to function."
   ]
  },
  {
   "cell_type": "code",
   "execution_count": 30,
   "metadata": {
    "slideshow": {
     "slide_type": "fragment"
    }
   },
   "outputs": [
    {
     "data": {
      "text/plain": [
       "'Metallica ; Rolling Stones ; ACDC'"
      ]
     },
     "execution_count": 30,
     "metadata": {},
     "output_type": "execute_result"
    }
   ],
   "source": [
    "def concat(*args):\n",
    "    return ' ; '.join(args)\n",
    "\n",
    "concat(\"Metallica\", \"Rolling Stones\", \"ACDC\")\n",
    "#concat(\"Metallica\", \"Rolling Stones\", \"ACDC\",\"Beatles\",\"Queen\",\"Blacksabbath\")"
   ]
  },
  {
   "cell_type": "markdown",
   "metadata": {
    "slideshow": {
     "slide_type": "slide"
    }
   },
   "source": [
    "In Python you can also create small anonymous functions with the lambda keyword. Lambda functions can be used wherever function objects are required."
   ]
  },
  {
   "cell_type": "code",
   "execution_count": 31,
   "metadata": {
    "slideshow": {
     "slide_type": "fragment"
    }
   },
   "outputs": [
    {
     "data": {
      "text/plain": [
       "43"
      ]
     },
     "execution_count": 31,
     "metadata": {},
     "output_type": "execute_result"
    }
   ],
   "source": [
    "def make_incrementor(n):\n",
    "    return lambda x: x + n\n",
    "f = make_incrementor(42)\n",
    "f(1)"
   ]
  },
  {
   "cell_type": "markdown",
   "metadata": {
    "slideshow": {
     "slide_type": "slide"
    }
   },
   "source": [
    "### Exercise 4\n",
    "\n",
    "- What happens if multiple elif blocks are True?\n",
    "- Can I have an if statement within an if statement?\n",
    "- What is the difference between \"if\" and \"elif\"?\n",
    "- How does Python know what part of the code belongs to a certain if\n",
    "- Write a script where the user can input a number. Depending on whether the number is even or odd, print out an appropriate message to the user\n",
    "- Write a program which prints a Fibonnaci sequence of variable length (For example n=7: 1, 1, 2, 3, 5, 8, 13) \n",
    "- Given a string, return a new string where the first and last chars have been exchanged.\n",
    "- Given an array of ints, return True if the sequence of numbers 1, 2, 3 appears in the array somewhere.\n",
    "- With a given integral number n, write a program to generate a dictionary that contains (i, i*i) such that is an integral number between 1 and n (both included). and then the program should print the dictionary.\n"
   ]
  },
  {
   "cell_type": "code",
   "execution_count": 53,
   "metadata": {},
   "outputs": [
    {
     "name": "stdout",
     "output_type": "stream",
     "text": [
      "enter a choice(1/2/3): 2\n",
      "cudjoe\n"
     ]
    }
   ],
   "source": [
    "#Python know what part of the code belongs to a certain if with indentation\n",
    "choix=input('enter a choice(1/2/3): ')\n",
    "if choix=='1':\n",
    "    print('prince')\n",
    "elif choix=='2':\n",
    "    print('cudjoe')\n",
    "elif choix=='3':\n",
    "    print('abokye')\n",
    "else:\n",
    "    print('wrong choice')"
   ]
  },
  {
   "cell_type": "code",
   "execution_count": 58,
   "metadata": {},
   "outputs": [
    {
     "name": "stdout",
     "output_type": "stream",
     "text": [
      "enter a number: 123\n",
      "odd number\n"
     ]
    }
   ],
   "source": [
    "num=eval(input('enter a number: '))\n",
    "if (num%2==0):\n",
    "    print('even number')\n",
    "elif (num%2==1):\n",
    "    print('odd number')\n",
    "else:\n",
    "    print('another type of number') "
   ]
  },
  {
   "cell_type": "code",
   "execution_count": 1,
   "metadata": {},
   "outputs": [
    {
     "name": "stdout",
     "output_type": "stream",
     "text": [
      "How many terms? 5\n",
      "Fibonacci sequence:\n",
      "0\n",
      "1\n",
      "1\n",
      "2\n",
      "3\n"
     ]
    }
   ],
   "source": [
    "# Program to display the Fibonacci sequence up to n-th term\n",
    "\n",
    "nterms = int(input(\"How many terms? \"))\n",
    "\n",
    "# first two terms\n",
    "n1, n2 = 0, 1\n",
    "count = 0\n",
    "\n",
    "# check if the number of terms is valid\n",
    "if nterms <= 0:\n",
    "   print(\"Please enter a positive integer\")\n",
    "elif nterms == 1:\n",
    "   print(\"Fibonacci sequence upto\",nterms,\":\")\n",
    "   print(n1)\n",
    "else:\n",
    "   print(\"Fibonacci sequence:\")\n",
    "   while count < nterms:\n",
    "       print(n1)\n",
    "       nth = n1 + n2\n",
    "       # update values\n",
    "       n1 = n2\n",
    "       n2 = nth\n",
    "       count += 1"
   ]
  },
  {
   "cell_type": "code",
   "execution_count": 6,
   "metadata": {},
   "outputs": [
    {
     "data": {
      "text/plain": [
       "'gaster ege'"
      ]
     },
     "execution_count": 6,
     "metadata": {},
     "output_type": "execute_result"
    }
   ],
   "source": [
    "abo='easter egg'\n",
    "abo\n",
    "#aa = a[:3, 1:3]\n",
    "#abo[1:]\n",
    "#abo[:-1]\n",
    "abo[-1:]+abo[1:-1]+abo[:1]\n",
    "#abo[::-1]"
   ]
  },
  {
   "cell_type": "code",
   "execution_count": 19,
   "metadata": {},
   "outputs": [
    {
     "name": "stdout",
     "output_type": "stream",
     "text": [
      "number is in array\n"
     ]
    }
   ],
   "source": [
    "array_num=[5,3,7,8,2,0,4,1,9]\n",
    "if (array_num==1 or 2 or 3):\n",
    "    print('number is in array')"
   ]
  },
  {
   "cell_type": "code",
   "execution_count": 54,
   "metadata": {},
   "outputs": [
    {
     "name": "stdout",
     "output_type": "stream",
     "text": [
      "16\n"
     ]
    }
   ],
   "source": [
    "dict={1:1,2:2,3:3,4:4,5:5}\n",
    "i=i+1\n",
    "print(dict[i]*dict[i])"
   ]
  },
  {
   "cell_type": "markdown",
   "metadata": {
    "slideshow": {
     "slide_type": "slide"
    }
   },
   "source": [
    "### Exception handling\n",
    "When exceptions occurs the program immediately stops. Python has several built-in exceptions. Just a few examples:"
   ]
  },
  {
   "cell_type": "markdown",
   "metadata": {
    "slideshow": {
     "slide_type": "fragment"
    }
   },
   "source": [
    "- ImportError: import fails\n",
    "- IndexError: list is indexed with a number out of range\n",
    "- NameError: an unknown variable  is used\n",
    "- ZeroDivisionError : error when trying to divide by 0"
   ]
  },
  {
   "cell_type": "markdown",
   "metadata": {
    "slideshow": {
     "slide_type": "slide"
    }
   },
   "source": [
    "In order to handle exceptions you can use the try/except statement. "
   ]
  },
  {
   "cell_type": "code",
   "execution_count": 1,
   "metadata": {
    "slideshow": {
     "slide_type": "fragment"
    }
   },
   "outputs": [
    {
     "name": "stdout",
     "output_type": "stream",
     "text": [
      "2\n",
      "The argument does not contain numbers\n",
      "None\n"
     ]
    }
   ],
   "source": [
    "def temp_convert(var):\n",
    "    try:\n",
    "        return int(var)\n",
    "    except ValueError:\n",
    "        print(\"The argument does not contain numbers\")\n",
    "\n",
    "\n",
    "print(temp_convert(2))\n",
    "print(temp_convert(\"xyz\"))"
   ]
  },
  {
   "cell_type": "markdown",
   "metadata": {
    "slideshow": {
     "slide_type": "slide"
    }
   },
   "source": [
    "### Reading and writing data\n",
    "\n",
    "In this chapter, we will learn how to read and write contents of a file in python. Before you can edit a file, it must be opened. For this purpose we use the 'open()' function. The argument of the 'open()' function is path of the file. You can also use the os.chdir() function, in order to navigate to the file directory and just use the filename."
   ]
  },
  {
   "cell_type": "code",
   "execution_count": 2,
   "metadata": {
    "slideshow": {
     "slide_type": "fragment"
    }
   },
   "outputs": [
    {
     "name": "stdout",
     "output_type": "stream",
     "text": [
      "['/home/abokye/Desktop/spatial_data_analysis/SpatialAnalysisPython-master']\n"
     ]
    }
   ],
   "source": [
    "cdir = !pwd # get working directory (Windows: !echo %cd% )\n",
    "print(cdir)"
   ]
  },
  {
   "cell_type": "code",
   "execution_count": 3,
   "metadata": {},
   "outputs": [
    {
     "data": {
      "text/plain": [
       "'/home/abokye/Desktop/spatial_data_analysis/SpatialAnalysisPython-master'"
      ]
     },
     "execution_count": 3,
     "metadata": {},
     "output_type": "execute_result"
    }
   ],
   "source": [
    "# Or use:\n",
    "import os\n",
    "os.getcwd()"
   ]
  },
  {
   "cell_type": "code",
   "execution_count": 5,
   "metadata": {},
   "outputs": [],
   "source": [
    "# Move to this directory (if you are not there yet)\n",
    "os.chdir(\"/home/abokye/Desktop/spatial_data_analysis/SpatialAnalysisPython-master\")"
   ]
  },
  {
   "cell_type": "code",
   "execution_count": 6,
   "metadata": {
    "slideshow": {
     "slide_type": "slide"
    }
   },
   "outputs": [],
   "source": [
    "# in case you want to move your directory, type\n",
    "# os.chdir(\"path/to/subfolder\")\n",
    "with open(\"Data/test.txt\",'w') as f:\n",
    "    f.write(\"my first file\\n\")\n",
    "    f.write(\"This file\\n\\n\")\n",
    "    f.write(\"contains three lines\\n\")\n",
    "f.close()"
   ]
  },
  {
   "cell_type": "code",
   "execution_count": 7,
   "metadata": {
    "slideshow": {
     "slide_type": "fragment"
    }
   },
   "outputs": [
    {
     "name": "stdout",
     "output_type": "stream",
     "text": [
      "my first file\n",
      "\n",
      "This file\n",
      "\n",
      "\n",
      "\n",
      "contains three lines\n",
      "\n"
     ]
    }
   ],
   "source": [
    "f= open(\"Data/test.txt\",'r')\n",
    "fl =f.readlines()\n",
    "for x in fl:\n",
    "    print(x)\n",
    "f.close()"
   ]
  },
  {
   "cell_type": "markdown",
   "metadata": {
    "slideshow": {
     "slide_type": "slide"
    }
   },
   "source": [
    "## Exercise 5\n",
    "\n",
    "- Check if input string is a palindrome. Try to only use constant extra space.\n",
    "- Given a string of words separated by spaced, return length of last word. Think of an efficient way to do it for a string with millions of words in it.\n",
    "- Write a program which can compute the factorial of a given numbers. The results should be printed in a comma-separated sequence on a single line\n",
    "- Write a program that accepts a comma separated sequence of words as input and prints the words in a comma-separated sequence after sorting them alphabetically.\n",
    "- Define a function which can generate and print a list where the values are square of numbers between 1 and 20 (both included)he results should be printed in a comma-separnted in a comma-separated sequence on a single line\n",
    "\n",
    "#### Advanced\n",
    "- Create a two-player Rock-Paper-Scissors game\n"
   ]
  },
  {
   "cell_type": "code",
   "execution_count": 17,
   "metadata": {},
   "outputs": [
    {
     "name": "stdout",
     "output_type": "stream",
     "text": [
      "enter string : dad\n",
      "True ,the string entered is a palindrome :  dad  is the same as  dad\n"
     ]
    }
   ],
   "source": [
    "# function to check string is \n",
    "# palindrome or not \n",
    "def isPalindrome(s): \n",
    "\t\n",
    "\t# Using predefined function to \n",
    "\t# reverse to string print(s) \n",
    "\trev = ''.join(reversed(s))\n",
    "\t# Checking if both string are \n",
    "\t# equal or not \n",
    "\tif (s == rev): \n",
    "\t\treturn True\n",
    "\treturn False\n",
    "\n",
    "# main function \n",
    "s = input('enter string : ')\n",
    "ans = isPalindrome(s) \n",
    "if (ans): \n",
    "\tprint(ans,\",the string entered is a palindrome : \",s[::-1],\" is the same as \",s) \n",
    "else: \n",
    "\tprint(ans,\",the string entered is not a palindrome : \",s[::-1],\" is not the same as \",s)  \n"
   ]
  },
  {
   "cell_type": "code",
   "execution_count": 5,
   "metadata": {},
   "outputs": [
    {
     "data": {
      "text/plain": [
       "'school'"
      ]
     },
     "execution_count": 5,
     "metadata": {},
     "output_type": "execute_result"
    }
   ],
   "source": [
    "pri='the boy is going to school'\n",
    "pri[-6:]"
   ]
  },
  {
   "cell_type": "code",
   "execution_count": 12,
   "metadata": {},
   "outputs": [
    {
     "name": "stdout",
     "output_type": "stream",
     "text": [
      "enter the number you want to find the factorial : 4\n",
      "The factorial of 4 is 24\n"
     ]
    }
   ],
   "source": [
    "# Python program to find the factorial of a number provided by the user.\n",
    "\n",
    "# change the value for a different result\n",
    "\n",
    "# To take input from the user\n",
    "#num = int(input(\"Enter a number: \"))\n",
    "\n",
    "factorial = 1\n",
    "cud=eval(input('enter the number you want to find the factorial : '))\n",
    "# check if the number is negative, positive or zero\n",
    "if cud < 0:\n",
    "   print(\"Sorry, factorial does not exist for negative numbers\")\n",
    "elif cud == 0:\n",
    "   print(\"The factorial of 0 is 1\")\n",
    "else:\n",
    "   for i in range(1,cud + 1):\n",
    "       factorial = factorial*i\n",
    "   print(\"The factorial of\",cud,\"is\",factorial)"
   ]
  },
  {
   "cell_type": "code",
   "execution_count": 22,
   "metadata": {},
   "outputs": [
    {
     "name": "stdout",
     "output_type": "stream",
     "text": [
      "enter a sentence : the,boy,is,going\n",
      "the,boy,is,going\n",
      "The sorted words are:\n",
      "boy,going,is,the\n"
     ]
    }
   ],
   "source": [
    "abokye=input('enter a sentence : ')\n",
    "print(abokye)\n",
    "# breakdown the string into a list of words\n",
    "words = abokye.split(',')\n",
    "\n",
    "# sort the list\n",
    "words.sort()\n",
    "\n",
    "# display the sorted words\n",
    "\n",
    "print(\"The sorted words are:\")\n",
    "print(','.join(words))"
   ]
  },
  {
   "cell_type": "code",
   "execution_count": 15,
   "metadata": {},
   "outputs": [
    {
     "name": "stdout",
     "output_type": "stream",
     "text": [
      "enter the numbers to be squared separated by comma : 1,2,3,4,5,6,7,8,9,10,11,12,13,14,15,16,17,18,19,20\n",
      "Original values:\n",
      " (1, 2, 3, 4, 5, 6, 7, 8, 9, 10, 11, 12, 13, 14, 15, 16, 17, 18, 19, 20)\n",
      "Values squared:\n",
      " [1, 4, 9, 16, 25, 36, 49, 64, 81, 100, 121, 144, 169, 196, 225, 256, 289, 324, 361, 400]\n"
     ]
    }
   ],
   "source": [
    "numbers=eval(input('enter the numbers to be squared separated by comma : '))\n",
    "\n",
    "# Generate list with each value squared\n",
    "squared = [number ** 2 for number in numbers]\n",
    "\n",
    "# Output data\n",
    "print(\"Original values:\\n\", numbers)\n",
    "print(\"Values squared:\\n\", squared)"
   ]
  },
  {
   "cell_type": "markdown",
   "metadata": {
    "slideshow": {
     "slide_type": "slide"
    }
   },
   "source": [
    "# Literature\n",
    "\n",
    "For this script I mainly used following sources:\n",
    "\n",
    "https://docs.python.org/3/\n",
    "\n",
    "https://www.tutorialspoint.com/python/python_lists.html\n",
    "\n",
    "https://www.datacamp.com\n",
    "\n",
    "https://anh.cs.luc.edu/python/hands-on/3.1/handsonHtml/index.html\n",
    "\n",
    "Python - kurz und gut (2014) Mark Lutz"
   ]
  }
 ],
 "metadata": {
  "celltoolbar": "Slideshow",
  "kernelspec": {
   "display_name": "Python 3",
   "language": "python",
   "name": "python3"
  },
  "language_info": {
   "codemirror_mode": {
    "name": "ipython",
    "version": 3
   },
   "file_extension": ".py",
   "mimetype": "text/x-python",
   "name": "python",
   "nbconvert_exporter": "python",
   "pygments_lexer": "ipython3",
   "version": "3.8.5"
  },
  "livereveal": {
   "scroll": true
  },
  "rise": {
   "backimage": "images/header.png",
   "footer": "<h3>Spatial Python</h3>",
   "theme": "simple"
  },
  "toc": {
   "base_numbering": 1,
   "nav_menu": {},
   "number_sections": true,
   "sideBar": true,
   "skip_h1_title": false,
   "title_cell": "Table of Contents",
   "title_sidebar": "Contents",
   "toc_cell": false,
   "toc_position": {
    "height": "calc(100% - 180px)",
    "left": "10px",
    "top": "150px",
    "width": "165px"
   },
   "toc_section_display": true,
   "toc_window_display": true
  }
 },
 "nbformat": 4,
 "nbformat_minor": 4
}
