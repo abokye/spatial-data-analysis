{
 "cells": [
  {
   "cell_type": "markdown",
   "metadata": {
    "slideshow": {
     "slide_type": "slide"
    }
   },
   "source": [
    "# Data Analysis in Python\n",
    "\n",
    "\n",
    "<img src=\"images/analysis_header.png\" width=500 />"
   ]
  },
  {
   "cell_type": "code",
   "execution_count": 14,
   "metadata": {},
   "outputs": [],
   "source": [
    "#site for dataset\n",
    "#https://github.com/sentinelsat/sentinelsat\n",
    "#https://github.com/16EAGLE/getSpatialData\n",
    "#https://earthexplorer.usgs.gov/\n",
    "#https://scihub.copernicus.eu/\n",
    "#https://espa.cr.usgs.gov/\n",
    "#https://earthdata.nasa.gov/\n",
    "#https://ipywidgets.readthedocs.io/en/latest/user_install.html\n",
    "#https://data.humdata.org/dataset/burkina-faso-administrative-boundaries\n",
    "#http://www.citypopulation.de/en/burkinafaso/\n",
    "#https://www.usgs.gov/land-resources/nli/landsat/landsat-shapefiles-and-kml-files\n",
    "#https://www.esa.int/Applications/Observing_the_Earth/Copernicus/Sentinel-5P\n",
    "#https://sentinel.esa.int/web/sentinel/toolboxes/sentinel-1\n",
    "#https://github.com/johntruckenbrodt/pyroSAR\n",
    "#https://www.google.com/url?sa=t&rct=j&q=&esrc=s&source=web&cd=&ved=2ahUKEwjZ_dL2sJXrAhULJBoKHV0VB8gQFjADegQIBBAB&url=https%3A%2F%2Fwww.mdpi.com%2F2504-3900%2F18%2F1%2F11%2Fpdf&usg=AOvVaw3bGHqYDu96DRH_MpW96Z7q\n",
    "#radar processing sentinel1//file:///tmp/mozilla_sth02bh0/proceedings-18-00011.pdf\n",
    "#https://drive.google.com/file/d/1Vie8hyB38wdBJpH5Lkv7thgLiUwbi1w4/view?usp=sharing\n",
    "#https://gdal.org/programs/gdal_polygonize.html\n",
    "#<img src=\"images/reflectance.jpg\" width=\"800\" /> \n",
    "#Source:https://seos-project.eu/remotesensing/remotesensing-c01-p06.html\n",
    "#https://gdal.org/programs/gdal_polygonize.html"
   ]
  },
  {
   "cell_type": "markdown",
   "metadata": {
    "slideshow": {
     "slide_type": "slide"
    }
   },
   "source": [
    "## The mighty three\n",
    "\n",
    "- NumPy: \"[NumPy](http://www.numpy.org) is the fundamental package for scientific computing with Python*\"\n",
    "\n",
    "- Pandas: \"[pandas](https://pandas.pydata.org) is an open source, BSD-licensed library providing high-performance, easy-to-use data structures and data analysis tools for the Python programming language*\"\n",
    "\n",
    "- Matplotlib: \"[Matplotlib](https://matplotlib.org) is a Python 2D plotting library which produces publication quality figures in a variety of hardcopy formats and interactive environments across platforms*\"\n",
    "\n",
    "<img src=\"images/mighty3.png\" />"
   ]
  },
  {
   "cell_type": "markdown",
   "metadata": {
    "slideshow": {
     "slide_type": "slide"
    }
   },
   "source": [
    "## Installation\n",
    "\n",
    "You can always check here: https://anaconda.org/\n",
    "\n",
    "conda install numpy\n",
    "\n",
    "conda install pandas\n",
    "\n",
    "conda install matplotlib\n",
    "\n",
    "OR\n",
    "\n",
    "pip install numpy\n",
    "\n",
    "pip install pandas\n",
    "\n",
    "pip install matplotlib\n",
    "\n"
   ]
  },
  {
   "cell_type": "markdown",
   "metadata": {
    "slideshow": {
     "slide_type": "slide"
    }
   },
   "source": [
    "##### Data types \n",
    "\n",
    "<img src=\"images/types.png\"  />"
   ]
  },
  {
   "cell_type": "markdown",
   "metadata": {
    "slideshow": {
     "slide_type": "slide"
    }
   },
   "source": [
    "## Fast, faster, NumPy\n",
    "\n",
    "<img src=\"images/numpy.png\"  width=200 align=right />\n",
    "\n",
    "Numpy allows us to run mathematical operations over calculations in a efficiant manner. \n",
    "Numpy provides several advantages for python user:\n",
    "\n",
    "- powerful n-dimensional arrays\n",
    "- advanced functions\n",
    "- can integrate C/C++ and Fortran code\n",
    "- efficient linear  algebra, random number generation and Fourier transformation \n",
    "\n"
   ]
  },
  {
   "cell_type": "markdown",
   "metadata": {
    "slideshow": {
     "slide_type": "slide"
    }
   },
   "source": [
    "## Numpy arrays\n",
    "\n",
    "The core class is the numpy ndarray (n-dimensional array). We can initialize a numpy array from nested Python lists."
   ]
  },
  {
   "cell_type": "code",
   "execution_count": 4,
   "metadata": {
    "slideshow": {
     "slide_type": "fragment"
    }
   },
   "outputs": [],
   "source": [
    "# create numpy array\n",
    "import numpy as np\n",
    "\n",
    "# 1d array\n",
    "a = np.array([1, 2, 3, 4 , 5, 6])\n",
    "\n",
    "# 2d array\n",
    "b = np.array([[1, 2, 3,4 , 5, 6],[1, 2, 3,4 , 5, 6]])\n",
    "\n",
    "# 3d array\n",
    "c = np.array([[[1,2,3,4], [5,6,7,8], [9,10,11,12],[13,14,15,16]],[[1,2,3,4], [5,6,7,8], [9,10,11,12],[13,14,15,16]]])"
   ]
  },
  {
   "cell_type": "code",
   "execution_count": 6,
   "metadata": {
    "slideshow": {
     "slide_type": "fragment"
    }
   },
   "outputs": [
    {
     "name": "stdout",
     "output_type": "stream",
     "text": [
      "[[[ 0  1]\n",
      "  [ 2  3]\n",
      "  [ 4  5]]\n",
      "\n",
      " [[ 6  7]\n",
      "  [ 8  9]\n",
      "  [10 11]]\n",
      "\n",
      " [[12 13]\n",
      "  [14 15]\n",
      "  [16 17]]]\n",
      "int64\n"
     ]
    },
    {
     "data": {
      "text/plain": [
       "(3, 3, 2)"
      ]
     },
     "execution_count": 6,
     "metadata": {},
     "output_type": "execute_result"
    }
   ],
   "source": [
    "# create an array from a list\n",
    "a = np.arange(18).reshape(3, 3, 2)\n",
    "print(a)\n",
    "# find out the datatype\n",
    "print(a.dtype)\n",
    "# find out the shape\n",
    "a.shape"
   ]
  },
  {
   "cell_type": "markdown",
   "metadata": {
    "slideshow": {
     "slide_type": "slide"
    }
   },
   "source": [
    "<img src=\"images/array.png\" width=200 />"
   ]
  },
  {
   "cell_type": "markdown",
   "metadata": {
    "slideshow": {
     "slide_type": "slide"
    }
   },
   "source": [
    "### Vectorization\n",
    "\n",
    "When looping over a list or an array, there’s a lot of overhead involved. Vectorized operations in NumPy delegate the looping internally to highly optimized C and Fortran functions.\n"
   ]
  },
  {
   "cell_type": "code",
   "execution_count": 7,
   "metadata": {
    "slideshow": {
     "slide_type": "fragment"
    }
   },
   "outputs": [
    {
     "name": "stdout",
     "output_type": "stream",
     "text": [
      "6.61 ms ± 213 µs per loop (mean ± std. dev. of 7 runs, 100 loops each)\n",
      "73.7 µs ± 805 ns per loop (mean ± std. dev. of 7 runs, 10000 loops each)\n"
     ]
    }
   ],
   "source": [
    "# traditional python\n",
    "\n",
    "a = list(range(100000))\n",
    "%timeit [i + 2 for i in a]\n",
    "\n",
    "# Now with numpy\n",
    "\n",
    "import numpy as np\n",
    "\n",
    "a = np.array(a)        # push the data into a numpy array\n",
    "%timeit a + 2\n"
   ]
  },
  {
   "cell_type": "markdown",
   "metadata": {
    "slideshow": {
     "slide_type": "slide"
    }
   },
   "source": [
    "Let's create an array consisting of True and False. Assume we want to count how many times we have a transition from True to False or the other way round. First we will use a classic Python loop"
   ]
  },
  {
   "cell_type": "code",
   "execution_count": 8,
   "metadata": {
    "slideshow": {
     "slide_type": "fragment"
    }
   },
   "outputs": [
    {
     "data": {
      "text/plain": [
       "array([False,  True, False, ...,  True, False, False])"
      ]
     },
     "execution_count": 8,
     "metadata": {},
     "output_type": "execute_result"
    }
   ],
   "source": [
    "np.random.seed(123)\n",
    "x = np.random.choice([False, True], size=100000)\n",
    "x"
   ]
  },
  {
   "cell_type": "code",
   "execution_count": 9,
   "metadata": {
    "slideshow": {
     "slide_type": "fragment"
    }
   },
   "outputs": [
    {
     "data": {
      "text/plain": [
       "25096"
      ]
     },
     "execution_count": 9,
     "metadata": {},
     "output_type": "execute_result"
    }
   ],
   "source": [
    "def transitions(x):\n",
    "    count = 0\n",
    "    for i, j in zip(x[:-1], x[1:]):\n",
    "        if j and not i:\n",
    "            count += 1\n",
    "    return count\n",
    "\n",
    "transitions(x)\n",
    "#%timeit transitions(x)"
   ]
  },
  {
   "cell_type": "code",
   "execution_count": 10,
   "metadata": {
    "slideshow": {
     "slide_type": "slide"
    }
   },
   "outputs": [
    {
     "data": {
      "text/plain": [
       "25096"
      ]
     },
     "execution_count": 10,
     "metadata": {},
     "output_type": "execute_result"
    }
   ],
   "source": [
    "np.count_nonzero(x[:-1] < x[1:])\n",
    "#%timeit np.count_nonzero(x[:-1] < x[1:])"
   ]
  },
  {
   "cell_type": "code",
   "execution_count": 11,
   "metadata": {
    "slideshow": {
     "slide_type": "fragment"
    }
   },
   "outputs": [],
   "source": [
    "# create numpy array\n",
    "import numpy as np\n",
    "\n",
    "# 1d array\n",
    "a = np.array([1, 2, 3, 4 , 5, 6])\n",
    "\n",
    "# 2d array\n",
    "b = np.array([[1, 2, 3,4 , 5, 6],[1, 2, 3,4 , 5, 6]])\n",
    "\n",
    "# 3d array\n",
    "c = np.array([[[1,2,3,4], [5,6,7,8], [9,10,11,12],[13,14,15,16]],[[1,2,3,4], [5,6,7,8], [9,10,11,12],[13,14,15,16]]])"
   ]
  },
  {
   "cell_type": "markdown",
   "metadata": {
    "slideshow": {
     "slide_type": "slide"
    }
   },
   "source": [
    "## Numpy functions to create arrays"
   ]
  },
  {
   "cell_type": "code",
   "execution_count": 12,
   "metadata": {
    "slideshow": {
     "slide_type": "fragment"
    }
   },
   "outputs": [
    {
     "name": "stdout",
     "output_type": "stream",
     "text": [
      "[[0. 0.]\n",
      " [0. 0.]]\n",
      "[[1. 1.]]\n",
      "[[7 7]\n",
      " [7 7]]\n",
      "[[1. 0.]\n",
      " [0. 1.]]\n",
      "[[0.36086546 0.22535678]\n",
      " [0.50813044 0.60568391]]\n",
      "[ 1.  8. 15.]\n",
      "[3 4 5 6 7 8 9]\n"
     ]
    }
   ],
   "source": [
    "import numpy as np\n",
    "\n",
    "a = np.zeros((2,2))   # Create an array of all zeros\n",
    "print(a)                      # Prints \"[[ 0.  0.]\n",
    "                      #          [ 0.  0.]]\"\n",
    "\n",
    "b = np.ones((1,2))    # Create an array of all ones\n",
    "print(b)                     # Prints \"[[ 1.  1.]]\"\n",
    "\n",
    "c = np.full((2,2), 7)  # Create a constant array\n",
    "print(c)                      # Prints \"[[ 7.  7.]\n",
    "                       #          [ 7.  7.]]\"\n",
    "\n",
    "d = np.eye(2)         # Create a 2x2 identity matrix\n",
    "print(d)                     # Prints \"[[ 1.  0.]\n",
    "                      #          [ 0.  1.]]\"\n",
    "\n",
    "e = np.random.random((2,2))  # Create an array filled with random values\n",
    "print(e)                            # Might print \"[[ 0.91940167  0.08143941]\n",
    "                             #               [ 0.68744134  0.87236687]]\"\n",
    "    \n",
    "f = np.linspace(1, 15, 3)   # The linspace() function returns numbers evenly spaced over a specified intervals.\n",
    "print(f)                           # Say we want 3 evenly spaced points from 1 to 15, we can easily use this.\n",
    "                            # linspace() takes the third argument as the number of datapoints to be created\n",
    "    \n",
    "g= np.arange(3,10)           # Lists the natural numbers from 3 to 9, as the number in the second position is excluded\n",
    "print(g)"
   ]
  },
  {
   "cell_type": "markdown",
   "metadata": {
    "slideshow": {
     "slide_type": "slide"
    }
   },
   "source": [
    "Numpy provides a large set of numeric datatypes that you can use to construct arrays."
   ]
  },
  {
   "cell_type": "code",
   "execution_count": 16,
   "metadata": {
    "slideshow": {
     "slide_type": "fragment"
    }
   },
   "outputs": [
    {
     "name": "stdout",
     "output_type": "stream",
     "text": [
      "int64\n",
      "float64\n"
     ]
    },
    {
     "data": {
      "text/plain": [
       "dtype('int8')"
      ]
     },
     "execution_count": 16,
     "metadata": {},
     "output_type": "execute_result"
    }
   ],
   "source": [
    "import numpy as np\n",
    "\n",
    "x = np.array([1, 2])   # Let numpy choose the datatype\n",
    "print(x.dtype)                \n",
    "\n",
    "x = np.array([1.0, 2.0])   # Let numpy choose the datatype\n",
    "print(x.dtype) \n",
    "\n",
    "x = np.array([1, 2], dtype=\"int8\")  # Select the datatype you want\n",
    "x.dtype "
   ]
  },
  {
   "cell_type": "markdown",
   "metadata": {
    "slideshow": {
     "slide_type": "slide"
    }
   },
   "source": [
    "## Access and change array element"
   ]
  },
  {
   "cell_type": "markdown",
   "metadata": {
    "slideshow": {
     "slide_type": "fragment"
    }
   },
   "source": [
    "##### Array axis\n",
    "\n",
    "<img src=\"images/axis.png\"  />"
   ]
  },
  {
   "cell_type": "code",
   "execution_count": 17,
   "metadata": {
    "slideshow": {
     "slide_type": "slide"
    }
   },
   "outputs": [
    {
     "name": "stdout",
     "output_type": "stream",
     "text": [
      "[1 2 3 4 5 6]\n",
      "[  2 100  -4   4   5   6]\n"
     ]
    }
   ],
   "source": [
    "a = np.array([1, 2, 3, 4 , 5, 6])\n",
    "print(a)\n",
    "\n",
    "# access and change array elements\n",
    "a[0] = 2\n",
    "a[1] = 100\n",
    "a[2] = -4\n",
    "\n",
    "a[0]\n",
    "a[1]\n",
    "a[2]\n",
    "print(a)"
   ]
  },
  {
   "cell_type": "code",
   "execution_count": 2,
   "metadata": {
    "slideshow": {
     "slide_type": "slide"
    }
   },
   "outputs": [
    {
     "name": "stdout",
     "output_type": "stream",
     "text": [
      "[[ 1  2  3  4]\n",
      " [ 5  6  7  8]\n",
      " [ 9 10 11 12]\n",
      " [13 14 15 16]]\n",
      "2\n",
      "12\n",
      "[[[ 1  2  3  4]\n",
      "  [ 5  6  7  8]\n",
      "  [ 9 10 11 12]\n",
      "  [13 14 15 16]]\n",
      "\n",
      " [[17 18 19 20]\n",
      "  [21 22 23 24]\n",
      "  [25 26 27 28]\n",
      "  [30 31 32 33]]]\n",
      "6\n",
      "30\n"
     ]
    }
   ],
   "source": [
    "# indexing 2d arrays\n",
    "import numpy as np\n",
    "\n",
    "a = np.array([[1,2,3,4], [5,6,7,8], [9,10,11,12],[13,14,15,16]])\n",
    "print(a)\n",
    "\n",
    "print(a[0, 1]) \n",
    "print(a[2, 3])\n",
    "\n",
    "\n",
    "# indexing 3d arrays\n",
    "b = np.array([[[1,2,3,4], [5,6,7,8], [9,10,11,12],[13,14,15,16]],[[17,18,19,20], [21,22,23,24], [25,26,27,28],[30,31,32,33]]])\n",
    "print(b)\n",
    "print(b[0, 1, 1])\n",
    "print(b[1, 3, 0])\n"
   ]
  },
  {
   "cell_type": "markdown",
   "metadata": {
    "slideshow": {
     "slide_type": "slide"
    }
   },
   "source": [
    "**Integer array indexing**: When slicing, the resulting array will always be a subarray of the original array. In contrast, integer array indexing allows you to construct arbitrary arrays. "
   ]
  },
  {
   "cell_type": "code",
   "execution_count": 3,
   "metadata": {
    "slideshow": {
     "slide_type": "fragment"
    }
   },
   "outputs": [
    {
     "name": "stdout",
     "output_type": "stream",
     "text": [
      "[[1 2]\n",
      " [3 4]\n",
      " [5 6]]\n"
     ]
    },
    {
     "data": {
      "text/plain": [
       "array([1, 4, 5])"
      ]
     },
     "execution_count": 3,
     "metadata": {},
     "output_type": "execute_result"
    }
   ],
   "source": [
    "import numpy as np\n",
    "\n",
    "a = np.array([[1,2], [3, 4], [5, 6]])  \n",
    "print(a)\n",
    "# An example of integer array indexing.\n",
    "\n",
    "a[[0, 1, 2], [0, 1, 0]]  "
   ]
  },
  {
   "cell_type": "markdown",
   "metadata": {
    "slideshow": {
     "slide_type": "slide"
    }
   },
   "source": [
    "\n",
    "\n",
    "**Slicing:** Similar to Python lists, numpy arrays can be sliced. Since arrays may be multidimensional, you must specify a slice for each dimension of the array\n"
   ]
  },
  {
   "cell_type": "code",
   "execution_count": 4,
   "metadata": {
    "slideshow": {
     "slide_type": "slide"
    }
   },
   "outputs": [
    {
     "name": "stdout",
     "output_type": "stream",
     "text": [
      "[[1 2]\n",
      " [3 4]\n",
      " [5 6]]\n",
      "[[2]\n",
      " [4]\n",
      " [6]]\n"
     ]
    },
    {
     "ename": "NameError",
     "evalue": "name 'b' is not defined",
     "output_type": "error",
     "traceback": [
      "\u001b[0;31m---------------------------------------------------------------------------\u001b[0m",
      "\u001b[0;31mNameError\u001b[0m                                 Traceback (most recent call last)",
      "\u001b[0;32m<ipython-input-4-6cde7ad5cac4>\u001b[0m in \u001b[0;36m<module>\u001b[0;34m\u001b[0m\n\u001b[1;32m      4\u001b[0m \u001b[0mprint\u001b[0m\u001b[0;34m(\u001b[0m\u001b[0maa\u001b[0m\u001b[0;34m)\u001b[0m\u001b[0;34m\u001b[0m\u001b[0;34m\u001b[0m\u001b[0m\n\u001b[1;32m      5\u001b[0m \u001b[0;34m\u001b[0m\u001b[0m\n\u001b[0;32m----> 6\u001b[0;31m \u001b[0mprint\u001b[0m\u001b[0;34m(\u001b[0m\u001b[0mb\u001b[0m\u001b[0;34m)\u001b[0m\u001b[0;34m\u001b[0m\u001b[0;34m\u001b[0m\u001b[0m\n\u001b[0m\u001b[1;32m      7\u001b[0m \u001b[0mbb\u001b[0m \u001b[0;34m=\u001b[0m \u001b[0mb\u001b[0m\u001b[0;34m[\u001b[0m\u001b[0;34m:\u001b[0m\u001b[0;36m3\u001b[0m\u001b[0;34m,\u001b[0m \u001b[0;36m1\u001b[0m\u001b[0;34m:\u001b[0m\u001b[0;36m3\u001b[0m\u001b[0;34m,\u001b[0m \u001b[0;36m1\u001b[0m\u001b[0;34m:\u001b[0m\u001b[0;34m]\u001b[0m\u001b[0;34m\u001b[0m\u001b[0;34m\u001b[0m\u001b[0m\n\u001b[1;32m      8\u001b[0m \u001b[0mbb\u001b[0m\u001b[0;34m\u001b[0m\u001b[0;34m\u001b[0m\u001b[0m\n",
      "\u001b[0;31mNameError\u001b[0m: name 'b' is not defined"
     ]
    }
   ],
   "source": [
    "#slicing\n",
    "print(a)\n",
    "aa = a[:3, 1:3]\n",
    "print(aa)\n",
    "\n",
    "print(b) \n",
    "bb = b[:3, 1:3, 1:]\n",
    "bb"
   ]
  },
  {
   "cell_type": "code",
   "execution_count": 5,
   "metadata": {
    "slideshow": {
     "slide_type": "slide"
    }
   },
   "outputs": [
    {
     "name": "stdout",
     "output_type": "stream",
     "text": [
      "[[1 2]\n",
      " [3 4]\n",
      " [5 6]]\n"
     ]
    },
    {
     "data": {
      "text/plain": [
       "10"
      ]
     },
     "execution_count": 5,
     "metadata": {},
     "output_type": "execute_result"
    }
   ],
   "source": [
    "print(a)\n",
    "a[0, 1]  \n",
    "aa[0, 0] = 10    #!! Careful changing the slice changes also original data\n",
    "a[0, 1]"
   ]
  },
  {
   "cell_type": "code",
   "execution_count": 6,
   "metadata": {
    "slideshow": {
     "slide_type": "slide"
    }
   },
   "outputs": [
    {
     "name": "stdout",
     "output_type": "stream",
     "text": [
      "[5 6 7 8]\n",
      "[[ 5  6  7  8]\n",
      " [ 9 10 11 12]]\n"
     ]
    },
    {
     "data": {
      "text/plain": [
       "array([[ 5,  6,  7,  8],\n",
       "       [ 9, 10, 11, 12]])"
      ]
     },
     "execution_count": 6,
     "metadata": {},
     "output_type": "execute_result"
    }
   ],
   "source": [
    "a = np.array([[1,2,3,4], [5,6,7,8], [9,10,11,12],[13,14,15,16]])\n",
    "\n",
    "# Accessing rows\n",
    "print(a[1, :])\n",
    "print(a[1:3, :])\n",
    "a[[1,2], :]\n"
   ]
  },
  {
   "cell_type": "code",
   "execution_count": 13,
   "metadata": {
    "slideshow": {
     "slide_type": "slide"
    }
   },
   "outputs": [
    {
     "name": "stdout",
     "output_type": "stream",
     "text": [
      "[ 2  6 10 14]\n",
      "[[ 2  3]\n",
      " [ 6  7]\n",
      " [10 11]\n",
      " [14 15]]\n"
     ]
    },
    {
     "data": {
      "text/plain": [
       "array([[ 2],\n",
       "       [ 6],\n",
       "       [10],\n",
       "       [14]])"
      ]
     },
     "execution_count": 13,
     "metadata": {},
     "output_type": "execute_result"
    }
   ],
   "source": [
    "# Accessing columns\n",
    "print(a[:, 1])\n",
    "print(a[:, 1:3])\n",
    "a[:, [1]]"
   ]
  },
  {
   "cell_type": "code",
   "execution_count": 7,
   "metadata": {
    "slideshow": {
     "slide_type": "slide"
    }
   },
   "outputs": [
    {
     "name": "stdout",
     "output_type": "stream",
     "text": [
      "[ 0  1  4  9 16 25 36 49 64 81]\n",
      "[ 1  1  9 64 25]\n"
     ]
    },
    {
     "data": {
      "text/plain": [
       "array([[ 9, 16],\n",
       "       [81, 49]])"
      ]
     },
     "execution_count": 7,
     "metadata": {},
     "output_type": "execute_result"
    }
   ],
   "source": [
    "# indexing with arrays of indices\n",
    "x = np.arange(10)**2                       # creates array with first 10 squares numbers\n",
    "print(x)\n",
    "\n",
    "ind1 = np.array( [ 1,1,3,8,5 ] )           # create array of indices\n",
    "print(x[ind1])                         \n",
    "\n",
    "ind2 = np.array( [ [ 3, 4], [ 9, 7 ] ] )    # create bidimensional array of indices\n",
    "x[ind2]                                  "
   ]
  },
  {
   "cell_type": "markdown",
   "metadata": {
    "slideshow": {
     "slide_type": "slide"
    }
   },
   "source": [
    "**Boolean array indexing:** Boolean array indexing lets you pick out arbitrary elements of an array. You can also create for example boolean mask arrays"
   ]
  },
  {
   "cell_type": "code",
   "execution_count": 8,
   "metadata": {
    "slideshow": {
     "slide_type": "fragment"
    }
   },
   "outputs": [
    {
     "name": "stdout",
     "output_type": "stream",
     "text": [
      "[False False  True  True  True]\n",
      "[[0.70007209 0.69076262 0.179221   0.81085232 0.8842527  0.20224591\n",
      "  0.72826393 0.20089126 0.28691436 0.94352134 0.33373921 0.09289539]\n",
      " [0.62119028 0.88732467 0.79709056 0.98143515 0.02992656 0.73523305\n",
      "  0.76395045 0.60704814 0.83597265 0.64551206 0.73820148 0.25100039]\n",
      " [0.19236384 0.99699675 0.2367263  0.77543314 0.78185755 0.61801954\n",
      "  0.33096821 0.76343582 0.83062391 0.25664773 0.17264261 0.27500879]\n",
      " [0.879963   0.03424989 0.8743007  0.79462705 0.3392394  0.49042242\n",
      "  0.99129787 0.4654695  0.75005417 0.32513604 0.27125888 0.29025494]\n",
      " [0.32495367 0.66376438 0.06895275 0.39493094 0.98889611 0.82667999\n",
      "  0.98411342 0.15739126 0.47968262 0.78085749 0.65251108 0.71862532]\n",
      " [0.16586702 0.35692201 0.49771117 0.96031668 0.47272008 0.29956056\n",
      "  0.33838392 0.3812713  0.10940008 0.89633065 0.95324392 0.54291328]\n",
      " [0.04274919 0.5257726  0.00103512 0.43591657 0.78283897 0.66161267\n",
      "  0.48660086 0.88905449 0.26399022 0.37155761 0.32272218 0.96919995]\n",
      " [0.71659147 0.63782542 0.16849487 0.61683136 0.21250542 0.05074587\n",
      "  0.07125622 0.50041921 0.73841199 0.47761142 0.82564193 0.64913177]]\n",
      "[ True  True False False  True False  True  True]\n"
     ]
    },
    {
     "data": {
      "text/plain": [
       "array([0.69076262, 0.88732467, 0.66376438, 0.5257726 , 0.63782542])"
      ]
     },
     "execution_count": 8,
     "metadata": {},
     "output_type": "execute_result"
    }
   ],
   "source": [
    "#Boolean array\n",
    "a=np.array( [ 1,1,3,8,5 ] )   \n",
    "boolarray = (a > 2) \n",
    "print(boolarray)\n",
    "\n",
    "e = np.random.random((8,12))\n",
    "print(e)\n",
    "mask=np.array([1,1,0,0,1,0,1,1], dtype=bool) \n",
    "print(mask)\n",
    "e[mask,1]"
   ]
  },
  {
   "cell_type": "markdown",
   "metadata": {
    "slideshow": {
     "slide_type": "slide"
    }
   },
   "source": [
    "<img src=\"images/select.png\"  />"
   ]
  },
  {
   "cell_type": "markdown",
   "metadata": {
    "slideshow": {
     "slide_type": "slide"
    }
   },
   "source": [
    "## Array math\n",
    "\n",
    "Basic mathematical functions operate **elementwise** on arrays. "
   ]
  },
  {
   "cell_type": "code",
   "execution_count": null,
   "metadata": {
    "slideshow": {
     "slide_type": "fragment"
    }
   },
   "outputs": [],
   "source": [
    "arr = np.arange(1,21)          # Numbers from 1 to 20\n",
    "arr\n",
    "arr * arr             # Multiplies each element by itself \n",
    "arr - arr             # Subtracts each element from itself\n",
    "arr + arr             # Adds each element to itself\n",
    "arr / arr             # Divides each element by itself"
   ]
  },
  {
   "cell_type": "markdown",
   "metadata": {
    "slideshow": {
     "slide_type": "slide"
    }
   },
   "source": [
    "Of course they are also available as functions  numpy"
   ]
  },
  {
   "cell_type": "code",
   "execution_count": null,
   "metadata": {
    "slideshow": {
     "slide_type": "fragment"
    }
   },
   "outputs": [],
   "source": [
    "x = np.array([[1,2,3,4],[5,6,7,8]])\n",
    "y = np.array([[7,8,9,10],[11,12,13,14]])\n",
    "\n",
    "# Elementwise sum\n",
    "np.add(x, y)\n",
    "\n",
    "# Elementwise difference\n",
    "np.subtract(x, y)\n",
    "\n",
    "# Elementwise product\n",
    "np.multiply(x, y)\n",
    "\n",
    "# Elementwise division\n",
    "np.divide(x, y)\n",
    "\n",
    "# Elementwise square root\n",
    "np.sqrt(x)"
   ]
  },
  {
   "cell_type": "markdown",
   "metadata": {
    "slideshow": {
     "slide_type": "slide"
    }
   },
   "source": [
    "All array objects have some \"statistical\" methods (e.g. mean,min,max,std)."
   ]
  },
  {
   "cell_type": "code",
   "execution_count": null,
   "metadata": {
    "slideshow": {
     "slide_type": "fragment"
    }
   },
   "outputs": [],
   "source": [
    "x.mean()\n",
    "x.min()\n",
    "x.max()\n",
    "x.std()\n",
    "x.max(axis=0)      #Maximum value of an array row\n",
    "x.cumsum(axis=1)   #Cumulative sum of the elements"
   ]
  },
  {
   "cell_type": "markdown",
   "metadata": {
    "slideshow": {
     "slide_type": "slide"
    }
   },
   "source": [
    "You can also easily calculate the square root of your arrays with np.exp() and np.sqrt(), or calculate the sines or cosines of your array with np.sin() and np.cos(). "
   ]
  },
  {
   "cell_type": "code",
   "execution_count": null,
   "metadata": {
    "slideshow": {
     "slide_type": "fragment"
    }
   },
   "outputs": [],
   "source": [
    "np.exp(x)\n",
    "np.sqrt(x)\n",
    "np.cos(x)\n",
    "np.sin(x)"
   ]
  },
  {
   "cell_type": "markdown",
   "metadata": {
    "slideshow": {
     "slide_type": "slide"
    }
   },
   "source": [
    "Numpy also provides functions to deal with NaN values"
   ]
  },
  {
   "cell_type": "code",
   "execution_count": null,
   "metadata": {
    "slideshow": {
     "slide_type": "fragment"
    }
   },
   "outputs": [],
   "source": [
    "# with nan values\n",
    "a = np.array([[1, 2], [3, np.nan]])\n",
    "a.min()\n",
    "np.nanmin(a)"
   ]
  },
  {
   "cell_type": "code",
   "execution_count": null,
   "metadata": {
    "slideshow": {
     "slide_type": "slide"
    }
   },
   "outputs": [],
   "source": [
    "# using dot function for inner product of vector,\n",
    "# multiply a vector by a matrix and multiply matrices\n",
    "\n",
    "# create vector\n",
    "m = np.array([4,8,54])\n",
    "n = np.array([55, 15,5])\n",
    "\n",
    "m\n",
    "n\n",
    "\n",
    "# vector product\n",
    "m.dot(n)\n",
    "np.dot(m, n)\n"
   ]
  },
  {
   "cell_type": "code",
   "execution_count": null,
   "metadata": {
    "slideshow": {
     "slide_type": "slide"
    }
   },
   "outputs": [],
   "source": [
    "# Arithmetic operations will be done elementwise\n",
    "\n",
    "Temp_in_C=np.array([25.,22.,17.,19.,30.])\n",
    "\n",
    "Temp_in_F = 1.8*Temp_in_C+32\n",
    "\n",
    "Temp_in_F"
   ]
  },
  {
   "cell_type": "markdown",
   "metadata": {},
   "source": [
    "### Array manipulation\n",
    "\n",
    "It is often easier to understand how several numpy functions work by visualizing the results. Therefor we will use\n",
    "the seaborn library"
   ]
  },
  {
   "cell_type": "code",
   "execution_count": null,
   "metadata": {},
   "outputs": [],
   "source": [
    "import seaborn as sns\n",
    "\n",
    "a = np.array([[1,2,3,4],[5,6,7,8],[9,10,12,13]])\n",
    "sns.heatmap(a)"
   ]
  },
  {
   "cell_type": "code",
   "execution_count": null,
   "metadata": {},
   "outputs": [],
   "source": [
    "# Transpose\n",
    "#ns.heatmap(a.T)\n",
    "\n",
    "# Tiling\n",
    "#sns.heatmap(np.tile(a,(2,2)))\n",
    "\n",
    "# Reshaping\n",
    "#sns.heatmap(np.reshape(a, (4,3)))\n",
    "\n",
    "# Concatenate\n",
    "#sns.heatmap(np.concatenate((a,a),axis=1) )\n",
    "\n",
    "# Stack arrays vertically (row-wise) \n",
    "#sns.heatmap(np.vstack((a,a)))   \n",
    "\n",
    "# Stack arrays horizontal\n",
    "#fstack = np.hstack((a,a))                    "
   ]
  },
  {
   "cell_type": "markdown",
   "metadata": {
    "slideshow": {
     "slide_type": "slide"
    }
   },
   "source": [
    "### Broadcasting \n",
    "Broadcasting is a powerful mechanism that allows numpy to work with arrays of different shapes when performing arithmetic operations.You’ve already seen that operations between two NumPy arrays (of equal size) operate element-wise"
   ]
  },
  {
   "cell_type": "code",
   "execution_count": null,
   "metadata": {
    "slideshow": {
     "slide_type": "fragment"
    }
   },
   "outputs": [],
   "source": [
    "a = np.array([1.5, 2.5, 3.5])\n",
    "b = np.array([10., 5., 1.])\n",
    "a / b"
   ]
  },
  {
   "cell_type": "markdown",
   "metadata": {
    "slideshow": {
     "slide_type": "slide"
    }
   },
   "source": [
    "But, what about unequally sized arrays? This is where broadcasting comes in:"
   ]
  },
  {
   "cell_type": "markdown",
   "metadata": {
    "slideshow": {
     "slide_type": "fragment"
    }
   },
   "source": [
    "<img src=\"images/numpy_broadcasting.png\"  />\n",
    "\n",
    "http://scipy-lectures.org/_images/numpy_broadcasting.png"
   ]
  },
  {
   "cell_type": "code",
   "execution_count": null,
   "metadata": {
    "slideshow": {
     "slide_type": "slide"
    }
   },
   "outputs": [],
   "source": [
    "# classic Python\n",
    "import numpy as np\n",
    "\n",
    "x = np.array([[1,2,3,4,5,6,4,3,4,5,6,6,5,4,3,6], [4,5,6,7,6,5,4,3,4,5,6,6,5,4,3,6], [7,8,9,5,6,7,5,3,4,5,6,6,5,4,3,6], [10, 11, 12,2,3,4,5,3,4,5,6,6,5,4,3,6]])\n",
    "v = np.array([1, 0, 1,0,1,1,0,0,0,1,2,2,1,0,0,1])\n",
    "y = np.empty_like(x) \n",
    "\n",
    "\n",
    "for i in range(4): y[i, :] = x[i, :] + v\n",
    "\n",
    "print(y)"
   ]
  },
  {
   "cell_type": "code",
   "execution_count": null,
   "metadata": {
    "slideshow": {
     "slide_type": "fragment"
    }
   },
   "outputs": [],
   "source": [
    "# Numpy\n",
    "import numpy as np\n",
    "\n",
    "x = np.array([[1,2,3,4,5,6,4,3,4,5,6,6,5,4,3,6], [4,5,6,7,6,5,4,3,4,5,6,6,5,4,3,6], [7,8,9,5,6,7,5,3,4,5,6,6,5,4,3,6], [10, 11, 12,2,3,4,5,3,4,5,6,6,5,4,3,6]])\n",
    "v = np.array([1, 0, 1,0,1,1,0,0,0,1,2,2,1,0,0,1])\n",
    "y = x + v  # Add v to each row of x using broadcasting\n",
    "print(y)  "
   ]
  },
  {
   "cell_type": "code",
   "execution_count": null,
   "metadata": {
    "slideshow": {
     "slide_type": "slide"
    }
   },
   "outputs": [],
   "source": [
    "%timeit for i in range(4): y[i, :] = x[i, :] + v\n",
    "%timeit y = x + v "
   ]
  },
  {
   "cell_type": "markdown",
   "metadata": {
    "slideshow": {
     "slide_type": "slide"
    }
   },
   "source": [
    "### Array programming in action: Clustering\n",
    "\n",
    "\n"
   ]
  },
  {
   "cell_type": "markdown",
   "metadata": {
    "slideshow": {
     "slide_type": "fragment"
    }
   },
   "source": [
    "Let’s say that you have a 2d array X and a 2d array of multiple (x, y) “proposed” centroids. Algorithms such as K-Means clustering work by randomly assigning initial “proposed” centroids, then reassigning each data point to its closest centroid. From there, new centroids are computed, with the algorithm converging on a solution once the re-generated labels (an encoding of the centroids) are unchanged between iterations. A part of this iterative process requires computing the Euclidean distance of each point from each centroid:"
   ]
  },
  {
   "cell_type": "code",
   "execution_count": null,
   "metadata": {
    "slideshow": {
     "slide_type": "fragment"
    }
   },
   "outputs": [],
   "source": [
    "from sklearn.datasets import make_blobs\n",
    "import seaborn as sns\n",
    "import matplotlib.pyplot as plt\n",
    "import numpy as np\n",
    "\n",
    "X = make_blobs(n_samples=200, n_features=2, centers=4, cluster_std=1.6)\n",
    "X=X[0]\n",
    "X"
   ]
  },
  {
   "cell_type": "code",
   "execution_count": null,
   "metadata": {
    "slideshow": {
     "slide_type": "slide"
    }
   },
   "outputs": [],
   "source": [
    "sns.scatterplot(X[:,0],X[:,1])"
   ]
  },
  {
   "cell_type": "markdown",
   "metadata": {
    "slideshow": {
     "slide_type": "slide"
    }
   },
   "source": [
    "First write a function that initializes k centroids by randomly selecting them from the data points"
   ]
  },
  {
   "cell_type": "code",
   "execution_count": null,
   "metadata": {
    "slideshow": {
     "slide_type": "fragment"
    }
   },
   "outputs": [],
   "source": [
    "def initialize_centroids(points, k):\n",
    "    centroids = points.copy()\n",
    "    np.random.shuffle(centroids)\n",
    "    return centroids[:k]"
   ]
  },
  {
   "cell_type": "code",
   "execution_count": null,
   "metadata": {
    "slideshow": {
     "slide_type": "fragment"
    }
   },
   "outputs": [],
   "source": [
    "centroids = initialize_centroids(X, 4)\n",
    "centroids \n"
   ]
  },
  {
   "cell_type": "code",
   "execution_count": null,
   "metadata": {
    "slideshow": {
     "slide_type": "slide"
    }
   },
   "outputs": [],
   "source": [
    "import matplotlib.pyplot as plt\n",
    " \n",
    "grid = sns.JointGrid(X[:,0],X[:,1], space=0, size=6, ratio=50)\n",
    "grid.plot_joint(plt.scatter, color=\"g\")\n",
    "plt.scatter(centroids[:,0], centroids[:,1], color='r')"
   ]
  },
  {
   "cell_type": "markdown",
   "metadata": {
    "slideshow": {
     "slide_type": "slide"
    }
   },
   "source": [
    "Now let's define a function that returns the closest centroid for each point."
   ]
  },
  {
   "cell_type": "code",
   "execution_count": null,
   "metadata": {
    "slideshow": {
     "slide_type": "fragment"
    }
   },
   "outputs": [],
   "source": [
    "def closest_centroid(X, centroids):\n",
    "    distances = np.sqrt(((X - centroids[:, np.newaxis])**2).sum(axis=2))\n",
    "    return np.argmin(distances, axis=0)\n",
    "\n",
    "closest = closest_centroid(X, centroids)\n",
    "closest"
   ]
  },
  {
   "cell_type": "code",
   "execution_count": null,
   "metadata": {
    "slideshow": {
     "slide_type": "slide"
    }
   },
   "outputs": [],
   "source": [
    "def move_centroids(X, closest, centroids):\n",
    "    return np.array([X[closest==k].mean(axis=0) for k in range(centroids.shape[0])])"
   ]
  },
  {
   "cell_type": "code",
   "execution_count": null,
   "metadata": {
    "slideshow": {
     "slide_type": "fragment"
    }
   },
   "outputs": [],
   "source": [
    "centroids = initialize_centroids(X, 4)"
   ]
  },
  {
   "cell_type": "code",
   "execution_count": null,
   "metadata": {
    "slideshow": {
     "slide_type": "fragment"
    }
   },
   "outputs": [],
   "source": [
    "runs=[1,2,3,4,5,6,7,8,9]\n",
    "\n",
    "for run in runs:\n",
    "    closest = closest_centroid(X, centroids)\n",
    "    centroids = move_centroids(X, closest, centroids)\n",
    "\n",
    "    grid = sns.JointGrid(X[:,0],X[:,1], space=0, size=6, ratio=50)\n",
    "    grid.plot_joint(plt.scatter, color=\"g\")\n",
    "    plt.scatter(centroids[:,0], centroids[:,1], color='r')"
   ]
  },
  {
   "cell_type": "markdown",
   "metadata": {
    "slideshow": {
     "slide_type": "slide"
    }
   },
   "source": [
    "### Excercise 6\n",
    "\n",
    "- Create a null vector of size 10\n",
    "- Create a random sorted vector of size 10\n",
    "- Create a 3x3 matrix with values ranging from 0 to 8\n",
    "- Create a 5x5 array with 2 on the border and 0 inside \n",
    "- Create a 8x8 matrix and fill it with a checkerboard pattern\n",
    "- Create a random array and subtract the mean of each row of a matrix \n",
    "\n",
    "\n",
    "Additional:\n",
    "- Consider a random 10x2 matrix representing cartesian coordinates, convert them to polar coordinate\n",
    "- Consider a random vector with shape (100,2) representing coordinates, find point by point distances "
   ]
  },
  {
   "cell_type": "markdown",
   "metadata": {
    "slideshow": {
     "slide_type": "slide"
    }
   },
   "source": [
    "## Powerful pandas\n",
    "\n",
    "<img src=\"images/pandas.png\"  width=300 align=right />\n",
    "\n",
    "\n",
    "Pandas is a very powerful and flexible tool for data munging and preparing. \n",
    "\n",
    "Pandas deals with 3 data structures:\n",
    "- **Series**: homogeneous 1-dimensional array\n",
    "- **DataFrames**: heterogenous 2-dimensional array\n",
    "- **Panel**: heterogenous 3-dimensional array\n"
   ]
  },
  {
   "cell_type": "markdown",
   "metadata": {
    "slideshow": {
     "slide_type": "fragment"
    }
   },
   "source": [
    "<img src=\"images/dataframe.png\" width=600   />"
   ]
  },
  {
   "cell_type": "markdown",
   "metadata": {
    "slideshow": {
     "slide_type": "slide"
    }
   },
   "source": [
    "## Create a pandas series"
   ]
  },
  {
   "cell_type": "code",
   "execution_count": null,
   "metadata": {
    "slideshow": {
     "slide_type": "fragment"
    }
   },
   "outputs": [],
   "source": [
    "import pandas as pd\n",
    "import numpy as np\n",
    "\n",
    "\n",
    "data = np.array(['Dave','Jim','Rosalee','Alex','Lucy','Anna'])\n",
    "s = pd.Series(data)\n",
    "s\n",
    "\n",
    "\n",
    "# You can also create a series from dict\n",
    "data = {'Dave' : 0., 'Jim' : 1., 'Rosalee' : 2.,'Alex': 3., 'Lucy': 4., 'Anna':5.}\n",
    "s = pd.Series(data,index=['Dave','Jim','Rosalee','Alex','Lucy','Anna'])\n",
    "s\n",
    "\n",
    "#You can access the data from a series with the postiion\n",
    "s = pd.Series([0.,1.,2.,3.,4.,5.,],index=['Dave','Jim','Rosalee','Alex','Lucy','Anna'])\n",
    "type(s)"
   ]
  },
  {
   "cell_type": "markdown",
   "metadata": {
    "slideshow": {
     "slide_type": "slide"
    }
   },
   "source": [
    "## Accessing pandas series"
   ]
  },
  {
   "cell_type": "code",
   "execution_count": null,
   "metadata": {
    "slideshow": {
     "slide_type": "fragment"
    }
   },
   "outputs": [],
   "source": [
    "##retrieve the first element\n",
    "s[0]\n",
    "\n",
    "#retrieve the first 2 element\n",
    "s[:2]\n",
    "\n",
    "\n",
    "##retrieve the last 2 element\n",
    "s[-2:]\n",
    "\n",
    "# And you can access data from a series using an index\n",
    "s['Dave']\n",
    "\n",
    "\n",
    "# multiple indices\n",
    "s[['Dave', 'Alex', 'Lucy']]"
   ]
  },
  {
   "cell_type": "markdown",
   "metadata": {
    "slideshow": {
     "slide_type": "slide"
    }
   },
   "source": [
    "## Pandas DataFrame"
   ]
  },
  {
   "cell_type": "code",
   "execution_count": null,
   "metadata": {
    "slideshow": {
     "slide_type": "fragment"
    }
   },
   "outputs": [],
   "source": [
    "data = [['Dave',35],['Jim',40],['Rosalee',37],['Alex',24],['Lucy',28],['Anna',45]]\n",
    "df = pd.DataFrame(data,columns=['Name','Age'])\n",
    "df\n",
    "\n",
    "# changing data type with dtype\n",
    "\n",
    "data = [['Dave',35],['Jim',40],['Rosalee',37],['Alex',24],['Lucy',28],['Anna',45]]\n",
    "df = pd.DataFrame(data,columns=['Name','Age'],dtype=\"float\")\n",
    "df\n",
    "\n",
    "# you can also combine multiple dictionaries with different data types\n",
    "\n",
    "df2 = pd.DataFrame({ 'Number' : np.array([3] * 6,dtype='int32'),\n",
    "                    'Time' : pd.Timestamp.today(),\n",
    "                    'Name' : pd.Series(['Dave','Jim','Rosalee','Alex','Lucy','Anna'], index=list(range(6))),\n",
    "                    'Age' : np.array([25,40,37,24,28,45]),\n",
    "                    'Sex' : pd.Categorical([\"male\",\"male\",\"female\",\"male\",\"female\",\"female\"])})\n",
    "df2"
   ]
  },
  {
   "cell_type": "code",
   "execution_count": null,
   "metadata": {
    "slideshow": {
     "slide_type": "slide"
    }
   },
   "outputs": [],
   "source": [
    "pd.DataFrame({\"a\" : [4 ,5, 6], \"b\" : [7, 8, 9], \"c\" : [10, 11, 12]},    index = pd.MultiIndex.from_tuples([('d',1),('d',2),('e',2)],names=['n','v']))"
   ]
  },
  {
   "cell_type": "markdown",
   "metadata": {
    "slideshow": {
     "slide_type": "slide"
    }
   },
   "source": [
    "## Reshaping data"
   ]
  },
  {
   "cell_type": "code",
   "execution_count": null,
   "metadata": {
    "slideshow": {
     "slide_type": "fragment"
    }
   },
   "outputs": [],
   "source": [
    "df= pd.DataFrame([[4, 7, 10],[5, 8, 11],[6, 9, 12]], index=[1, 2, 3], columns=['a', 'b', 'c'])\n",
    "df\n",
    "\n",
    "df = pd.melt(df)\n",
    "df\n",
    "\n",
    "df2 = pd.DataFrame({ 'Number' : np.array([3] * 6,dtype='int32'),\n",
    "                    'Time' : pd.Timestamp.today(),\n",
    "                    'Name' : pd.Series(['Dave','Jim','Rosalee','Alex','Lucy','Anna'], index=list(range(6))),\n",
    "                    'Age' : np.array([25,40,37,24,28,45]),\n",
    "                    'Sex' : pd.Categorical([\"male\",\"male\",\"female\",\"male\",\"female\",\"female\"]),\n",
    "                    'Grade' : np.array([2,4,3,2,2,5]),\n",
    "                   })\n",
    "df3 = pd.pivot_table(df2,values=\"Age\", index='Sex', columns='Grade')\n",
    "\n",
    "df3"
   ]
  },
  {
   "cell_type": "code",
   "execution_count": null,
   "metadata": {
    "slideshow": {
     "slide_type": "slide"
    }
   },
   "outputs": [],
   "source": [
    "df1= pd.DataFrame([[4, 7, 10],[5, 8, 11],[6, 9, 12]], index=[1, 2, 3], columns=['a', 'b', 'c'])\n",
    "df2= pd.DataFrame([[4, 7, 10],[5, 8, 11],[6, 9, 12]], index=[1, 2, 3], columns=['d', 'e', 'f'])\n",
    "\n",
    "pd.concat([df1,df2])\n",
    "pd.concat([df1,df2], axis=1)"
   ]
  },
  {
   "cell_type": "markdown",
   "metadata": {
    "slideshow": {
     "slide_type": "slide"
    }
   },
   "source": [
    "## Working with actual data"
   ]
  },
  {
   "cell_type": "markdown",
   "metadata": {
    "slideshow": {
     "slide_type": "fragment"
    }
   },
   "source": [
    "##### The Berkeley Earth Surface Temperature Data Set\n",
    "\n",
    "The Berkeley Earth Surface Temperature Study combines 1.6 billion temperature reports from 16 pre-existing archives. It is nicely packaged and allows for slicing into interesting subsets (for example by country). They publish the source data and the code for the transformations they applied. They also use methods that allow weather observations from shorter time series to be included, meaning fewer observations need to be thrown away.\n",
    "\n",
    "Data\n",
    "\n",
    "- Global Land and Ocean-and-Land Temperatures (GlobalTemperatures.csv)\n",
    "- Global Average Land Temperature by Country (GlobalLandTemperaturesByCountry.csv)\n",
    "- Global Average Land Temperature by State (GlobalLandTemperaturesByState.csv)\n",
    "- Global Land Temperatures By Major City (GlobalLandTemperaturesByMajorCity.csv)\n",
    "- Global Land Temperatures By City (GlobalLandTemperaturesByCity.csv)"
   ]
  },
  {
   "cell_type": "markdown",
   "metadata": {
    "slideshow": {
     "slide_type": "slide"
    }
   },
   "source": [
    "## Reading data into pandas"
   ]
  },
  {
   "cell_type": "code",
   "execution_count": null,
   "metadata": {
    "slideshow": {
     "slide_type": "fragment"
    }
   },
   "outputs": [],
   "source": [
    "import os\n",
    "import numpy as np\n",
    "import pandas as pd\n",
    "\n",
    "# os.chdir(\"/home/steve/SpatialPythonCourse2020\") # set your working directory first, e.g.\n",
    "# Hint: [Control + L] in your working directory to jump to the directory link\n",
    "\n",
    "data = './Data/non-spatial/GlobalLandTemperatures/GlobalLandTemperaturesByCountry.csv'\n",
    "\n",
    "df = pd.read_csv(data, sep=',')\n",
    "df"
   ]
  },
  {
   "cell_type": "markdown",
   "metadata": {
    "slideshow": {
     "slide_type": "slide"
    }
   },
   "source": [
    "## Basic information"
   ]
  },
  {
   "cell_type": "markdown",
   "metadata": {
    "slideshow": {
     "slide_type": "fragment"
    }
   },
   "source": [
    "- df.shape:            (rows,columns)        \n",
    "- df.index:           Describe index \n",
    "- df.columns:          Describe DataFrame columns\n",
    "- df.info():           Info on DataFrame\n",
    "- df.count():          Number of non-NA value"
   ]
  },
  {
   "cell_type": "markdown",
   "metadata": {
    "slideshow": {
     "slide_type": "slide"
    }
   },
   "source": [
    "Pandas provides a lot of nice functions which make data manipulation is quite easy. Tab completion for column names (as well as public attributes) is automatically enabled.\n",
    "Just use: df.<TAB>"
   ]
  },
  {
   "cell_type": "code",
   "execution_count": null,
   "metadata": {
    "slideshow": {
     "slide_type": "fragment"
    }
   },
   "outputs": [],
   "source": [
    "df.head()              # show data head"
   ]
  },
  {
   "cell_type": "code",
   "execution_count": null,
   "metadata": {
    "slideshow": {
     "slide_type": "fragment"
    }
   },
   "outputs": [],
   "source": [
    "df.tail()               # show data tail"
   ]
  },
  {
   "cell_type": "code",
   "execution_count": null,
   "metadata": {
    "slideshow": {
     "slide_type": "slide"
    }
   },
   "outputs": [],
   "source": [
    "df.index               # display index"
   ]
  },
  {
   "cell_type": "code",
   "execution_count": null,
   "metadata": {
    "slideshow": {
     "slide_type": "fragment"
    }
   },
   "outputs": [],
   "source": [
    "df.columns             # display column names"
   ]
  },
  {
   "cell_type": "code",
   "execution_count": null,
   "metadata": {
    "slideshow": {
     "slide_type": "fragment"
    }
   },
   "outputs": [],
   "source": [
    "df.values              # display underlying numpy data"
   ]
  },
  {
   "cell_type": "code",
   "execution_count": null,
   "metadata": {
    "slideshow": {
     "slide_type": "slide"
    }
   },
   "outputs": [],
   "source": [
    "sort = df.sort_values(by='AverageTemperature')\n",
    "sort.head()"
   ]
  },
  {
   "cell_type": "markdown",
   "metadata": {
    "slideshow": {
     "slide_type": "slide"
    }
   },
   "source": [
    "## Accessing data"
   ]
  },
  {
   "cell_type": "markdown",
   "metadata": {
    "slideshow": {
     "slide_type": "fragment"
    }
   },
   "source": [
    "For selecting data parts we can use the classic Python/Numpy indexing operators [] and attribute operator. Additionally pandas also provides optimized methods"
   ]
  },
  {
   "cell_type": "code",
   "execution_count": null,
   "metadata": {
    "scrolled": true,
    "slideshow": {
     "slide_type": "fragment"
    }
   },
   "outputs": [],
   "source": [
    "# You can access an index directly as an attribute:\n",
    "print(df.dt)\n",
    "# or\n",
    "print(df['dt'])"
   ]
  },
  {
   "cell_type": "code",
   "execution_count": null,
   "metadata": {
    "slideshow": {
     "slide_type": "fragment"
    }
   },
   "outputs": [],
   "source": [
    "# slicing inside of [] slices the rows\n",
    "df[:5]\n",
    "df[::-1]"
   ]
  },
  {
   "cell_type": "code",
   "execution_count": null,
   "metadata": {
    "slideshow": {
     "slide_type": "slide"
    }
   },
   "outputs": [],
   "source": [
    "df.iloc[0]         # select first row\n",
    "df.iloc[1]         # select second row\n",
    "df.iloc[-1]        # select last row\n",
    "df.iloc[:,0]       # select first column\n",
    "df.iloc[:,1]       # select second column\n",
    "df.loc[[0],['Country','AverageTemperature']] # select single value by row number and column label"
   ]
  },
  {
   "cell_type": "code",
   "execution_count": null,
   "metadata": {
    "slideshow": {
     "slide_type": "slide"
    }
   },
   "outputs": [],
   "source": [
    "# Select by condition\n",
    "df_BFA = df.loc[df['Country'] == 'Burkina Faso']\n",
    "df_BFA.head()"
   ]
  },
  {
   "cell_type": "code",
   "execution_count": null,
   "metadata": {
    "slideshow": {
     "slide_type": "fragment"
    }
   },
   "outputs": [],
   "source": [
    "# Select by multiple condition\n",
    "dfsub = df.loc[(df['Country'] == 'Burkina Faso') & (df['dt'] >= '1990-01-01')]\n",
    "dfsub.head()"
   ]
  },
  {
   "cell_type": "code",
   "execution_count": null,
   "metadata": {
    "slideshow": {
     "slide_type": "slide"
    }
   },
   "outputs": [],
   "source": [
    "# dropping and adding columns\n",
    "\n",
    "country = df['Country'] \n",
    "df2 =df.drop('Country', axis=1)\n",
    "df2.head(3)\n",
    "\n",
    "df2['Country'] = country\n",
    "df2.head(3)"
   ]
  },
  {
   "cell_type": "markdown",
   "metadata": {
    "slideshow": {
     "slide_type": "slide"
    }
   },
   "source": [
    "## Advanced indexing"
   ]
  },
  {
   "cell_type": "code",
   "execution_count": null,
   "metadata": {
    "slideshow": {
     "slide_type": "fragment"
    }
   },
   "outputs": [],
   "source": [
    "df.loc[:,df.isnull().any()]              #Select cols with NaN\n",
    "df.loc[:,df.notnull().all()]             #Select cols without NaN  Indexing With isin"
   ]
  },
  {
   "cell_type": "code",
   "execution_count": null,
   "metadata": {
    "slideshow": {
     "slide_type": "fragment"
    }
   },
   "outputs": [],
   "source": [
    "df.where(df['AverageTemperature'] > 0) "
   ]
  },
  {
   "cell_type": "markdown",
   "metadata": {
    "slideshow": {
     "slide_type": "slide"
    }
   },
   "source": [
    "## Data manipulation"
   ]
  },
  {
   "cell_type": "markdown",
   "metadata": {
    "slideshow": {
     "slide_type": "fragment"
    }
   },
   "source": [
    "Renaming the columns and the row index"
   ]
  },
  {
   "cell_type": "code",
   "execution_count": null,
   "metadata": {
    "slideshow": {
     "slide_type": "fragment"
    }
   },
   "outputs": [],
   "source": [
    "# rename columns\n",
    "df.columns = ['dt','AverageTemperature', 'Uncertainty', 'Country']\n",
    "df.head()\n",
    "df0= df.rename(columns = {'dt':'datetime'})\n",
    "df0.head()\n",
    "\n",
    "# rename rows\n",
    "df1 = df0.set_index('datetime')                   \n",
    "df1.head()\n",
    "df2 = df1.reset_index()            \n",
    "df2.head()"
   ]
  },
  {
   "cell_type": "code",
   "execution_count": null,
   "metadata": {
    "slideshow": {
     "slide_type": "slide"
    }
   },
   "outputs": [],
   "source": [
    "# Sorting values\n",
    "df.sort_values('AverageTemperature')                   #Order rows by values of a column (low to high).\n",
    "df.sort_values('AverageTemperature', ascending=False)   #Order rows by values of a column (high to low).\n",
    "df2 = df.set_index('dt')\n",
    "df2.sort_index()"
   ]
  },
  {
   "cell_type": "markdown",
   "metadata": {
    "slideshow": {
     "slide_type": "slide"
    }
   },
   "source": [
    "## Summarize Data"
   ]
  },
  {
   "cell_type": "code",
   "execution_count": null,
   "metadata": {
    "slideshow": {
     "slide_type": "fragment"
    }
   },
   "outputs": [],
   "source": [
    "len(df)                 # of rows in DataFrame.\n",
    "df['Country'].value_counts()  # Count number of rows with each unique value of variable\n",
    "df['Country'].nunique()       # of distinct values in a column"
   ]
  },
  {
   "cell_type": "markdown",
   "metadata": {
    "slideshow": {
     "slide_type": "slide"
    }
   },
   "source": [
    "Pandas provides a large set of summary functions that operate on different kinds of pandas object"
   ]
  },
  {
   "cell_type": "markdown",
   "metadata": {
    "slideshow": {
     "slide_type": "fragment"
    }
   },
   "source": [
    "- **sum():**                 Sum values of each object.\n",
    "- **count():**               Count non-NA/null values of each object.\n",
    "- **median():**              Median value of each object.\n",
    "- **quantile([0.25,0.75]):** Quantiles of each object.\n",
    "- **apply(function):** Apply function to each object.\n",
    "- **min():** Minimum value in each object.\n",
    "- **max():** maximum value in each object.\n",
    "- **mean():** Mean value of each object.\n",
    "- **var():** Variance of each object.\n",
    "- **std():** Standard deviation of each object"
   ]
  },
  {
   "cell_type": "markdown",
   "metadata": {
    "slideshow": {
     "slide_type": "slide"
    }
   },
   "source": [
    "## Handling Missing Data"
   ]
  },
  {
   "cell_type": "code",
   "execution_count": null,
   "metadata": {
    "slideshow": {
     "slide_type": "fragment"
    }
   },
   "outputs": [],
   "source": [
    "df.head()\n",
    "df2 = df.dropna() #Drop rows with any column having NA/null \n",
    "df2.head()\n",
    "df3 = df.fillna(-999) # fill na values\n",
    "df3.head()"
   ]
  },
  {
   "cell_type": "markdown",
   "metadata": {
    "slideshow": {
     "slide_type": "slide"
    }
   },
   "source": [
    "## Group Data"
   ]
  },
  {
   "cell_type": "code",
   "execution_count": null,
   "metadata": {
    "slideshow": {
     "slide_type": "fragment"
    }
   },
   "outputs": [],
   "source": [
    "df.groupby(by=\"Country\")      #group by values in column \n",
    "df.groupby(['dt'])['AverageTemperature'].mean()"
   ]
  },
  {
   "cell_type": "markdown",
   "metadata": {
    "slideshow": {
     "slide_type": "slide"
    }
   },
   "source": [
    "## Apply functions"
   ]
  },
  {
   "cell_type": "code",
   "execution_count": null,
   "metadata": {
    "slideshow": {
     "slide_type": "fragment"
    }
   },
   "outputs": [],
   "source": [
    "# Apply functions to dataframe\n",
    "def cel2fahr(x):\n",
    "    \n",
    "    x = 1.8 * x + 32\n",
    "    return(x)    \n",
    "\n",
    "def fahr2cel(x):\n",
    "    \n",
    "    x = (x - 32) / 1.8\n",
    "    return(x)"
   ]
  },
  {
   "cell_type": "code",
   "execution_count": null,
   "metadata": {
    "slideshow": {
     "slide_type": "fragment"
    }
   },
   "outputs": [],
   "source": [
    "df[\"AverageTemperatureFahrenheit\"] = df[\"AverageTemperature\"].apply(cel2fahr)\n",
    "\n",
    "df.head()"
   ]
  },
  {
   "cell_type": "code",
   "execution_count": null,
   "metadata": {
    "slideshow": {
     "slide_type": "slide"
    }
   },
   "outputs": [],
   "source": [
    "# Writing pandas data to file\n",
    "df.to_csv(\"Data/non-spatial/GlobalLandTemperatures/GSTbyCountry_annual.csv\")"
   ]
  },
  {
   "cell_type": "markdown",
   "metadata": {
    "slideshow": {
     "slide_type": "slide"
    }
   },
   "source": [
    "## Exercise 7\n",
    "\n",
    "- Import ***GlobalLandTemperaturesByMajorCity.csv***\n",
    "- Look at the first 5 entries\n",
    "- Print the name of all the columns\n",
    "- What is the number of observations in the dataset?\n",
    "-  Display a summary of the basic information about this DataFrame and its data.\n",
    "- Select just the 'AverageTemperature' and 'City' columns from the DataFrame\n",
    "- Count the number of cities in the dataset\n",
    "- Calculate the mean temperature for each city over all years. Sort the values in the 'AverageTemperature' - in decending order\n",
    "- Calculate the maximal AverageTemperature in european cities between 1990 and 2013"
   ]
  },
  {
   "cell_type": "code",
   "execution_count": null,
   "metadata": {},
   "outputs": [],
   "source": [
    "please in the exercise7 intead of writing all the city name in europe I thing it is better to find them by \n",
    "the coordinates. Thus, I have tried this but it is giving me some countries out of europe\n",
    "#Calculate the maximal AverageTemperature in european  \n",
    "#cities between 1990 and 2013 \n",
    "avt_cityc = df[['dt','City','AverageTemperature','Latitude','Longitude']] \n",
    "avt_cityc.rename(columns = {'dt':'date', 'AverageTemperature': 'AverageTemp', 'Latitude':'Lat', 'Longitude':'Lon'})  \n",
    " \n",
    "eur_city = avt_cityc[avt_cityc['Latitude'].between('35N', '75N') & (avt_cityc['Longitude'].between('25N', '60N'))]\n",
    "print(temp_city.head(5))\n",
    "temp_city = temp.loc[:,['AverageTemperature','City']]\n",
    "temp_europe = temp.loc[((temp['Latitude'] >= '35N') & (temp['Latitude'] <= '70N'))  \n",
    "& ((temp['Longitude'] >= '20W') & (temp['Longitude'] <= '60E'))  \n",
    "& ((temp['dt'] >= '1990-01-01') & (temp['dt'] <= '2013-12-31'))]"
   ]
  },
  {
   "cell_type": "markdown",
   "metadata": {
    "slideshow": {
     "slide_type": "slide"
    }
   },
   "source": [
    " ## Visualize data with python\n",
    "\n",
    "Producing high-quality graphics is one of the main reasons for doing statistical computing. For this purpose, we will use the matplotlib library, which is probably the most used python library for 2D-graphics. Matplotlib is the \"grandfather\" library of data visualization with Python. It was created by John Hunter. Matplotlib allows a quick data visualization and the creation of publication-quality figures.\n",
    "Import matplotlib's pyplot module as well as numpy and pandas.\n",
    "(Pyplot is a module in the matplotlib package. The module allows you to implicitly and automatically create figures and axes)"
   ]
  },
  {
   "cell_type": "markdown",
   "metadata": {},
   "source": [
    "Some of the major Pros of Matplotlib are:\n",
    "\n",
    "- easy to get started for simple plots\n",
    "- custom labels and texts\n",
    "- control of every element in a figure\n",
    "- high-quality output in many formats\n",
    " "
   ]
  },
  {
   "cell_type": "code",
   "execution_count": null,
   "metadata": {
    "slideshow": {
     "slide_type": "fragment"
    }
   },
   "outputs": [],
   "source": [
    "import matplotlib.pyplot as plt\n",
    "import numpy as np\n",
    "import pandas as pd"
   ]
  },
  {
   "cell_type": "markdown",
   "metadata": {
    "slideshow": {
     "slide_type": "slide"
    }
   },
   "source": [
    "Let´s start with something easy. The code below creates a basic plot. The np.linspace function is used to create an array with evenly spaced numbers over a specified interval.\n",
    "In Matplotlib the plot() functions is used to create the plot. If want display the plot you have to use the show() function."
   ]
  },
  {
   "cell_type": "code",
   "execution_count": null,
   "metadata": {
    "slideshow": {
     "slide_type": "fragment"
    }
   },
   "outputs": [],
   "source": [
    "import random\n",
    "# Make the plot reproducible\n",
    "random.seed(1)\n",
    "# Allow plotting in the notebook\n",
    "%matplotlib inline\n",
    "# Create some fake data\n",
    "data1 = [random.randint(0, 50) for i in range(70)]"
   ]
  },
  {
   "cell_type": "code",
   "execution_count": null,
   "metadata": {
    "slideshow": {
     "slide_type": "fragment"
    }
   },
   "outputs": [],
   "source": [
    "plt.plot(data1, \"-\")"
   ]
  },
  {
   "cell_type": "code",
   "execution_count": null,
   "metadata": {
    "slideshow": {
     "slide_type": "slide"
    }
   },
   "outputs": [],
   "source": [
    "plt.plot(data1, \"*\")"
   ]
  },
  {
   "cell_type": "markdown",
   "metadata": {
    "slideshow": {
     "slide_type": "slide"
    }
   },
   "source": [
    "#### Basic Matplotlib Commands"
   ]
  },
  {
   "cell_type": "markdown",
   "metadata": {
    "slideshow": {
     "slide_type": "subslide"
    }
   },
   "source": [
    "We can create a very simple line plot using the following code "
   ]
  },
  {
   "cell_type": "code",
   "execution_count": null,
   "metadata": {
    "slideshow": {
     "slide_type": "subslide"
    }
   },
   "outputs": [],
   "source": [
    "x = np.linspace(0, 5, 11)\n",
    "y = x ** 2"
   ]
  },
  {
   "cell_type": "code",
   "execution_count": null,
   "metadata": {
    "slideshow": {
     "slide_type": "subslide"
    }
   },
   "outputs": [],
   "source": [
    "plt.plot(x, y, 'r') # 'r' == red\n",
    "plt.xlabel('X Axis')\n",
    "plt.ylabel('Y Axis')\n",
    "plt.title('Title')\n",
    "plt.show()"
   ]
  },
  {
   "cell_type": "code",
   "execution_count": null,
   "metadata": {
    "slideshow": {
     "slide_type": "slide"
    }
   },
   "outputs": [],
   "source": [
    "# Create a second dataset to plot also\n",
    "import random\n",
    "random.seed(0)\n",
    "data2 = [random.randint(0, 50) for i in range(70)]\n",
    "# Make the plotting\n",
    "plt.plot(data1, \"-\", color=\"black\", label=\"data1\")\n",
    "plt.plot(data2, \"-\", color=\"red\", label=\"data2\")\n",
    "plt.xlabel(\"Index\")\n",
    "plt.ylabel(\"Data\")\n",
    "# Also label the figure as a whole\n",
    "plt.title(\"Two wonderful graphs\")\n",
    "# And finally simply call the legend \n",
    "plt.legend()\n",
    "plt.show()"
   ]
  },
  {
   "cell_type": "markdown",
   "metadata": {
    "slideshow": {
     "slide_type": "slide"
    }
   },
   "source": [
    "####  Object Oriented Method\n",
    "\n",
    "The main idea in using the more formal Object Oriented method is to create figure objects and then just call methods or attributes off of that object.\n",
    "\n",
    "<img src=\"images/matplot.png\"/>\n"
   ]
  },
  {
   "cell_type": "code",
   "execution_count": null,
   "metadata": {
    "slideshow": {
     "slide_type": "slide"
    }
   },
   "outputs": [],
   "source": [
    "# Create Figure (empty canvas)\n",
    "fig = plt.figure()\n",
    "\n",
    "# Add set of axes to figure\n",
    "axes = fig.add_axes([0.1, 0.1, 0.8, 0.8]) # left, bottom, width, height (range 0 to 1)\n",
    "\n",
    "# Plot on that set of axes\n",
    "axes.plot(x, y, 'b')\n",
    "axes.set_xlabel('Label X') # Notice the use of set_ to begin methods\n",
    "axes.set_ylabel('Label Y')\n",
    "axes.set_title('Title')\n",
    "\n"
   ]
  },
  {
   "cell_type": "markdown",
   "metadata": {
    "slideshow": {
     "slide_type": "slide"
    }
   },
   "source": [
    "Although this looks more complicated using this method gives us full control over the plot"
   ]
  },
  {
   "cell_type": "code",
   "execution_count": null,
   "metadata": {
    "slideshow": {
     "slide_type": "subslide"
    }
   },
   "outputs": [],
   "source": [
    "# Creates blank canvas\n",
    "fig = plt.figure()\n",
    "\n",
    "axes1 = fig.add_axes([0.1, 0.1, 0.8, 0.8]) # main axes\n",
    "axes2 = fig.add_axes([0.2, 0.5, 0.4, 0.3]) # inset axes\n",
    "\n",
    "# Larger Figure Axes 1\n",
    "axes1.plot(x, y, 'b')\n",
    "axes1.set_xlabel('X_label_axes2')\n",
    "axes1.set_ylabel('Y_label_axes2')\n",
    "axes1.set_title('Axes 2 Title')\n",
    "\n",
    "# Insert Figure Axes 2\n",
    "axes2.plot(y, x, 'r')\n",
    "axes2.set_xlabel('X_label_axes2')\n",
    "axes2.set_ylabel('Y_label_axes2')\n",
    "axes2.set_title('Axes 2 Title');"
   ]
  },
  {
   "cell_type": "code",
   "execution_count": null,
   "metadata": {
    "slideshow": {
     "slide_type": "fragment"
    }
   },
   "outputs": [],
   "source": [
    "import numpy as np\n",
    "import matplotlib.pyplot as plt\n",
    "\n",
    "# Figure size\n",
    "plt.figure(figsize=(8, 6), dpi=80)\n",
    "\n",
    "\n",
    "# new subplot \n",
    "plt.subplot(1, 1, 1)\n",
    "X = np.linspace(-np.pi, np.pi, 256, endpoint=True)\n",
    "C, S = np.cos(X), np.sin(X)\n",
    "# Plot cosine \n",
    "plt.plot(X, C, color=\"red\", linewidth=4.0, linestyle=\"-\",label='cosine')\n",
    "# Plot sine \n",
    "plt.plot(X, S, color=\"yellow\", linewidth=1.0, linestyle=\"-\",label='sine')\n",
    "# X-axes limits\n",
    "plt.xlim(-4.0, 4.0)\n",
    "# X-axes ticks\n",
    "plt.xticks(np.linspace(-4, 4, 9, endpoint=True))\n",
    "# Y-axes limits\n",
    "plt.ylim(-1.0, 1.0)\n",
    "# Y-axes ticks\n",
    "plt.yticks(np.linspace(-1, 1, 5, endpoint=True))\n",
    "# Save figure using 72 dots per inch\n",
    "# plt.savefig(\"exercice_2.png\", dpi=72)\n",
    "plt.legend(loc='upper left')\n",
    "# Show result on screen\n",
    "plt.show()"
   ]
  },
  {
   "cell_type": "markdown",
   "metadata": {
    "slideshow": {
     "slide_type": "slide"
    }
   },
   "source": [
    "Let's make some plots with some real data"
   ]
  },
  {
   "cell_type": "code",
   "execution_count": null,
   "metadata": {
    "slideshow": {
     "slide_type": "subslide"
    }
   },
   "outputs": [],
   "source": [
    "import pandas as pd\n",
    "\n",
    "global_temp=pd.read_csv(\"Data/non-spatial/GlobalLandTemperatures/GlobalLandTemperaturesByCountry.csv\")\n",
    "global_temp.head()"
   ]
  },
  {
   "cell_type": "code",
   "execution_count": null,
   "metadata": {
    "slideshow": {
     "slide_type": "slide"
    }
   },
   "outputs": [],
   "source": [
    "# Average temp by year\n",
    "global_temp['dt'] = pd.to_datetime(global_temp['dt'])\n",
    "\n",
    "# Set the datetime column as the index\n",
    "global_temp.index = global_temp['dt'] \n",
    "global_temp=global_temp.groupby([global_temp.index.year])['AverageTemperature','AverageTemperatureUncertainty'].mean().reset_index()\n",
    "print(global_temp)\n"
   ]
  },
  {
   "cell_type": "code",
   "execution_count": null,
   "metadata": {
    "slideshow": {
     "slide_type": "slide"
    }
   },
   "outputs": [],
   "source": [
    "import matplotlib.pyplot as plt\n",
    "\n",
    "fig = plt.figure(figsize=[20,8])\n",
    "ax = plt.axes()\n",
    "line, = ax.plot(global_temp['dt'], global_temp['AverageTemperature'], lw=2) # lw = linewidth\n",
    "plt.xticks(rotation='vertical')\n",
    "plt.show()\n"
   ]
  },
  {
   "cell_type": "code",
   "execution_count": null,
   "metadata": {
    "slideshow": {
     "slide_type": "slide"
    }
   },
   "outputs": [],
   "source": [
    "plt.figure(figsize=(12, 6))\n",
    "plt.scatter(global_temp['dt'], global_temp['AverageTemperature'], c=global_temp['AverageTemperature'], s=150, alpha=0.6, edgecolors='none', cmap='viridis')\n",
    "plt.grid(True)\n",
    "plt.title(\"Average Global Temperatures\")\n",
    "plt.xlabel(\"Year\")\n",
    "plt.ylabel(\"Temperature (Celsius)\")\n",
    "plt.show()"
   ]
  },
  {
   "cell_type": "code",
   "execution_count": null,
   "metadata": {
    "scrolled": true,
    "slideshow": {
     "slide_type": "slide"
    }
   },
   "outputs": [],
   "source": [
    "plt.figure(figsize=(12, 6))\n",
    "plt.plot(global_temp['dt'], (global_temp['AverageTemperature'] + global_temp['AverageTemperatureUncertainty']), c='purple', label='Average Uncertainty Field')\n",
    "plt.plot(global_temp['dt'], (global_temp['AverageTemperature'] - global_temp['AverageTemperatureUncertainty']), c='purple')\n",
    "plt.fill_between(global_temp['dt'], (global_temp['AverageTemperature'] + global_temp['AverageTemperatureUncertainty']), (global_temp['AverageTemperature'] - global_temp['AverageTemperatureUncertainty']), facecolor='lightblue')\n",
    "plt.plot(global_temp['dt'], global_temp['AverageTemperature'], linewidth=3, label='Average Temperature')\n",
    "plt.grid(True)\n",
    "plt.legend(loc='best')\n",
    "plt.title(\"Average Global Temperatures and Uncertainty Field\")\n",
    "plt.xlabel(\"Year\")\n",
    "plt.ylabel(\"Temperature (Celsius)\")\n",
    "plt.show()"
   ]
  },
  {
   "cell_type": "markdown",
   "metadata": {
    "slideshow": {
     "slide_type": "slide"
    }
   },
   "source": [
    "Another powerful Python visualization library is seaborn which is based on matplotlib. Seaborn can do the same things as matplotlib and it makes plotting easier. It is often preferred, because user think the default settings in seaborn are more pleasing then in matplotlib. And the good thing is, if you know matplotlib, seaborn is really easy to learn. \n",
    "Let´s try some nice example plots (More plot examples can be found on http://seaborn.pydata.org/). "
   ]
  },
  {
   "cell_type": "code",
   "execution_count": null,
   "metadata": {
    "slideshow": {
     "slide_type": "slide"
    }
   },
   "outputs": [],
   "source": [
    "import seaborn as sns\n",
    "sns.set(style=\"darkgrid\")\n",
    "plt.figure(figsize=(13, 8))\n",
    "ax = sns.scatterplot(global_temp['dt'], global_temp['AverageTemperature'], hue=global_temp['AverageTemperature'])"
   ]
  },
  {
   "cell_type": "code",
   "execution_count": null,
   "metadata": {
    "slideshow": {
     "slide_type": "slide"
    }
   },
   "outputs": [],
   "source": [
    "plt.figure(figsize=(13, 8))\n",
    "ax = sns.regplot(global_temp['dt'], global_temp['AverageTemperature'])"
   ]
  },
  {
   "cell_type": "code",
   "execution_count": null,
   "metadata": {},
   "outputs": [],
   "source": [
    "global_temp=pd.read_csv(\"Data/non-spatial/GlobalLandTemperatures/GlobalLandTemperaturesByCountry.csv\")\n",
    "countries = [\"Burkina Faso\",\"Germany\",\"Russia\",\"Japan\",\"Chile\",\"Kanada\"]"
   ]
  },
  {
   "cell_type": "code",
   "execution_count": null,
   "metadata": {},
   "outputs": [],
   "source": [
    "temp=global_temp[(global_temp['dt'] >= '2000') & (global_temp['Country'].isin(countries))]\n",
    "del temp['AverageTemperatureUncertainty']"
   ]
  },
  {
   "cell_type": "code",
   "execution_count": null,
   "metadata": {},
   "outputs": [],
   "source": [
    "temp.boxplot(by='Country',figsize=[15,10])"
   ]
  },
  {
   "cell_type": "code",
   "execution_count": null,
   "metadata": {},
   "outputs": [],
   "source": [
    "import seaborn as sns\n",
    "sns.set(style=\"darkgrid\")\n",
    "plt.figure(figsize=(16, 10))\n",
    "sns.boxplot(x='Country', y=\"AverageTemperature\", data=temp, palette=\"coolwarm\")"
   ]
  },
  {
   "cell_type": "code",
   "execution_count": null,
   "metadata": {},
   "outputs": [],
   "source": [
    "import seaborn as sns\n",
    "sns.set(style=\"darkgrid\")\n",
    "plt.figure(figsize=(16, 10))\n",
    "sns.lineplot(x='dt', y=\"AverageTemperature\", hue='Country' ,data=temp)"
   ]
  },
  {
   "cell_type": "markdown",
   "metadata": {},
   "source": [
    "## Visualisation alternatives\n",
    "\n",
    "Few years ago matplotlib was the only answer to the question: \"How do I make plots in python?\". But nowadays we have a lot of choices. Each library takes a slightly different approach to plotting data. Which one you use is up to you."
   ]
  },
  {
   "cell_type": "code",
   "execution_count": null,
   "metadata": {},
   "outputs": [],
   "source": [
    "import altair as alt\n",
    "from vega_datasets import data\n",
    "\n",
    "source = data.seattle_weather()\n",
    "\n",
    "scale = alt.Scale(domain=['sun', 'fog', 'drizzle', 'rain', 'snow'],\n",
    "                  range=['#e7ba52', '#a7a7a7', '#aec7e8', '#1f77b4', '#9467bd'])\n",
    "color = alt.Color('weather:N', scale=scale)\n",
    "\n",
    "# We create two selections:\n",
    "# - a brush that is active on the top panel\n",
    "# - a multi-click that is active on the bottom panel\n",
    "brush = alt.selection_interval(encodings=['x'])\n",
    "click = alt.selection_multi(encodings=['color'])\n",
    "\n",
    "# Top panel is scatter plot of temperature vs time\n",
    "points = alt.Chart().mark_point().encode(\n",
    "    alt.X('monthdate(date):T', title='Date'),\n",
    "    alt.Y('temp_max:Q',\n",
    "        title='Maximum Daily Temperature (C)',\n",
    "        scale=alt.Scale(domain=[-5, 40])\n",
    "    ),\n",
    "    color=alt.condition(brush, color, alt.value('lightgray')),\n",
    "    size=alt.Size('precipitation:Q', scale=alt.Scale(range=[5, 200]))\n",
    ").properties(\n",
    "    width=550,\n",
    "    height=300\n",
    ").add_selection(\n",
    "    brush\n",
    ").transform_filter(\n",
    "    click\n",
    ")\n",
    "\n",
    "# Bottom panel is a bar chart of weather type\n",
    "bars = alt.Chart().mark_bar().encode(\n",
    "    x='count()',\n",
    "    y='weather:N',\n",
    "    color=alt.condition(click, color, alt.value('lightgray')),\n",
    ").transform_filter(\n",
    "    brush\n",
    ").properties(\n",
    "    width=550,\n",
    ").add_selection(\n",
    "    click\n",
    ")\n",
    "\n",
    "alt.vconcat(\n",
    "    points,\n",
    "    bars,\n",
    "    data=source,\n",
    "    title=\"Seattle Weather: 2012-2015\"\n",
    ")"
   ]
  },
  {
   "cell_type": "code",
   "execution_count": null,
   "metadata": {},
   "outputs": [],
   "source": [
    "import pandas as pd\n",
    "\n",
    "global_temp=pd.read_csv(\"Data/non-spatial/GlobalLandTemperatures/GlobalLandTemperaturesByCountry.csv\")\n",
    "global_temp.head()\n",
    "\n",
    "# Average temp by year\n",
    "global_temp['dt'] = pd.to_datetime(global_temp['dt'])\n",
    "\n",
    "# Set the datetime column as the index\n",
    "global_temp.index = global_temp['dt'] \n",
    "global_temp=global_temp.groupby([global_temp.index.year])['AverageTemperature','AverageTemperatureUncertainty'].mean().reset_index()\n",
    "print(global_temp)\n"
   ]
  },
  {
   "cell_type": "code",
   "execution_count": null,
   "metadata": {},
   "outputs": [],
   "source": [
    "import plotly.graph_objs as go\n",
    "from plotly.offline import download_plotlyjs, init_notebook_mode, plot, iplot\n",
    "init_notebook_mode(connected=True)\n",
    "iplot([go.Scatter(x=global_temp.index, y=global_temp.AverageTemperature)])"
   ]
  },
  {
   "cell_type": "code",
   "execution_count": null,
   "metadata": {},
   "outputs": [],
   "source": [
    "import plotly.graph_objs as go\n",
    "from plotly.offline import download_plotlyjs, init_notebook_mode, plot, iplot\n",
    "init_notebook_mode(connected=True)\n",
    "\n",
    "trace_middle = go.Scatter(\n",
    "    x=global_temp.dt, \n",
    "    y=global_temp.AverageTemperature,\n",
    "    name = \"High\",\n",
    "    line = dict(color = '#17BECF'),\n",
    "    opacity = 0.8)\n",
    "\n",
    "trace_high = go.Scatter(\n",
    "    x=global_temp.dt, \n",
    "    y=global_temp.AverageTemperature+global_temp.AverageTemperatureUncertainty,\n",
    "    name = \"Temp\",\n",
    "    line = dict(color = '#7F7F7F'),\n",
    "    opacity = 0.8)    \n",
    "    \n",
    "trace_low = go.Scatter(\n",
    "    x=global_temp.dt,\n",
    "    y=global_temp.AverageTemperature-global_temp.AverageTemperatureUncertainty,\n",
    "    name = \"Low\",\n",
    "    line = dict(color = '#7F7F7F'),\n",
    "    opacity = 0.8)\n",
    "\n",
    "data = [trace_high,trace_middle,trace_low]\n",
    "\n",
    "layout = dict(\n",
    "    title='Time Series with Rangeslider',\n",
    "    xaxis=dict(\n",
    "        rangeselector=dict(\n",
    "            buttons=list([\n",
    "                dict(count=1,\n",
    "                     label='1m',\n",
    "                     step='month',\n",
    "                     stepmode='backward'),\n",
    "                dict(count=6,\n",
    "                     label='6m',\n",
    "                     step='month',\n",
    "                     stepmode='backward'),\n",
    "                dict(step='all')\n",
    "            ])\n",
    "        ),\n",
    "        rangeslider=dict(\n",
    "            visible = True\n",
    "        ),\n",
    "        type='date'\n",
    "    )\n",
    ")\n",
    "\n",
    "fig = dict(data=data, layout=layout)\n",
    "iplot(fig, filename = \"Time Series with Rangeslider\")"
   ]
  },
  {
   "cell_type": "markdown",
   "metadata": {
    "slideshow": {
     "slide_type": "slide"
    }
   },
   "source": [
    "#### Exercise 8\n",
    "\n",
    "- Calculate the mean temperature (all cities) for each year plot the data\n",
    "- Calculate the mean temperature of cities in West Africa for each year (between 1990 and 2013). Create a plot with 4 graphs each showing the mean temperature for one season (spring, summer, autumn, winter) per year\n",
    "- Calculate the temperature difference for each  city in 2010 and create a barplot showing the ranked temperature difference "
   ]
  }
 ],
 "metadata": {
  "celltoolbar": "Slideshow",
  "kernelspec": {
   "display_name": "Python 3",
   "language": "python",
   "name": "python3"
  },
  "language_info": {
   "codemirror_mode": {
    "name": "ipython",
    "version": 3
   },
   "file_extension": ".py",
   "mimetype": "text/x-python",
   "name": "python",
   "nbconvert_exporter": "python",
   "pygments_lexer": "ipython3",
   "version": "3.8.5"
  },
  "toc": {
   "base_numbering": 1,
   "nav_menu": {},
   "number_sections": true,
   "sideBar": true,
   "skip_h1_title": false,
   "title_cell": "Table of Contents",
   "title_sidebar": "Contents",
   "toc_cell": false,
   "toc_position": {},
   "toc_section_display": true,
   "toc_window_display": false
  }
 },
 "nbformat": 4,
 "nbformat_minor": 4
}
